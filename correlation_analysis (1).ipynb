{
  "nbformat": 4,
  "nbformat_minor": 0,
  "metadata": {
    "colab": {
      "provenance": []
    },
    "kernelspec": {
      "name": "python3",
      "display_name": "Python 3"
    },
    "language_info": {
      "name": "python"
    }
  },
  "cells": [
    {
      "cell_type": "code",
      "execution_count": 324,
      "metadata": {
        "id": "0UOXZhSqt29f"
      },
      "outputs": [],
      "source": [
        "import pandas as pd"
      ]
    },
    {
      "cell_type": "code",
      "source": [
        "import pandas as pd\n",
        "import numpy as np\n",
        "import matplotlib.pyplot as plt\n",
        "\n",
        "# Libraries to help with data visualization\n",
        "import seaborn as sns\n",
        "import matplotlib.pyplot as plt"
      ],
      "metadata": {
        "id": "wj8FSGH3woIb"
      },
      "execution_count": 325,
      "outputs": []
    },
    {
      "cell_type": "code",
      "source": [
        "df = pd.read_csv('/content/final_table.csv')"
      ],
      "metadata": {
        "id": "n-1DxRZjt6Lo"
      },
      "execution_count": 326,
      "outputs": []
    },
    {
      "cell_type": "code",
      "source": [
        "df.head()"
      ],
      "metadata": {
        "colab": {
          "base_uri": "https://localhost:8080/",
          "height": 360
        },
        "id": "I5Hn5rv-uF7H",
        "outputId": "4b980e62-df10-44cd-de29-2bb34df547e4"
      },
      "execution_count": 327,
      "outputs": [
        {
          "output_type": "execute_result",
          "data": {
            "text/plain": [
              "   Unnamed: 0  Age          Primary_streaming_service  Hours_per_day  \\\n",
              "0           0   25                        Apple Music              2   \n",
              "1           1   16            Other streaming service              4   \n",
              "2           2   22                            Spotify             10   \n",
              "3           3   26                            Spotify              6   \n",
              "4           4   18  I do not use a streaming service.              4   \n",
              "\n",
              "   While_working  Instrumentalist  Composer Fav_genre  Exploratory  \\\n",
              "0          False            False     False       EDM        False   \n",
              "1           True            False     False       EDM         True   \n",
              "2          False             True      True       EDM        False   \n",
              "3           True            False     False       EDM        False   \n",
              "4           True             True     False       EDM        False   \n",
              "\n",
              "   Foreign_languages  ... Anxiety Depression Insomnia OCD Music_effects  \\\n",
              "0               True  ...      10          3        1   4       Improve   \n",
              "1               True  ...       4          7        1   3       Improve   \n",
              "2               True  ...       4          7        7   3       Improve   \n",
              "3               True  ...      10         10        8   2     No effect   \n",
              "4               True  ...       8          7       10   6       Improve   \n",
              "\n",
              "         Date      Time  Year Month Day  \n",
              "0  2022-08-28  23:26:58  2022     8  28  \n",
              "1  2022-09-13  01:55:43  2022     9  13  \n",
              "2  2022-08-28  17:15:18  2022     8  28  \n",
              "3  2022-08-30  05:16:13  2022     8  30  \n",
              "4  2022-09-02  09:25:05  2022     9   2  \n",
              "\n",
              "[5 rows x 37 columns]"
            ],
            "text/html": [
              "\n",
              "  <div id=\"df-106d3722-bcdc-4467-9cf3-2c16115e9ec4\" class=\"colab-df-container\">\n",
              "    <div>\n",
              "<style scoped>\n",
              "    .dataframe tbody tr th:only-of-type {\n",
              "        vertical-align: middle;\n",
              "    }\n",
              "\n",
              "    .dataframe tbody tr th {\n",
              "        vertical-align: top;\n",
              "    }\n",
              "\n",
              "    .dataframe thead th {\n",
              "        text-align: right;\n",
              "    }\n",
              "</style>\n",
              "<table border=\"1\" class=\"dataframe\">\n",
              "  <thead>\n",
              "    <tr style=\"text-align: right;\">\n",
              "      <th></th>\n",
              "      <th>Unnamed: 0</th>\n",
              "      <th>Age</th>\n",
              "      <th>Primary_streaming_service</th>\n",
              "      <th>Hours_per_day</th>\n",
              "      <th>While_working</th>\n",
              "      <th>Instrumentalist</th>\n",
              "      <th>Composer</th>\n",
              "      <th>Fav_genre</th>\n",
              "      <th>Exploratory</th>\n",
              "      <th>Foreign_languages</th>\n",
              "      <th>...</th>\n",
              "      <th>Anxiety</th>\n",
              "      <th>Depression</th>\n",
              "      <th>Insomnia</th>\n",
              "      <th>OCD</th>\n",
              "      <th>Music_effects</th>\n",
              "      <th>Date</th>\n",
              "      <th>Time</th>\n",
              "      <th>Year</th>\n",
              "      <th>Month</th>\n",
              "      <th>Day</th>\n",
              "    </tr>\n",
              "  </thead>\n",
              "  <tbody>\n",
              "    <tr>\n",
              "      <th>0</th>\n",
              "      <td>0</td>\n",
              "      <td>25</td>\n",
              "      <td>Apple Music</td>\n",
              "      <td>2</td>\n",
              "      <td>False</td>\n",
              "      <td>False</td>\n",
              "      <td>False</td>\n",
              "      <td>EDM</td>\n",
              "      <td>False</td>\n",
              "      <td>True</td>\n",
              "      <td>...</td>\n",
              "      <td>10</td>\n",
              "      <td>3</td>\n",
              "      <td>1</td>\n",
              "      <td>4</td>\n",
              "      <td>Improve</td>\n",
              "      <td>2022-08-28</td>\n",
              "      <td>23:26:58</td>\n",
              "      <td>2022</td>\n",
              "      <td>8</td>\n",
              "      <td>28</td>\n",
              "    </tr>\n",
              "    <tr>\n",
              "      <th>1</th>\n",
              "      <td>1</td>\n",
              "      <td>16</td>\n",
              "      <td>Other streaming service</td>\n",
              "      <td>4</td>\n",
              "      <td>True</td>\n",
              "      <td>False</td>\n",
              "      <td>False</td>\n",
              "      <td>EDM</td>\n",
              "      <td>True</td>\n",
              "      <td>True</td>\n",
              "      <td>...</td>\n",
              "      <td>4</td>\n",
              "      <td>7</td>\n",
              "      <td>1</td>\n",
              "      <td>3</td>\n",
              "      <td>Improve</td>\n",
              "      <td>2022-09-13</td>\n",
              "      <td>01:55:43</td>\n",
              "      <td>2022</td>\n",
              "      <td>9</td>\n",
              "      <td>13</td>\n",
              "    </tr>\n",
              "    <tr>\n",
              "      <th>2</th>\n",
              "      <td>2</td>\n",
              "      <td>22</td>\n",
              "      <td>Spotify</td>\n",
              "      <td>10</td>\n",
              "      <td>False</td>\n",
              "      <td>True</td>\n",
              "      <td>True</td>\n",
              "      <td>EDM</td>\n",
              "      <td>False</td>\n",
              "      <td>True</td>\n",
              "      <td>...</td>\n",
              "      <td>4</td>\n",
              "      <td>7</td>\n",
              "      <td>7</td>\n",
              "      <td>3</td>\n",
              "      <td>Improve</td>\n",
              "      <td>2022-08-28</td>\n",
              "      <td>17:15:18</td>\n",
              "      <td>2022</td>\n",
              "      <td>8</td>\n",
              "      <td>28</td>\n",
              "    </tr>\n",
              "    <tr>\n",
              "      <th>3</th>\n",
              "      <td>3</td>\n",
              "      <td>26</td>\n",
              "      <td>Spotify</td>\n",
              "      <td>6</td>\n",
              "      <td>True</td>\n",
              "      <td>False</td>\n",
              "      <td>False</td>\n",
              "      <td>EDM</td>\n",
              "      <td>False</td>\n",
              "      <td>True</td>\n",
              "      <td>...</td>\n",
              "      <td>10</td>\n",
              "      <td>10</td>\n",
              "      <td>8</td>\n",
              "      <td>2</td>\n",
              "      <td>No effect</td>\n",
              "      <td>2022-08-30</td>\n",
              "      <td>05:16:13</td>\n",
              "      <td>2022</td>\n",
              "      <td>8</td>\n",
              "      <td>30</td>\n",
              "    </tr>\n",
              "    <tr>\n",
              "      <th>4</th>\n",
              "      <td>4</td>\n",
              "      <td>18</td>\n",
              "      <td>I do not use a streaming service.</td>\n",
              "      <td>4</td>\n",
              "      <td>True</td>\n",
              "      <td>True</td>\n",
              "      <td>False</td>\n",
              "      <td>EDM</td>\n",
              "      <td>False</td>\n",
              "      <td>True</td>\n",
              "      <td>...</td>\n",
              "      <td>8</td>\n",
              "      <td>7</td>\n",
              "      <td>10</td>\n",
              "      <td>6</td>\n",
              "      <td>Improve</td>\n",
              "      <td>2022-09-02</td>\n",
              "      <td>09:25:05</td>\n",
              "      <td>2022</td>\n",
              "      <td>9</td>\n",
              "      <td>2</td>\n",
              "    </tr>\n",
              "  </tbody>\n",
              "</table>\n",
              "<p>5 rows × 37 columns</p>\n",
              "</div>\n",
              "    <div class=\"colab-df-buttons\">\n",
              "\n",
              "  <div class=\"colab-df-container\">\n",
              "    <button class=\"colab-df-convert\" onclick=\"convertToInteractive('df-106d3722-bcdc-4467-9cf3-2c16115e9ec4')\"\n",
              "            title=\"Convert this dataframe to an interactive table.\"\n",
              "            style=\"display:none;\">\n",
              "\n",
              "  <svg xmlns=\"http://www.w3.org/2000/svg\" height=\"24px\" viewBox=\"0 -960 960 960\">\n",
              "    <path d=\"M120-120v-720h720v720H120Zm60-500h600v-160H180v160Zm220 220h160v-160H400v160Zm0 220h160v-160H400v160ZM180-400h160v-160H180v160Zm440 0h160v-160H620v160ZM180-180h160v-160H180v160Zm440 0h160v-160H620v160Z\"/>\n",
              "  </svg>\n",
              "    </button>\n",
              "\n",
              "  <style>\n",
              "    .colab-df-container {\n",
              "      display:flex;\n",
              "      gap: 12px;\n",
              "    }\n",
              "\n",
              "    .colab-df-convert {\n",
              "      background-color: #E8F0FE;\n",
              "      border: none;\n",
              "      border-radius: 50%;\n",
              "      cursor: pointer;\n",
              "      display: none;\n",
              "      fill: #1967D2;\n",
              "      height: 32px;\n",
              "      padding: 0 0 0 0;\n",
              "      width: 32px;\n",
              "    }\n",
              "\n",
              "    .colab-df-convert:hover {\n",
              "      background-color: #E2EBFA;\n",
              "      box-shadow: 0px 1px 2px rgba(60, 64, 67, 0.3), 0px 1px 3px 1px rgba(60, 64, 67, 0.15);\n",
              "      fill: #174EA6;\n",
              "    }\n",
              "\n",
              "    .colab-df-buttons div {\n",
              "      margin-bottom: 4px;\n",
              "    }\n",
              "\n",
              "    [theme=dark] .colab-df-convert {\n",
              "      background-color: #3B4455;\n",
              "      fill: #D2E3FC;\n",
              "    }\n",
              "\n",
              "    [theme=dark] .colab-df-convert:hover {\n",
              "      background-color: #434B5C;\n",
              "      box-shadow: 0px 1px 3px 1px rgba(0, 0, 0, 0.15);\n",
              "      filter: drop-shadow(0px 1px 2px rgba(0, 0, 0, 0.3));\n",
              "      fill: #FFFFFF;\n",
              "    }\n",
              "  </style>\n",
              "\n",
              "    <script>\n",
              "      const buttonEl =\n",
              "        document.querySelector('#df-106d3722-bcdc-4467-9cf3-2c16115e9ec4 button.colab-df-convert');\n",
              "      buttonEl.style.display =\n",
              "        google.colab.kernel.accessAllowed ? 'block' : 'none';\n",
              "\n",
              "      async function convertToInteractive(key) {\n",
              "        const element = document.querySelector('#df-106d3722-bcdc-4467-9cf3-2c16115e9ec4');\n",
              "        const dataTable =\n",
              "          await google.colab.kernel.invokeFunction('convertToInteractive',\n",
              "                                                    [key], {});\n",
              "        if (!dataTable) return;\n",
              "\n",
              "        const docLinkHtml = 'Like what you see? Visit the ' +\n",
              "          '<a target=\"_blank\" href=https://colab.research.google.com/notebooks/data_table.ipynb>data table notebook</a>'\n",
              "          + ' to learn more about interactive tables.';\n",
              "        element.innerHTML = '';\n",
              "        dataTable['output_type'] = 'display_data';\n",
              "        await google.colab.output.renderOutput(dataTable, element);\n",
              "        const docLink = document.createElement('div');\n",
              "        docLink.innerHTML = docLinkHtml;\n",
              "        element.appendChild(docLink);\n",
              "      }\n",
              "    </script>\n",
              "  </div>\n",
              "\n",
              "\n",
              "<div id=\"df-dbee9907-8d0d-4159-a5b7-1f7aa567269b\">\n",
              "  <button class=\"colab-df-quickchart\" onclick=\"quickchart('df-dbee9907-8d0d-4159-a5b7-1f7aa567269b')\"\n",
              "            title=\"Suggest charts\"\n",
              "            style=\"display:none;\">\n",
              "\n",
              "<svg xmlns=\"http://www.w3.org/2000/svg\" height=\"24px\"viewBox=\"0 0 24 24\"\n",
              "     width=\"24px\">\n",
              "    <g>\n",
              "        <path d=\"M19 3H5c-1.1 0-2 .9-2 2v14c0 1.1.9 2 2 2h14c1.1 0 2-.9 2-2V5c0-1.1-.9-2-2-2zM9 17H7v-7h2v7zm4 0h-2V7h2v10zm4 0h-2v-4h2v4z\"/>\n",
              "    </g>\n",
              "</svg>\n",
              "  </button>\n",
              "\n",
              "<style>\n",
              "  .colab-df-quickchart {\n",
              "      --bg-color: #E8F0FE;\n",
              "      --fill-color: #1967D2;\n",
              "      --hover-bg-color: #E2EBFA;\n",
              "      --hover-fill-color: #174EA6;\n",
              "      --disabled-fill-color: #AAA;\n",
              "      --disabled-bg-color: #DDD;\n",
              "  }\n",
              "\n",
              "  [theme=dark] .colab-df-quickchart {\n",
              "      --bg-color: #3B4455;\n",
              "      --fill-color: #D2E3FC;\n",
              "      --hover-bg-color: #434B5C;\n",
              "      --hover-fill-color: #FFFFFF;\n",
              "      --disabled-bg-color: #3B4455;\n",
              "      --disabled-fill-color: #666;\n",
              "  }\n",
              "\n",
              "  .colab-df-quickchart {\n",
              "    background-color: var(--bg-color);\n",
              "    border: none;\n",
              "    border-radius: 50%;\n",
              "    cursor: pointer;\n",
              "    display: none;\n",
              "    fill: var(--fill-color);\n",
              "    height: 32px;\n",
              "    padding: 0;\n",
              "    width: 32px;\n",
              "  }\n",
              "\n",
              "  .colab-df-quickchart:hover {\n",
              "    background-color: var(--hover-bg-color);\n",
              "    box-shadow: 0 1px 2px rgba(60, 64, 67, 0.3), 0 1px 3px 1px rgba(60, 64, 67, 0.15);\n",
              "    fill: var(--button-hover-fill-color);\n",
              "  }\n",
              "\n",
              "  .colab-df-quickchart-complete:disabled,\n",
              "  .colab-df-quickchart-complete:disabled:hover {\n",
              "    background-color: var(--disabled-bg-color);\n",
              "    fill: var(--disabled-fill-color);\n",
              "    box-shadow: none;\n",
              "  }\n",
              "\n",
              "  .colab-df-spinner {\n",
              "    border: 2px solid var(--fill-color);\n",
              "    border-color: transparent;\n",
              "    border-bottom-color: var(--fill-color);\n",
              "    animation:\n",
              "      spin 1s steps(1) infinite;\n",
              "  }\n",
              "\n",
              "  @keyframes spin {\n",
              "    0% {\n",
              "      border-color: transparent;\n",
              "      border-bottom-color: var(--fill-color);\n",
              "      border-left-color: var(--fill-color);\n",
              "    }\n",
              "    20% {\n",
              "      border-color: transparent;\n",
              "      border-left-color: var(--fill-color);\n",
              "      border-top-color: var(--fill-color);\n",
              "    }\n",
              "    30% {\n",
              "      border-color: transparent;\n",
              "      border-left-color: var(--fill-color);\n",
              "      border-top-color: var(--fill-color);\n",
              "      border-right-color: var(--fill-color);\n",
              "    }\n",
              "    40% {\n",
              "      border-color: transparent;\n",
              "      border-right-color: var(--fill-color);\n",
              "      border-top-color: var(--fill-color);\n",
              "    }\n",
              "    60% {\n",
              "      border-color: transparent;\n",
              "      border-right-color: var(--fill-color);\n",
              "    }\n",
              "    80% {\n",
              "      border-color: transparent;\n",
              "      border-right-color: var(--fill-color);\n",
              "      border-bottom-color: var(--fill-color);\n",
              "    }\n",
              "    90% {\n",
              "      border-color: transparent;\n",
              "      border-bottom-color: var(--fill-color);\n",
              "    }\n",
              "  }\n",
              "</style>\n",
              "\n",
              "  <script>\n",
              "    async function quickchart(key) {\n",
              "      const quickchartButtonEl =\n",
              "        document.querySelector('#' + key + ' button');\n",
              "      quickchartButtonEl.disabled = true;  // To prevent multiple clicks.\n",
              "      quickchartButtonEl.classList.add('colab-df-spinner');\n",
              "      try {\n",
              "        const charts = await google.colab.kernel.invokeFunction(\n",
              "            'suggestCharts', [key], {});\n",
              "      } catch (error) {\n",
              "        console.error('Error during call to suggestCharts:', error);\n",
              "      }\n",
              "      quickchartButtonEl.classList.remove('colab-df-spinner');\n",
              "      quickchartButtonEl.classList.add('colab-df-quickchart-complete');\n",
              "    }\n",
              "    (() => {\n",
              "      let quickchartButtonEl =\n",
              "        document.querySelector('#df-dbee9907-8d0d-4159-a5b7-1f7aa567269b button');\n",
              "      quickchartButtonEl.style.display =\n",
              "        google.colab.kernel.accessAllowed ? 'block' : 'none';\n",
              "    })();\n",
              "  </script>\n",
              "</div>\n",
              "\n",
              "    </div>\n",
              "  </div>\n"
            ],
            "application/vnd.google.colaboratory.intrinsic+json": {
              "type": "dataframe",
              "variable_name": "df"
            }
          },
          "metadata": {},
          "execution_count": 327
        }
      ]
    },
    {
      "cell_type": "code",
      "source": [
        "\n",
        "#Observations\n",
        "# Timestamp showing the date and time of the survey submission\n",
        "# age showing the age of each participant in the survey\n",
        "# hour per day indicating the number of hours each participants listened to music\n",
        "# while working telling us if music was listened during work hours.\n",
        "# We have fave genre telling us who was the favorite genre of each participant.\n",
        "# We have different frequencies of for different genres.\n",
        "# We have some indicators of mental wellness such as anxiety, depression, insomnia and ocd\n",
        "# Finally we have a columns indicating if music had any effects on participants or not"
      ],
      "metadata": {
        "id": "Ovff__dSx1cy"
      },
      "execution_count": 328,
      "outputs": []
    },
    {
      "cell_type": "code",
      "source": [
        "df.tail()"
      ],
      "metadata": {
        "colab": {
          "base_uri": "https://localhost:8080/",
          "height": 360
        },
        "id": "kVcDXAblybE9",
        "outputId": "f2b8f6d2-68aa-4ac8-bdb0-40d4bf536fe7"
      },
      "execution_count": 329,
      "outputs": [
        {
          "output_type": "execute_result",
          "data": {
            "text/plain": [
              "     Unnamed: 0  Age          Primary_streaming_service  Hours_per_day  \\\n",
              "731         731   29                      YouTube Music              2   \n",
              "732         732   17                            Spotify              4   \n",
              "733         733   17                            Spotify              3   \n",
              "734         734   13                            Spotify              1   \n",
              "735         735   24  I do not use a streaming service.              8   \n",
              "\n",
              "     While_working  Instrumentalist  Composer         Fav_genre  Exploratory  \\\n",
              "731           True            False     False           Hip hop         True   \n",
              "732          False             True     False         Classical         True   \n",
              "733           True            False     False         Classical         True   \n",
              "734           True            False     False  Video game music         True   \n",
              "735           True            False      True  Video game music         True   \n",
              "\n",
              "     Foreign_languages  ... Anxiety Depression Insomnia OCD Music_effects  \\\n",
              "731               True  ...       2          2        2   5       Improve   \n",
              "732               True  ...       7          9        2   8        Worsen   \n",
              "733               True  ...       6          6        8   2       Improve   \n",
              "734              False  ...      10         10        8   4        Worsen   \n",
              "735              False  ...       6          4        8   8       Improve   \n",
              "\n",
              "           Date      Time  Year Month Day  \n",
              "731  2022-11-09  01:55:20  2022    11   9  \n",
              "732  2022-08-28  23:23:50  2022     8  28  \n",
              "733  2022-08-28  11:58:48  2022     8  28  \n",
              "734  2022-10-22  15:20:29  2022    10  22  \n",
              "735  2022-08-29  01:22:44  2022     8  29  \n",
              "\n",
              "[5 rows x 37 columns]"
            ],
            "text/html": [
              "\n",
              "  <div id=\"df-b355c373-db97-4352-957e-a5386926b5d0\" class=\"colab-df-container\">\n",
              "    <div>\n",
              "<style scoped>\n",
              "    .dataframe tbody tr th:only-of-type {\n",
              "        vertical-align: middle;\n",
              "    }\n",
              "\n",
              "    .dataframe tbody tr th {\n",
              "        vertical-align: top;\n",
              "    }\n",
              "\n",
              "    .dataframe thead th {\n",
              "        text-align: right;\n",
              "    }\n",
              "</style>\n",
              "<table border=\"1\" class=\"dataframe\">\n",
              "  <thead>\n",
              "    <tr style=\"text-align: right;\">\n",
              "      <th></th>\n",
              "      <th>Unnamed: 0</th>\n",
              "      <th>Age</th>\n",
              "      <th>Primary_streaming_service</th>\n",
              "      <th>Hours_per_day</th>\n",
              "      <th>While_working</th>\n",
              "      <th>Instrumentalist</th>\n",
              "      <th>Composer</th>\n",
              "      <th>Fav_genre</th>\n",
              "      <th>Exploratory</th>\n",
              "      <th>Foreign_languages</th>\n",
              "      <th>...</th>\n",
              "      <th>Anxiety</th>\n",
              "      <th>Depression</th>\n",
              "      <th>Insomnia</th>\n",
              "      <th>OCD</th>\n",
              "      <th>Music_effects</th>\n",
              "      <th>Date</th>\n",
              "      <th>Time</th>\n",
              "      <th>Year</th>\n",
              "      <th>Month</th>\n",
              "      <th>Day</th>\n",
              "    </tr>\n",
              "  </thead>\n",
              "  <tbody>\n",
              "    <tr>\n",
              "      <th>731</th>\n",
              "      <td>731</td>\n",
              "      <td>29</td>\n",
              "      <td>YouTube Music</td>\n",
              "      <td>2</td>\n",
              "      <td>True</td>\n",
              "      <td>False</td>\n",
              "      <td>False</td>\n",
              "      <td>Hip hop</td>\n",
              "      <td>True</td>\n",
              "      <td>True</td>\n",
              "      <td>...</td>\n",
              "      <td>2</td>\n",
              "      <td>2</td>\n",
              "      <td>2</td>\n",
              "      <td>5</td>\n",
              "      <td>Improve</td>\n",
              "      <td>2022-11-09</td>\n",
              "      <td>01:55:20</td>\n",
              "      <td>2022</td>\n",
              "      <td>11</td>\n",
              "      <td>9</td>\n",
              "    </tr>\n",
              "    <tr>\n",
              "      <th>732</th>\n",
              "      <td>732</td>\n",
              "      <td>17</td>\n",
              "      <td>Spotify</td>\n",
              "      <td>4</td>\n",
              "      <td>False</td>\n",
              "      <td>True</td>\n",
              "      <td>False</td>\n",
              "      <td>Classical</td>\n",
              "      <td>True</td>\n",
              "      <td>True</td>\n",
              "      <td>...</td>\n",
              "      <td>7</td>\n",
              "      <td>9</td>\n",
              "      <td>2</td>\n",
              "      <td>8</td>\n",
              "      <td>Worsen</td>\n",
              "      <td>2022-08-28</td>\n",
              "      <td>23:23:50</td>\n",
              "      <td>2022</td>\n",
              "      <td>8</td>\n",
              "      <td>28</td>\n",
              "    </tr>\n",
              "    <tr>\n",
              "      <th>733</th>\n",
              "      <td>733</td>\n",
              "      <td>17</td>\n",
              "      <td>Spotify</td>\n",
              "      <td>3</td>\n",
              "      <td>True</td>\n",
              "      <td>False</td>\n",
              "      <td>False</td>\n",
              "      <td>Classical</td>\n",
              "      <td>True</td>\n",
              "      <td>True</td>\n",
              "      <td>...</td>\n",
              "      <td>6</td>\n",
              "      <td>6</td>\n",
              "      <td>8</td>\n",
              "      <td>2</td>\n",
              "      <td>Improve</td>\n",
              "      <td>2022-08-28</td>\n",
              "      <td>11:58:48</td>\n",
              "      <td>2022</td>\n",
              "      <td>8</td>\n",
              "      <td>28</td>\n",
              "    </tr>\n",
              "    <tr>\n",
              "      <th>734</th>\n",
              "      <td>734</td>\n",
              "      <td>13</td>\n",
              "      <td>Spotify</td>\n",
              "      <td>1</td>\n",
              "      <td>True</td>\n",
              "      <td>False</td>\n",
              "      <td>False</td>\n",
              "      <td>Video game music</td>\n",
              "      <td>True</td>\n",
              "      <td>False</td>\n",
              "      <td>...</td>\n",
              "      <td>10</td>\n",
              "      <td>10</td>\n",
              "      <td>8</td>\n",
              "      <td>4</td>\n",
              "      <td>Worsen</td>\n",
              "      <td>2022-10-22</td>\n",
              "      <td>15:20:29</td>\n",
              "      <td>2022</td>\n",
              "      <td>10</td>\n",
              "      <td>22</td>\n",
              "    </tr>\n",
              "    <tr>\n",
              "      <th>735</th>\n",
              "      <td>735</td>\n",
              "      <td>24</td>\n",
              "      <td>I do not use a streaming service.</td>\n",
              "      <td>8</td>\n",
              "      <td>True</td>\n",
              "      <td>False</td>\n",
              "      <td>True</td>\n",
              "      <td>Video game music</td>\n",
              "      <td>True</td>\n",
              "      <td>False</td>\n",
              "      <td>...</td>\n",
              "      <td>6</td>\n",
              "      <td>4</td>\n",
              "      <td>8</td>\n",
              "      <td>8</td>\n",
              "      <td>Improve</td>\n",
              "      <td>2022-08-29</td>\n",
              "      <td>01:22:44</td>\n",
              "      <td>2022</td>\n",
              "      <td>8</td>\n",
              "      <td>29</td>\n",
              "    </tr>\n",
              "  </tbody>\n",
              "</table>\n",
              "<p>5 rows × 37 columns</p>\n",
              "</div>\n",
              "    <div class=\"colab-df-buttons\">\n",
              "\n",
              "  <div class=\"colab-df-container\">\n",
              "    <button class=\"colab-df-convert\" onclick=\"convertToInteractive('df-b355c373-db97-4352-957e-a5386926b5d0')\"\n",
              "            title=\"Convert this dataframe to an interactive table.\"\n",
              "            style=\"display:none;\">\n",
              "\n",
              "  <svg xmlns=\"http://www.w3.org/2000/svg\" height=\"24px\" viewBox=\"0 -960 960 960\">\n",
              "    <path d=\"M120-120v-720h720v720H120Zm60-500h600v-160H180v160Zm220 220h160v-160H400v160Zm0 220h160v-160H400v160ZM180-400h160v-160H180v160Zm440 0h160v-160H620v160ZM180-180h160v-160H180v160Zm440 0h160v-160H620v160Z\"/>\n",
              "  </svg>\n",
              "    </button>\n",
              "\n",
              "  <style>\n",
              "    .colab-df-container {\n",
              "      display:flex;\n",
              "      gap: 12px;\n",
              "    }\n",
              "\n",
              "    .colab-df-convert {\n",
              "      background-color: #E8F0FE;\n",
              "      border: none;\n",
              "      border-radius: 50%;\n",
              "      cursor: pointer;\n",
              "      display: none;\n",
              "      fill: #1967D2;\n",
              "      height: 32px;\n",
              "      padding: 0 0 0 0;\n",
              "      width: 32px;\n",
              "    }\n",
              "\n",
              "    .colab-df-convert:hover {\n",
              "      background-color: #E2EBFA;\n",
              "      box-shadow: 0px 1px 2px rgba(60, 64, 67, 0.3), 0px 1px 3px 1px rgba(60, 64, 67, 0.15);\n",
              "      fill: #174EA6;\n",
              "    }\n",
              "\n",
              "    .colab-df-buttons div {\n",
              "      margin-bottom: 4px;\n",
              "    }\n",
              "\n",
              "    [theme=dark] .colab-df-convert {\n",
              "      background-color: #3B4455;\n",
              "      fill: #D2E3FC;\n",
              "    }\n",
              "\n",
              "    [theme=dark] .colab-df-convert:hover {\n",
              "      background-color: #434B5C;\n",
              "      box-shadow: 0px 1px 3px 1px rgba(0, 0, 0, 0.15);\n",
              "      filter: drop-shadow(0px 1px 2px rgba(0, 0, 0, 0.3));\n",
              "      fill: #FFFFFF;\n",
              "    }\n",
              "  </style>\n",
              "\n",
              "    <script>\n",
              "      const buttonEl =\n",
              "        document.querySelector('#df-b355c373-db97-4352-957e-a5386926b5d0 button.colab-df-convert');\n",
              "      buttonEl.style.display =\n",
              "        google.colab.kernel.accessAllowed ? 'block' : 'none';\n",
              "\n",
              "      async function convertToInteractive(key) {\n",
              "        const element = document.querySelector('#df-b355c373-db97-4352-957e-a5386926b5d0');\n",
              "        const dataTable =\n",
              "          await google.colab.kernel.invokeFunction('convertToInteractive',\n",
              "                                                    [key], {});\n",
              "        if (!dataTable) return;\n",
              "\n",
              "        const docLinkHtml = 'Like what you see? Visit the ' +\n",
              "          '<a target=\"_blank\" href=https://colab.research.google.com/notebooks/data_table.ipynb>data table notebook</a>'\n",
              "          + ' to learn more about interactive tables.';\n",
              "        element.innerHTML = '';\n",
              "        dataTable['output_type'] = 'display_data';\n",
              "        await google.colab.output.renderOutput(dataTable, element);\n",
              "        const docLink = document.createElement('div');\n",
              "        docLink.innerHTML = docLinkHtml;\n",
              "        element.appendChild(docLink);\n",
              "      }\n",
              "    </script>\n",
              "  </div>\n",
              "\n",
              "\n",
              "<div id=\"df-466d704f-0bb3-4318-b7ab-38b95e988705\">\n",
              "  <button class=\"colab-df-quickchart\" onclick=\"quickchart('df-466d704f-0bb3-4318-b7ab-38b95e988705')\"\n",
              "            title=\"Suggest charts\"\n",
              "            style=\"display:none;\">\n",
              "\n",
              "<svg xmlns=\"http://www.w3.org/2000/svg\" height=\"24px\"viewBox=\"0 0 24 24\"\n",
              "     width=\"24px\">\n",
              "    <g>\n",
              "        <path d=\"M19 3H5c-1.1 0-2 .9-2 2v14c0 1.1.9 2 2 2h14c1.1 0 2-.9 2-2V5c0-1.1-.9-2-2-2zM9 17H7v-7h2v7zm4 0h-2V7h2v10zm4 0h-2v-4h2v4z\"/>\n",
              "    </g>\n",
              "</svg>\n",
              "  </button>\n",
              "\n",
              "<style>\n",
              "  .colab-df-quickchart {\n",
              "      --bg-color: #E8F0FE;\n",
              "      --fill-color: #1967D2;\n",
              "      --hover-bg-color: #E2EBFA;\n",
              "      --hover-fill-color: #174EA6;\n",
              "      --disabled-fill-color: #AAA;\n",
              "      --disabled-bg-color: #DDD;\n",
              "  }\n",
              "\n",
              "  [theme=dark] .colab-df-quickchart {\n",
              "      --bg-color: #3B4455;\n",
              "      --fill-color: #D2E3FC;\n",
              "      --hover-bg-color: #434B5C;\n",
              "      --hover-fill-color: #FFFFFF;\n",
              "      --disabled-bg-color: #3B4455;\n",
              "      --disabled-fill-color: #666;\n",
              "  }\n",
              "\n",
              "  .colab-df-quickchart {\n",
              "    background-color: var(--bg-color);\n",
              "    border: none;\n",
              "    border-radius: 50%;\n",
              "    cursor: pointer;\n",
              "    display: none;\n",
              "    fill: var(--fill-color);\n",
              "    height: 32px;\n",
              "    padding: 0;\n",
              "    width: 32px;\n",
              "  }\n",
              "\n",
              "  .colab-df-quickchart:hover {\n",
              "    background-color: var(--hover-bg-color);\n",
              "    box-shadow: 0 1px 2px rgba(60, 64, 67, 0.3), 0 1px 3px 1px rgba(60, 64, 67, 0.15);\n",
              "    fill: var(--button-hover-fill-color);\n",
              "  }\n",
              "\n",
              "  .colab-df-quickchart-complete:disabled,\n",
              "  .colab-df-quickchart-complete:disabled:hover {\n",
              "    background-color: var(--disabled-bg-color);\n",
              "    fill: var(--disabled-fill-color);\n",
              "    box-shadow: none;\n",
              "  }\n",
              "\n",
              "  .colab-df-spinner {\n",
              "    border: 2px solid var(--fill-color);\n",
              "    border-color: transparent;\n",
              "    border-bottom-color: var(--fill-color);\n",
              "    animation:\n",
              "      spin 1s steps(1) infinite;\n",
              "  }\n",
              "\n",
              "  @keyframes spin {\n",
              "    0% {\n",
              "      border-color: transparent;\n",
              "      border-bottom-color: var(--fill-color);\n",
              "      border-left-color: var(--fill-color);\n",
              "    }\n",
              "    20% {\n",
              "      border-color: transparent;\n",
              "      border-left-color: var(--fill-color);\n",
              "      border-top-color: var(--fill-color);\n",
              "    }\n",
              "    30% {\n",
              "      border-color: transparent;\n",
              "      border-left-color: var(--fill-color);\n",
              "      border-top-color: var(--fill-color);\n",
              "      border-right-color: var(--fill-color);\n",
              "    }\n",
              "    40% {\n",
              "      border-color: transparent;\n",
              "      border-right-color: var(--fill-color);\n",
              "      border-top-color: var(--fill-color);\n",
              "    }\n",
              "    60% {\n",
              "      border-color: transparent;\n",
              "      border-right-color: var(--fill-color);\n",
              "    }\n",
              "    80% {\n",
              "      border-color: transparent;\n",
              "      border-right-color: var(--fill-color);\n",
              "      border-bottom-color: var(--fill-color);\n",
              "    }\n",
              "    90% {\n",
              "      border-color: transparent;\n",
              "      border-bottom-color: var(--fill-color);\n",
              "    }\n",
              "  }\n",
              "</style>\n",
              "\n",
              "  <script>\n",
              "    async function quickchart(key) {\n",
              "      const quickchartButtonEl =\n",
              "        document.querySelector('#' + key + ' button');\n",
              "      quickchartButtonEl.disabled = true;  // To prevent multiple clicks.\n",
              "      quickchartButtonEl.classList.add('colab-df-spinner');\n",
              "      try {\n",
              "        const charts = await google.colab.kernel.invokeFunction(\n",
              "            'suggestCharts', [key], {});\n",
              "      } catch (error) {\n",
              "        console.error('Error during call to suggestCharts:', error);\n",
              "      }\n",
              "      quickchartButtonEl.classList.remove('colab-df-spinner');\n",
              "      quickchartButtonEl.classList.add('colab-df-quickchart-complete');\n",
              "    }\n",
              "    (() => {\n",
              "      let quickchartButtonEl =\n",
              "        document.querySelector('#df-466d704f-0bb3-4318-b7ab-38b95e988705 button');\n",
              "      quickchartButtonEl.style.display =\n",
              "        google.colab.kernel.accessAllowed ? 'block' : 'none';\n",
              "    })();\n",
              "  </script>\n",
              "</div>\n",
              "\n",
              "    </div>\n",
              "  </div>\n"
            ],
            "application/vnd.google.colaboratory.intrinsic+json": {
              "type": "dataframe"
            }
          },
          "metadata": {},
          "execution_count": 329
        }
      ]
    },
    {
      "cell_type": "code",
      "source": [
        "# start date of the dataset was 27th of August 2022\n",
        "# end date was recorded as 9th of november 2022"
      ],
      "metadata": {
        "id": "pgFSuiVK0Z-4"
      },
      "execution_count": 330,
      "outputs": []
    },
    {
      "cell_type": "code",
      "source": [
        "df.shape"
      ],
      "metadata": {
        "colab": {
          "base_uri": "https://localhost:8080/"
        },
        "id": "bC0pQMR01C2q",
        "outputId": "6cfe2ec1-5bdd-44bc-c1a4-a6487cfa09d3"
      },
      "execution_count": 331,
      "outputs": [
        {
          "output_type": "execute_result",
          "data": {
            "text/plain": [
              "(736, 37)"
            ]
          },
          "metadata": {},
          "execution_count": 331
        }
      ]
    },
    {
      "cell_type": "markdown",
      "source": [
        "the dataset has 736 rows and 33 columns."
      ],
      "metadata": {
        "id": "jxp4-2ne1N8_"
      }
    },
    {
      "cell_type": "code",
      "source": [
        "df.info()"
      ],
      "metadata": {
        "colab": {
          "base_uri": "https://localhost:8080/"
        },
        "id": "Wx3rEWFJ1ImI",
        "outputId": "70d2e24b-85a3-4e4d-a542-d8413c316ea4"
      },
      "execution_count": 332,
      "outputs": [
        {
          "output_type": "stream",
          "name": "stdout",
          "text": [
            "<class 'pandas.core.frame.DataFrame'>\n",
            "RangeIndex: 736 entries, 0 to 735\n",
            "Data columns (total 37 columns):\n",
            " #   Column                      Non-Null Count  Dtype \n",
            "---  ------                      --------------  ----- \n",
            " 0   Unnamed: 0                  736 non-null    int64 \n",
            " 1   Age                         736 non-null    int64 \n",
            " 2   Primary_streaming_service   736 non-null    object\n",
            " 3   Hours_per_day               736 non-null    int64 \n",
            " 4   While_working               736 non-null    bool  \n",
            " 5   Instrumentalist             736 non-null    bool  \n",
            " 6   Composer                    736 non-null    bool  \n",
            " 7   Fav_genre                   736 non-null    object\n",
            " 8   Exploratory                 736 non-null    bool  \n",
            " 9   Foreign_languages           736 non-null    bool  \n",
            " 10  BPM_range                   736 non-null    object\n",
            " 11  Frequency_Classical         736 non-null    object\n",
            " 12  Frequency_Country           736 non-null    object\n",
            " 13  Frequency_EDM               736 non-null    object\n",
            " 14  Frequency_Folk              736 non-null    object\n",
            " 15  Frequency_Gospel            736 non-null    object\n",
            " 16  Frequency_Hip_hop           736 non-null    object\n",
            " 17  Frequency_Jazz              736 non-null    object\n",
            " 18  Frequency_K_pop             736 non-null    object\n",
            " 19  Frequency_Latin             736 non-null    object\n",
            " 20  Frequency_Lofi              736 non-null    object\n",
            " 21  Frequency_Metal             736 non-null    object\n",
            " 22  Frequency_Pop               736 non-null    object\n",
            " 23  Frequency_R_B               736 non-null    object\n",
            " 24  Frequency_Rap               736 non-null    object\n",
            " 25  Frequency_Rock              736 non-null    object\n",
            " 26  Frequency_Video_game_music  736 non-null    object\n",
            " 27  Anxiety                     736 non-null    int64 \n",
            " 28  Depression                  736 non-null    int64 \n",
            " 29  Insomnia                    736 non-null    int64 \n",
            " 30  OCD                         736 non-null    int64 \n",
            " 31  Music_effects               736 non-null    object\n",
            " 32  Date                        736 non-null    object\n",
            " 33  Time                        736 non-null    object\n",
            " 34  Year                        736 non-null    int64 \n",
            " 35  Month                       736 non-null    int64 \n",
            " 36  Day                         736 non-null    int64 \n",
            "dtypes: bool(5), int64(10), object(22)\n",
            "memory usage: 187.7+ KB\n"
          ]
        }
      ]
    },
    {
      "cell_type": "markdown",
      "source": [],
      "metadata": {
        "id": "gABsc9cb36uq"
      }
    },
    {
      "cell_type": "markdown",
      "source": [
        "There are null values in several columns including age,streaming service, while working, instrumentalists, composer, foreign languages, BPM, and music effects."
      ],
      "metadata": {
        "id": "5tYbF8Vy2P9n"
      }
    },
    {
      "cell_type": "markdown",
      "source": [
        "the type of timestamp needs to be changed to date type.\n",
        "Change age to integer type.\n",
        "Wile working to be changed to boolean.\n",
        "Exploratory should be also changed to boolean along with foreign languages, instrumentalists, composer and permission."
      ],
      "metadata": {
        "id": "xj7_peNkHCFf"
      }
    },
    {
      "cell_type": "markdown",
      "source": [
        "Permission columns will be dropped from the dataset as it doesnt add any value to aour analysis."
      ],
      "metadata": {
        "id": "GzyjwfjTHyzd"
      }
    },
    {
      "cell_type": "markdown",
      "source": [
        "We will replace the missing value in age column by the avg.\n",
        "for priamry streaming services we can replace the null value by not answered.\n",
        "## the null values in while working, Instrumentalist, composer, foreign languages, music effects, and BPM should be replaced with not answered."
      ],
      "metadata": {
        "id": "JCw5O4suIjFA"
      }
    },
    {
      "cell_type": "code",
      "source": [
        "# mean_bpm = df['BPM'].mean()\n",
        "# df['BPM'].fillna(mean_bpm,inplace=True)\n"
      ],
      "metadata": {
        "id": "9SMnUhWXeu7F"
      },
      "execution_count": 333,
      "outputs": []
    },
    {
      "cell_type": "code",
      "source": [
        "df.isnull().sum()"
      ],
      "metadata": {
        "colab": {
          "base_uri": "https://localhost:8080/"
        },
        "id": "JGUKPOtgfMr2",
        "outputId": "3c3bd901-2bc0-4f5a-eb9f-3050edea4f63"
      },
      "execution_count": 334,
      "outputs": [
        {
          "output_type": "execute_result",
          "data": {
            "text/plain": [
              "Unnamed: 0                    0\n",
              "Age                           0\n",
              "Primary_streaming_service     0\n",
              "Hours_per_day                 0\n",
              "While_working                 0\n",
              "Instrumentalist               0\n",
              "Composer                      0\n",
              "Fav_genre                     0\n",
              "Exploratory                   0\n",
              "Foreign_languages             0\n",
              "BPM_range                     0\n",
              "Frequency_Classical           0\n",
              "Frequency_Country             0\n",
              "Frequency_EDM                 0\n",
              "Frequency_Folk                0\n",
              "Frequency_Gospel              0\n",
              "Frequency_Hip_hop             0\n",
              "Frequency_Jazz                0\n",
              "Frequency_K_pop               0\n",
              "Frequency_Latin               0\n",
              "Frequency_Lofi                0\n",
              "Frequency_Metal               0\n",
              "Frequency_Pop                 0\n",
              "Frequency_R_B                 0\n",
              "Frequency_Rap                 0\n",
              "Frequency_Rock                0\n",
              "Frequency_Video_game_music    0\n",
              "Anxiety                       0\n",
              "Depression                    0\n",
              "Insomnia                      0\n",
              "OCD                           0\n",
              "Music_effects                 0\n",
              "Date                          0\n",
              "Time                          0\n",
              "Year                          0\n",
              "Month                         0\n",
              "Day                           0\n",
              "dtype: int64"
            ]
          },
          "metadata": {},
          "execution_count": 334
        }
      ]
    },
    {
      "cell_type": "code",
      "source": [
        "df.dtypes"
      ],
      "metadata": {
        "colab": {
          "base_uri": "https://localhost:8080/"
        },
        "id": "LOwa9HpVuMFX",
        "outputId": "d8004c40-a212-415e-e541-288907507f78"
      },
      "execution_count": 361,
      "outputs": [
        {
          "output_type": "execute_result",
          "data": {
            "text/plain": [
              "Unnamed: 0                     int64\n",
              "Age                            int64\n",
              "Primary_streaming_service     object\n",
              "Hours_per_day                  int64\n",
              "While_working                   bool\n",
              "Instrumentalist                 bool\n",
              "Composer                        bool\n",
              "Fav_genre                     object\n",
              "Exploratory                     bool\n",
              "Foreign_languages               bool\n",
              "BPM_range                     object\n",
              "Frequency_Classical           object\n",
              "Frequency_Country             object\n",
              "Frequency_EDM                 object\n",
              "Frequency_Folk                object\n",
              "Frequency_Gospel              object\n",
              "Frequency_Hip_hop             object\n",
              "Frequency_Jazz                object\n",
              "Frequency_K_pop               object\n",
              "Frequency_Latin               object\n",
              "Frequency_Lofi                object\n",
              "Frequency_Metal               object\n",
              "Frequency_Pop                 object\n",
              "Frequency_R_B                 object\n",
              "Frequency_Rap                 object\n",
              "Frequency_Rock                object\n",
              "Frequency_Video_game_music    object\n",
              "Anxiety                        int64\n",
              "Depression                     int64\n",
              "Insomnia                       int64\n",
              "OCD                            int64\n",
              "Music_effects                 object\n",
              "Date                          object\n",
              "Time                          object\n",
              "Year                           int64\n",
              "Month                          int64\n",
              "Day                            int64\n",
              "dtype: object"
            ]
          },
          "metadata": {},
          "execution_count": 361
        }
      ]
    },
    {
      "cell_type": "code",
      "source": [
        "df.duplicated().sum()"
      ],
      "metadata": {
        "colab": {
          "base_uri": "https://localhost:8080/"
        },
        "id": "nEZLN8gpJsDc",
        "outputId": "d3c591db-6727-48f1-9338-61f9afc03cd0"
      },
      "execution_count": 335,
      "outputs": [
        {
          "output_type": "execute_result",
          "data": {
            "text/plain": [
              "0"
            ]
          },
          "metadata": {},
          "execution_count": 335
        }
      ]
    },
    {
      "cell_type": "code",
      "source": [
        "df['While_working'].unique()"
      ],
      "metadata": {
        "colab": {
          "base_uri": "https://localhost:8080/"
        },
        "id": "RuHS2eC5oNAd",
        "outputId": "e316ffd2-21eb-4eb5-a0e0-3b9363f964a8"
      },
      "execution_count": 337,
      "outputs": [
        {
          "output_type": "execute_result",
          "data": {
            "text/plain": [
              "array([False,  True])"
            ]
          },
          "metadata": {},
          "execution_count": 337
        }
      ]
    },
    {
      "cell_type": "markdown",
      "source": [],
      "metadata": {
        "id": "uO1qd6-uH9yN"
      }
    },
    {
      "cell_type": "code",
      "source": [
        "df.describe()"
      ],
      "metadata": {
        "colab": {
          "base_uri": "https://localhost:8080/",
          "height": 300
        },
        "id": "AxNEcQf9LjbI",
        "outputId": "f420dc44-6e82-44c8-b506-577ec9a5f6f0"
      },
      "execution_count": 338,
      "outputs": [
        {
          "output_type": "execute_result",
          "data": {
            "text/plain": [
              "       Unnamed: 0         Age  Hours_per_day     Anxiety  Depression  \\\n",
              "count  736.000000  736.000000     736.000000  736.000000  736.000000   \n",
              "mean   367.500000   25.201087       3.540761    5.836957    4.794837   \n",
              "std    212.609188   12.047764       3.055669    2.792710    3.029564   \n",
              "min      0.000000   10.000000       0.000000    0.000000    0.000000   \n",
              "25%    183.750000   18.000000       2.000000    4.000000    2.000000   \n",
              "50%    367.500000   21.000000       3.000000    6.000000    5.000000   \n",
              "75%    551.250000   28.000000       5.000000    8.000000    7.000000   \n",
              "max    735.000000   89.000000      24.000000   10.000000   10.000000   \n",
              "\n",
              "         Insomnia         OCD    Year       Month         Day  \n",
              "count  736.000000  736.000000   736.0  736.000000  736.000000  \n",
              "mean     3.737772    2.635870  2022.0    8.451087   20.315217  \n",
              "std      3.088797    2.840047     0.0    0.610831   11.167425  \n",
              "min      0.000000    0.000000  2022.0    8.000000    1.000000  \n",
              "25%      1.000000    0.000000  2022.0    8.000000    9.000000  \n",
              "50%      3.000000    2.000000  2022.0    8.000000   28.000000  \n",
              "75%      6.000000    5.000000  2022.0    9.000000   29.000000  \n",
              "max     10.000000   10.000000  2022.0   11.000000   31.000000  "
            ],
            "text/html": [
              "\n",
              "  <div id=\"df-30747b59-d0da-41d5-9c26-12a773c4fa6e\" class=\"colab-df-container\">\n",
              "    <div>\n",
              "<style scoped>\n",
              "    .dataframe tbody tr th:only-of-type {\n",
              "        vertical-align: middle;\n",
              "    }\n",
              "\n",
              "    .dataframe tbody tr th {\n",
              "        vertical-align: top;\n",
              "    }\n",
              "\n",
              "    .dataframe thead th {\n",
              "        text-align: right;\n",
              "    }\n",
              "</style>\n",
              "<table border=\"1\" class=\"dataframe\">\n",
              "  <thead>\n",
              "    <tr style=\"text-align: right;\">\n",
              "      <th></th>\n",
              "      <th>Unnamed: 0</th>\n",
              "      <th>Age</th>\n",
              "      <th>Hours_per_day</th>\n",
              "      <th>Anxiety</th>\n",
              "      <th>Depression</th>\n",
              "      <th>Insomnia</th>\n",
              "      <th>OCD</th>\n",
              "      <th>Year</th>\n",
              "      <th>Month</th>\n",
              "      <th>Day</th>\n",
              "    </tr>\n",
              "  </thead>\n",
              "  <tbody>\n",
              "    <tr>\n",
              "      <th>count</th>\n",
              "      <td>736.000000</td>\n",
              "      <td>736.000000</td>\n",
              "      <td>736.000000</td>\n",
              "      <td>736.000000</td>\n",
              "      <td>736.000000</td>\n",
              "      <td>736.000000</td>\n",
              "      <td>736.000000</td>\n",
              "      <td>736.0</td>\n",
              "      <td>736.000000</td>\n",
              "      <td>736.000000</td>\n",
              "    </tr>\n",
              "    <tr>\n",
              "      <th>mean</th>\n",
              "      <td>367.500000</td>\n",
              "      <td>25.201087</td>\n",
              "      <td>3.540761</td>\n",
              "      <td>5.836957</td>\n",
              "      <td>4.794837</td>\n",
              "      <td>3.737772</td>\n",
              "      <td>2.635870</td>\n",
              "      <td>2022.0</td>\n",
              "      <td>8.451087</td>\n",
              "      <td>20.315217</td>\n",
              "    </tr>\n",
              "    <tr>\n",
              "      <th>std</th>\n",
              "      <td>212.609188</td>\n",
              "      <td>12.047764</td>\n",
              "      <td>3.055669</td>\n",
              "      <td>2.792710</td>\n",
              "      <td>3.029564</td>\n",
              "      <td>3.088797</td>\n",
              "      <td>2.840047</td>\n",
              "      <td>0.0</td>\n",
              "      <td>0.610831</td>\n",
              "      <td>11.167425</td>\n",
              "    </tr>\n",
              "    <tr>\n",
              "      <th>min</th>\n",
              "      <td>0.000000</td>\n",
              "      <td>10.000000</td>\n",
              "      <td>0.000000</td>\n",
              "      <td>0.000000</td>\n",
              "      <td>0.000000</td>\n",
              "      <td>0.000000</td>\n",
              "      <td>0.000000</td>\n",
              "      <td>2022.0</td>\n",
              "      <td>8.000000</td>\n",
              "      <td>1.000000</td>\n",
              "    </tr>\n",
              "    <tr>\n",
              "      <th>25%</th>\n",
              "      <td>183.750000</td>\n",
              "      <td>18.000000</td>\n",
              "      <td>2.000000</td>\n",
              "      <td>4.000000</td>\n",
              "      <td>2.000000</td>\n",
              "      <td>1.000000</td>\n",
              "      <td>0.000000</td>\n",
              "      <td>2022.0</td>\n",
              "      <td>8.000000</td>\n",
              "      <td>9.000000</td>\n",
              "    </tr>\n",
              "    <tr>\n",
              "      <th>50%</th>\n",
              "      <td>367.500000</td>\n",
              "      <td>21.000000</td>\n",
              "      <td>3.000000</td>\n",
              "      <td>6.000000</td>\n",
              "      <td>5.000000</td>\n",
              "      <td>3.000000</td>\n",
              "      <td>2.000000</td>\n",
              "      <td>2022.0</td>\n",
              "      <td>8.000000</td>\n",
              "      <td>28.000000</td>\n",
              "    </tr>\n",
              "    <tr>\n",
              "      <th>75%</th>\n",
              "      <td>551.250000</td>\n",
              "      <td>28.000000</td>\n",
              "      <td>5.000000</td>\n",
              "      <td>8.000000</td>\n",
              "      <td>7.000000</td>\n",
              "      <td>6.000000</td>\n",
              "      <td>5.000000</td>\n",
              "      <td>2022.0</td>\n",
              "      <td>9.000000</td>\n",
              "      <td>29.000000</td>\n",
              "    </tr>\n",
              "    <tr>\n",
              "      <th>max</th>\n",
              "      <td>735.000000</td>\n",
              "      <td>89.000000</td>\n",
              "      <td>24.000000</td>\n",
              "      <td>10.000000</td>\n",
              "      <td>10.000000</td>\n",
              "      <td>10.000000</td>\n",
              "      <td>10.000000</td>\n",
              "      <td>2022.0</td>\n",
              "      <td>11.000000</td>\n",
              "      <td>31.000000</td>\n",
              "    </tr>\n",
              "  </tbody>\n",
              "</table>\n",
              "</div>\n",
              "    <div class=\"colab-df-buttons\">\n",
              "\n",
              "  <div class=\"colab-df-container\">\n",
              "    <button class=\"colab-df-convert\" onclick=\"convertToInteractive('df-30747b59-d0da-41d5-9c26-12a773c4fa6e')\"\n",
              "            title=\"Convert this dataframe to an interactive table.\"\n",
              "            style=\"display:none;\">\n",
              "\n",
              "  <svg xmlns=\"http://www.w3.org/2000/svg\" height=\"24px\" viewBox=\"0 -960 960 960\">\n",
              "    <path d=\"M120-120v-720h720v720H120Zm60-500h600v-160H180v160Zm220 220h160v-160H400v160Zm0 220h160v-160H400v160ZM180-400h160v-160H180v160Zm440 0h160v-160H620v160ZM180-180h160v-160H180v160Zm440 0h160v-160H620v160Z\"/>\n",
              "  </svg>\n",
              "    </button>\n",
              "\n",
              "  <style>\n",
              "    .colab-df-container {\n",
              "      display:flex;\n",
              "      gap: 12px;\n",
              "    }\n",
              "\n",
              "    .colab-df-convert {\n",
              "      background-color: #E8F0FE;\n",
              "      border: none;\n",
              "      border-radius: 50%;\n",
              "      cursor: pointer;\n",
              "      display: none;\n",
              "      fill: #1967D2;\n",
              "      height: 32px;\n",
              "      padding: 0 0 0 0;\n",
              "      width: 32px;\n",
              "    }\n",
              "\n",
              "    .colab-df-convert:hover {\n",
              "      background-color: #E2EBFA;\n",
              "      box-shadow: 0px 1px 2px rgba(60, 64, 67, 0.3), 0px 1px 3px 1px rgba(60, 64, 67, 0.15);\n",
              "      fill: #174EA6;\n",
              "    }\n",
              "\n",
              "    .colab-df-buttons div {\n",
              "      margin-bottom: 4px;\n",
              "    }\n",
              "\n",
              "    [theme=dark] .colab-df-convert {\n",
              "      background-color: #3B4455;\n",
              "      fill: #D2E3FC;\n",
              "    }\n",
              "\n",
              "    [theme=dark] .colab-df-convert:hover {\n",
              "      background-color: #434B5C;\n",
              "      box-shadow: 0px 1px 3px 1px rgba(0, 0, 0, 0.15);\n",
              "      filter: drop-shadow(0px 1px 2px rgba(0, 0, 0, 0.3));\n",
              "      fill: #FFFFFF;\n",
              "    }\n",
              "  </style>\n",
              "\n",
              "    <script>\n",
              "      const buttonEl =\n",
              "        document.querySelector('#df-30747b59-d0da-41d5-9c26-12a773c4fa6e button.colab-df-convert');\n",
              "      buttonEl.style.display =\n",
              "        google.colab.kernel.accessAllowed ? 'block' : 'none';\n",
              "\n",
              "      async function convertToInteractive(key) {\n",
              "        const element = document.querySelector('#df-30747b59-d0da-41d5-9c26-12a773c4fa6e');\n",
              "        const dataTable =\n",
              "          await google.colab.kernel.invokeFunction('convertToInteractive',\n",
              "                                                    [key], {});\n",
              "        if (!dataTable) return;\n",
              "\n",
              "        const docLinkHtml = 'Like what you see? Visit the ' +\n",
              "          '<a target=\"_blank\" href=https://colab.research.google.com/notebooks/data_table.ipynb>data table notebook</a>'\n",
              "          + ' to learn more about interactive tables.';\n",
              "        element.innerHTML = '';\n",
              "        dataTable['output_type'] = 'display_data';\n",
              "        await google.colab.output.renderOutput(dataTable, element);\n",
              "        const docLink = document.createElement('div');\n",
              "        docLink.innerHTML = docLinkHtml;\n",
              "        element.appendChild(docLink);\n",
              "      }\n",
              "    </script>\n",
              "  </div>\n",
              "\n",
              "\n",
              "<div id=\"df-0b1e8a75-d26c-4a21-9c5f-548be2114695\">\n",
              "  <button class=\"colab-df-quickchart\" onclick=\"quickchart('df-0b1e8a75-d26c-4a21-9c5f-548be2114695')\"\n",
              "            title=\"Suggest charts\"\n",
              "            style=\"display:none;\">\n",
              "\n",
              "<svg xmlns=\"http://www.w3.org/2000/svg\" height=\"24px\"viewBox=\"0 0 24 24\"\n",
              "     width=\"24px\">\n",
              "    <g>\n",
              "        <path d=\"M19 3H5c-1.1 0-2 .9-2 2v14c0 1.1.9 2 2 2h14c1.1 0 2-.9 2-2V5c0-1.1-.9-2-2-2zM9 17H7v-7h2v7zm4 0h-2V7h2v10zm4 0h-2v-4h2v4z\"/>\n",
              "    </g>\n",
              "</svg>\n",
              "  </button>\n",
              "\n",
              "<style>\n",
              "  .colab-df-quickchart {\n",
              "      --bg-color: #E8F0FE;\n",
              "      --fill-color: #1967D2;\n",
              "      --hover-bg-color: #E2EBFA;\n",
              "      --hover-fill-color: #174EA6;\n",
              "      --disabled-fill-color: #AAA;\n",
              "      --disabled-bg-color: #DDD;\n",
              "  }\n",
              "\n",
              "  [theme=dark] .colab-df-quickchart {\n",
              "      --bg-color: #3B4455;\n",
              "      --fill-color: #D2E3FC;\n",
              "      --hover-bg-color: #434B5C;\n",
              "      --hover-fill-color: #FFFFFF;\n",
              "      --disabled-bg-color: #3B4455;\n",
              "      --disabled-fill-color: #666;\n",
              "  }\n",
              "\n",
              "  .colab-df-quickchart {\n",
              "    background-color: var(--bg-color);\n",
              "    border: none;\n",
              "    border-radius: 50%;\n",
              "    cursor: pointer;\n",
              "    display: none;\n",
              "    fill: var(--fill-color);\n",
              "    height: 32px;\n",
              "    padding: 0;\n",
              "    width: 32px;\n",
              "  }\n",
              "\n",
              "  .colab-df-quickchart:hover {\n",
              "    background-color: var(--hover-bg-color);\n",
              "    box-shadow: 0 1px 2px rgba(60, 64, 67, 0.3), 0 1px 3px 1px rgba(60, 64, 67, 0.15);\n",
              "    fill: var(--button-hover-fill-color);\n",
              "  }\n",
              "\n",
              "  .colab-df-quickchart-complete:disabled,\n",
              "  .colab-df-quickchart-complete:disabled:hover {\n",
              "    background-color: var(--disabled-bg-color);\n",
              "    fill: var(--disabled-fill-color);\n",
              "    box-shadow: none;\n",
              "  }\n",
              "\n",
              "  .colab-df-spinner {\n",
              "    border: 2px solid var(--fill-color);\n",
              "    border-color: transparent;\n",
              "    border-bottom-color: var(--fill-color);\n",
              "    animation:\n",
              "      spin 1s steps(1) infinite;\n",
              "  }\n",
              "\n",
              "  @keyframes spin {\n",
              "    0% {\n",
              "      border-color: transparent;\n",
              "      border-bottom-color: var(--fill-color);\n",
              "      border-left-color: var(--fill-color);\n",
              "    }\n",
              "    20% {\n",
              "      border-color: transparent;\n",
              "      border-left-color: var(--fill-color);\n",
              "      border-top-color: var(--fill-color);\n",
              "    }\n",
              "    30% {\n",
              "      border-color: transparent;\n",
              "      border-left-color: var(--fill-color);\n",
              "      border-top-color: var(--fill-color);\n",
              "      border-right-color: var(--fill-color);\n",
              "    }\n",
              "    40% {\n",
              "      border-color: transparent;\n",
              "      border-right-color: var(--fill-color);\n",
              "      border-top-color: var(--fill-color);\n",
              "    }\n",
              "    60% {\n",
              "      border-color: transparent;\n",
              "      border-right-color: var(--fill-color);\n",
              "    }\n",
              "    80% {\n",
              "      border-color: transparent;\n",
              "      border-right-color: var(--fill-color);\n",
              "      border-bottom-color: var(--fill-color);\n",
              "    }\n",
              "    90% {\n",
              "      border-color: transparent;\n",
              "      border-bottom-color: var(--fill-color);\n",
              "    }\n",
              "  }\n",
              "</style>\n",
              "\n",
              "  <script>\n",
              "    async function quickchart(key) {\n",
              "      const quickchartButtonEl =\n",
              "        document.querySelector('#' + key + ' button');\n",
              "      quickchartButtonEl.disabled = true;  // To prevent multiple clicks.\n",
              "      quickchartButtonEl.classList.add('colab-df-spinner');\n",
              "      try {\n",
              "        const charts = await google.colab.kernel.invokeFunction(\n",
              "            'suggestCharts', [key], {});\n",
              "      } catch (error) {\n",
              "        console.error('Error during call to suggestCharts:', error);\n",
              "      }\n",
              "      quickchartButtonEl.classList.remove('colab-df-spinner');\n",
              "      quickchartButtonEl.classList.add('colab-df-quickchart-complete');\n",
              "    }\n",
              "    (() => {\n",
              "      let quickchartButtonEl =\n",
              "        document.querySelector('#df-0b1e8a75-d26c-4a21-9c5f-548be2114695 button');\n",
              "      quickchartButtonEl.style.display =\n",
              "        google.colab.kernel.accessAllowed ? 'block' : 'none';\n",
              "    })();\n",
              "  </script>\n",
              "</div>\n",
              "\n",
              "    </div>\n",
              "  </div>\n"
            ],
            "application/vnd.google.colaboratory.intrinsic+json": {
              "type": "dataframe",
              "summary": "{\n  \"name\": \"df\",\n  \"rows\": 8,\n  \"fields\": [\n    {\n      \"column\": \"Unnamed: 0\",\n      \"properties\": {\n        \"dtype\": \"number\",\n        \"std\": 265.0391960567761,\n        \"min\": 0.0,\n        \"max\": 736.0,\n        \"num_unique_values\": 7,\n        \"samples\": [\n          736.0,\n          367.5,\n          551.25\n        ],\n        \"semantic_type\": \"\",\n        \"description\": \"\"\n      }\n    },\n    {\n      \"column\": \"Age\",\n      \"properties\": {\n        \"dtype\": \"number\",\n        \"std\": 251.2178032916404,\n        \"min\": 10.0,\n        \"max\": 736.0,\n        \"num_unique_values\": 8,\n        \"samples\": [\n          25.20108695652174,\n          21.0,\n          736.0\n        ],\n        \"semantic_type\": \"\",\n        \"description\": \"\"\n      }\n    },\n    {\n      \"column\": \"Hours_per_day\",\n      \"properties\": {\n        \"dtype\": \"number\",\n        \"std\": 258.2756341247642,\n        \"min\": 0.0,\n        \"max\": 736.0,\n        \"num_unique_values\": 8,\n        \"samples\": [\n          3.5407608695652173,\n          3.0,\n          736.0\n        ],\n        \"semantic_type\": \"\",\n        \"description\": \"\"\n      }\n    },\n    {\n      \"column\": \"Anxiety\",\n      \"properties\": {\n        \"dtype\": \"number\",\n        \"std\": 258.38351728436487,\n        \"min\": 0.0,\n        \"max\": 736.0,\n        \"num_unique_values\": 8,\n        \"samples\": [\n          5.836956521739131,\n          6.0,\n          736.0\n        ],\n        \"semantic_type\": \"\",\n        \"description\": \"\"\n      }\n    },\n    {\n      \"column\": \"Depression\",\n      \"properties\": {\n        \"dtype\": \"number\",\n        \"std\": 258.62600682702265,\n        \"min\": 0.0,\n        \"max\": 736.0,\n        \"num_unique_values\": 8,\n        \"samples\": [\n          4.794836956521739,\n          5.0,\n          736.0\n        ],\n        \"semantic_type\": \"\",\n        \"description\": \"\"\n      }\n    },\n    {\n      \"column\": \"Insomnia\",\n      \"properties\": {\n        \"dtype\": \"number\",\n        \"std\": 258.8787539886703,\n        \"min\": 0.0,\n        \"max\": 736.0,\n        \"num_unique_values\": 8,\n        \"samples\": [\n          3.7377717391304346,\n          3.0,\n          736.0\n        ],\n        \"semantic_type\": \"\",\n        \"description\": \"\"\n      }\n    },\n    {\n      \"column\": \"OCD\",\n      \"properties\": {\n        \"dtype\": \"number\",\n        \"std\": 259.09989776083955,\n        \"min\": 0.0,\n        \"max\": 736.0,\n        \"num_unique_values\": 7,\n        \"samples\": [\n          736.0,\n          2.635869565217391,\n          5.0\n        ],\n        \"semantic_type\": \"\",\n        \"description\": \"\"\n      }\n    },\n    {\n      \"column\": \"Year\",\n      \"properties\": {\n        \"dtype\": \"number\",\n        \"std\": 790.5171905603498,\n        \"min\": 0.0,\n        \"max\": 2022.0,\n        \"num_unique_values\": 3,\n        \"samples\": [\n          736.0,\n          2022.0,\n          0.0\n        ],\n        \"semantic_type\": \"\",\n        \"description\": \"\"\n      }\n    },\n    {\n      \"column\": \"Month\",\n      \"properties\": {\n        \"dtype\": \"number\",\n        \"std\": 257.5528947605321,\n        \"min\": 0.6108309612131453,\n        \"max\": 736.0,\n        \"num_unique_values\": 6,\n        \"samples\": [\n          736.0,\n          8.451086956521738,\n          11.0\n        ],\n        \"semantic_type\": \"\",\n        \"description\": \"\"\n      }\n    },\n    {\n      \"column\": \"Day\",\n      \"properties\": {\n        \"dtype\": \"number\",\n        \"std\": 253.9034951234413,\n        \"min\": 1.0,\n        \"max\": 736.0,\n        \"num_unique_values\": 8,\n        \"samples\": [\n          20.315217391304348,\n          28.0,\n          736.0\n        ],\n        \"semantic_type\": \"\",\n        \"description\": \"\"\n      }\n    }\n  ]\n}"
            }
          },
          "metadata": {},
          "execution_count": 338
        }
      ]
    },
    {
      "cell_type": "code",
      "source": [
        "df_numeric=df[[ 'Hours_per_day','Anxiety','OCD','Depression','Insomnia']]"
      ],
      "metadata": {
        "id": "hDTgz4RUG47P"
      },
      "execution_count": 339,
      "outputs": []
    },
    {
      "cell_type": "code",
      "source": [
        "df_numeric.corr().round(2)"
      ],
      "metadata": {
        "colab": {
          "base_uri": "https://localhost:8080/",
          "height": 206
        },
        "id": "wo0afhOxetvQ",
        "outputId": "7a187974-bf96-4f27-f2a9-69aa71a00328"
      },
      "execution_count": 340,
      "outputs": [
        {
          "output_type": "execute_result",
          "data": {
            "text/plain": [
              "               Hours_per_day  Anxiety   OCD  Depression  Insomnia\n",
              "Hours_per_day           1.00     0.05  0.12        0.11      0.14\n",
              "Anxiety                 0.05     1.00  0.35        0.52      0.29\n",
              "OCD                     0.12     0.35  1.00        0.20      0.23\n",
              "Depression              0.11     0.52  0.20        1.00      0.38\n",
              "Insomnia                0.14     0.29  0.23        0.38      1.00"
            ],
            "text/html": [
              "\n",
              "  <div id=\"df-c913c42e-4882-4347-bfc7-44e0e76faf92\" class=\"colab-df-container\">\n",
              "    <div>\n",
              "<style scoped>\n",
              "    .dataframe tbody tr th:only-of-type {\n",
              "        vertical-align: middle;\n",
              "    }\n",
              "\n",
              "    .dataframe tbody tr th {\n",
              "        vertical-align: top;\n",
              "    }\n",
              "\n",
              "    .dataframe thead th {\n",
              "        text-align: right;\n",
              "    }\n",
              "</style>\n",
              "<table border=\"1\" class=\"dataframe\">\n",
              "  <thead>\n",
              "    <tr style=\"text-align: right;\">\n",
              "      <th></th>\n",
              "      <th>Hours_per_day</th>\n",
              "      <th>Anxiety</th>\n",
              "      <th>OCD</th>\n",
              "      <th>Depression</th>\n",
              "      <th>Insomnia</th>\n",
              "    </tr>\n",
              "  </thead>\n",
              "  <tbody>\n",
              "    <tr>\n",
              "      <th>Hours_per_day</th>\n",
              "      <td>1.00</td>\n",
              "      <td>0.05</td>\n",
              "      <td>0.12</td>\n",
              "      <td>0.11</td>\n",
              "      <td>0.14</td>\n",
              "    </tr>\n",
              "    <tr>\n",
              "      <th>Anxiety</th>\n",
              "      <td>0.05</td>\n",
              "      <td>1.00</td>\n",
              "      <td>0.35</td>\n",
              "      <td>0.52</td>\n",
              "      <td>0.29</td>\n",
              "    </tr>\n",
              "    <tr>\n",
              "      <th>OCD</th>\n",
              "      <td>0.12</td>\n",
              "      <td>0.35</td>\n",
              "      <td>1.00</td>\n",
              "      <td>0.20</td>\n",
              "      <td>0.23</td>\n",
              "    </tr>\n",
              "    <tr>\n",
              "      <th>Depression</th>\n",
              "      <td>0.11</td>\n",
              "      <td>0.52</td>\n",
              "      <td>0.20</td>\n",
              "      <td>1.00</td>\n",
              "      <td>0.38</td>\n",
              "    </tr>\n",
              "    <tr>\n",
              "      <th>Insomnia</th>\n",
              "      <td>0.14</td>\n",
              "      <td>0.29</td>\n",
              "      <td>0.23</td>\n",
              "      <td>0.38</td>\n",
              "      <td>1.00</td>\n",
              "    </tr>\n",
              "  </tbody>\n",
              "</table>\n",
              "</div>\n",
              "    <div class=\"colab-df-buttons\">\n",
              "\n",
              "  <div class=\"colab-df-container\">\n",
              "    <button class=\"colab-df-convert\" onclick=\"convertToInteractive('df-c913c42e-4882-4347-bfc7-44e0e76faf92')\"\n",
              "            title=\"Convert this dataframe to an interactive table.\"\n",
              "            style=\"display:none;\">\n",
              "\n",
              "  <svg xmlns=\"http://www.w3.org/2000/svg\" height=\"24px\" viewBox=\"0 -960 960 960\">\n",
              "    <path d=\"M120-120v-720h720v720H120Zm60-500h600v-160H180v160Zm220 220h160v-160H400v160Zm0 220h160v-160H400v160ZM180-400h160v-160H180v160Zm440 0h160v-160H620v160ZM180-180h160v-160H180v160Zm440 0h160v-160H620v160Z\"/>\n",
              "  </svg>\n",
              "    </button>\n",
              "\n",
              "  <style>\n",
              "    .colab-df-container {\n",
              "      display:flex;\n",
              "      gap: 12px;\n",
              "    }\n",
              "\n",
              "    .colab-df-convert {\n",
              "      background-color: #E8F0FE;\n",
              "      border: none;\n",
              "      border-radius: 50%;\n",
              "      cursor: pointer;\n",
              "      display: none;\n",
              "      fill: #1967D2;\n",
              "      height: 32px;\n",
              "      padding: 0 0 0 0;\n",
              "      width: 32px;\n",
              "    }\n",
              "\n",
              "    .colab-df-convert:hover {\n",
              "      background-color: #E2EBFA;\n",
              "      box-shadow: 0px 1px 2px rgba(60, 64, 67, 0.3), 0px 1px 3px 1px rgba(60, 64, 67, 0.15);\n",
              "      fill: #174EA6;\n",
              "    }\n",
              "\n",
              "    .colab-df-buttons div {\n",
              "      margin-bottom: 4px;\n",
              "    }\n",
              "\n",
              "    [theme=dark] .colab-df-convert {\n",
              "      background-color: #3B4455;\n",
              "      fill: #D2E3FC;\n",
              "    }\n",
              "\n",
              "    [theme=dark] .colab-df-convert:hover {\n",
              "      background-color: #434B5C;\n",
              "      box-shadow: 0px 1px 3px 1px rgba(0, 0, 0, 0.15);\n",
              "      filter: drop-shadow(0px 1px 2px rgba(0, 0, 0, 0.3));\n",
              "      fill: #FFFFFF;\n",
              "    }\n",
              "  </style>\n",
              "\n",
              "    <script>\n",
              "      const buttonEl =\n",
              "        document.querySelector('#df-c913c42e-4882-4347-bfc7-44e0e76faf92 button.colab-df-convert');\n",
              "      buttonEl.style.display =\n",
              "        google.colab.kernel.accessAllowed ? 'block' : 'none';\n",
              "\n",
              "      async function convertToInteractive(key) {\n",
              "        const element = document.querySelector('#df-c913c42e-4882-4347-bfc7-44e0e76faf92');\n",
              "        const dataTable =\n",
              "          await google.colab.kernel.invokeFunction('convertToInteractive',\n",
              "                                                    [key], {});\n",
              "        if (!dataTable) return;\n",
              "\n",
              "        const docLinkHtml = 'Like what you see? Visit the ' +\n",
              "          '<a target=\"_blank\" href=https://colab.research.google.com/notebooks/data_table.ipynb>data table notebook</a>'\n",
              "          + ' to learn more about interactive tables.';\n",
              "        element.innerHTML = '';\n",
              "        dataTable['output_type'] = 'display_data';\n",
              "        await google.colab.output.renderOutput(dataTable, element);\n",
              "        const docLink = document.createElement('div');\n",
              "        docLink.innerHTML = docLinkHtml;\n",
              "        element.appendChild(docLink);\n",
              "      }\n",
              "    </script>\n",
              "  </div>\n",
              "\n",
              "\n",
              "<div id=\"df-5b7969fc-7de9-474c-a07f-4e7d5a631b92\">\n",
              "  <button class=\"colab-df-quickchart\" onclick=\"quickchart('df-5b7969fc-7de9-474c-a07f-4e7d5a631b92')\"\n",
              "            title=\"Suggest charts\"\n",
              "            style=\"display:none;\">\n",
              "\n",
              "<svg xmlns=\"http://www.w3.org/2000/svg\" height=\"24px\"viewBox=\"0 0 24 24\"\n",
              "     width=\"24px\">\n",
              "    <g>\n",
              "        <path d=\"M19 3H5c-1.1 0-2 .9-2 2v14c0 1.1.9 2 2 2h14c1.1 0 2-.9 2-2V5c0-1.1-.9-2-2-2zM9 17H7v-7h2v7zm4 0h-2V7h2v10zm4 0h-2v-4h2v4z\"/>\n",
              "    </g>\n",
              "</svg>\n",
              "  </button>\n",
              "\n",
              "<style>\n",
              "  .colab-df-quickchart {\n",
              "      --bg-color: #E8F0FE;\n",
              "      --fill-color: #1967D2;\n",
              "      --hover-bg-color: #E2EBFA;\n",
              "      --hover-fill-color: #174EA6;\n",
              "      --disabled-fill-color: #AAA;\n",
              "      --disabled-bg-color: #DDD;\n",
              "  }\n",
              "\n",
              "  [theme=dark] .colab-df-quickchart {\n",
              "      --bg-color: #3B4455;\n",
              "      --fill-color: #D2E3FC;\n",
              "      --hover-bg-color: #434B5C;\n",
              "      --hover-fill-color: #FFFFFF;\n",
              "      --disabled-bg-color: #3B4455;\n",
              "      --disabled-fill-color: #666;\n",
              "  }\n",
              "\n",
              "  .colab-df-quickchart {\n",
              "    background-color: var(--bg-color);\n",
              "    border: none;\n",
              "    border-radius: 50%;\n",
              "    cursor: pointer;\n",
              "    display: none;\n",
              "    fill: var(--fill-color);\n",
              "    height: 32px;\n",
              "    padding: 0;\n",
              "    width: 32px;\n",
              "  }\n",
              "\n",
              "  .colab-df-quickchart:hover {\n",
              "    background-color: var(--hover-bg-color);\n",
              "    box-shadow: 0 1px 2px rgba(60, 64, 67, 0.3), 0 1px 3px 1px rgba(60, 64, 67, 0.15);\n",
              "    fill: var(--button-hover-fill-color);\n",
              "  }\n",
              "\n",
              "  .colab-df-quickchart-complete:disabled,\n",
              "  .colab-df-quickchart-complete:disabled:hover {\n",
              "    background-color: var(--disabled-bg-color);\n",
              "    fill: var(--disabled-fill-color);\n",
              "    box-shadow: none;\n",
              "  }\n",
              "\n",
              "  .colab-df-spinner {\n",
              "    border: 2px solid var(--fill-color);\n",
              "    border-color: transparent;\n",
              "    border-bottom-color: var(--fill-color);\n",
              "    animation:\n",
              "      spin 1s steps(1) infinite;\n",
              "  }\n",
              "\n",
              "  @keyframes spin {\n",
              "    0% {\n",
              "      border-color: transparent;\n",
              "      border-bottom-color: var(--fill-color);\n",
              "      border-left-color: var(--fill-color);\n",
              "    }\n",
              "    20% {\n",
              "      border-color: transparent;\n",
              "      border-left-color: var(--fill-color);\n",
              "      border-top-color: var(--fill-color);\n",
              "    }\n",
              "    30% {\n",
              "      border-color: transparent;\n",
              "      border-left-color: var(--fill-color);\n",
              "      border-top-color: var(--fill-color);\n",
              "      border-right-color: var(--fill-color);\n",
              "    }\n",
              "    40% {\n",
              "      border-color: transparent;\n",
              "      border-right-color: var(--fill-color);\n",
              "      border-top-color: var(--fill-color);\n",
              "    }\n",
              "    60% {\n",
              "      border-color: transparent;\n",
              "      border-right-color: var(--fill-color);\n",
              "    }\n",
              "    80% {\n",
              "      border-color: transparent;\n",
              "      border-right-color: var(--fill-color);\n",
              "      border-bottom-color: var(--fill-color);\n",
              "    }\n",
              "    90% {\n",
              "      border-color: transparent;\n",
              "      border-bottom-color: var(--fill-color);\n",
              "    }\n",
              "  }\n",
              "</style>\n",
              "\n",
              "  <script>\n",
              "    async function quickchart(key) {\n",
              "      const quickchartButtonEl =\n",
              "        document.querySelector('#' + key + ' button');\n",
              "      quickchartButtonEl.disabled = true;  // To prevent multiple clicks.\n",
              "      quickchartButtonEl.classList.add('colab-df-spinner');\n",
              "      try {\n",
              "        const charts = await google.colab.kernel.invokeFunction(\n",
              "            'suggestCharts', [key], {});\n",
              "      } catch (error) {\n",
              "        console.error('Error during call to suggestCharts:', error);\n",
              "      }\n",
              "      quickchartButtonEl.classList.remove('colab-df-spinner');\n",
              "      quickchartButtonEl.classList.add('colab-df-quickchart-complete');\n",
              "    }\n",
              "    (() => {\n",
              "      let quickchartButtonEl =\n",
              "        document.querySelector('#df-5b7969fc-7de9-474c-a07f-4e7d5a631b92 button');\n",
              "      quickchartButtonEl.style.display =\n",
              "        google.colab.kernel.accessAllowed ? 'block' : 'none';\n",
              "    })();\n",
              "  </script>\n",
              "</div>\n",
              "\n",
              "    </div>\n",
              "  </div>\n"
            ],
            "application/vnd.google.colaboratory.intrinsic+json": {
              "type": "dataframe",
              "summary": "{\n  \"name\": \"df_numeric\",\n  \"rows\": 5,\n  \"fields\": [\n    {\n      \"column\": \"Hours_per_day\",\n      \"properties\": {\n        \"dtype\": \"number\",\n        \"std\": 0.40165905940237423,\n        \"min\": 0.05,\n        \"max\": 1.0,\n        \"num_unique_values\": 5,\n        \"samples\": [\n          0.05,\n          0.14,\n          0.12\n        ],\n        \"semantic_type\": \"\",\n        \"description\": \"\"\n      }\n    },\n    {\n      \"column\": \"Anxiety\",\n      \"properties\": {\n        \"dtype\": \"number\",\n        \"std\": 0.3544996473905158,\n        \"min\": 0.05,\n        \"max\": 1.0,\n        \"num_unique_values\": 5,\n        \"samples\": [\n          1.0,\n          0.29,\n          0.35\n        ],\n        \"semantic_type\": \"\",\n        \"description\": \"\"\n      }\n    },\n    {\n      \"column\": \"OCD\",\n      \"properties\": {\n        \"dtype\": \"number\",\n        \"std\": 0.35630043502639736,\n        \"min\": 0.12,\n        \"max\": 1.0,\n        \"num_unique_values\": 5,\n        \"samples\": [\n          0.35,\n          0.23,\n          1.0\n        ],\n        \"semantic_type\": \"\",\n        \"description\": \"\"\n      }\n    },\n    {\n      \"column\": \"Depression\",\n      \"properties\": {\n        \"dtype\": \"number\",\n        \"std\": 0.3500285702624859,\n        \"min\": 0.11,\n        \"max\": 1.0,\n        \"num_unique_values\": 5,\n        \"samples\": [\n          0.52,\n          0.38,\n          0.2\n        ],\n        \"semantic_type\": \"\",\n        \"description\": \"\"\n      }\n    },\n    {\n      \"column\": \"Insomnia\",\n      \"properties\": {\n        \"dtype\": \"number\",\n        \"std\": 0.34230103710038623,\n        \"min\": 0.14,\n        \"max\": 1.0,\n        \"num_unique_values\": 5,\n        \"samples\": [\n          0.29,\n          1.0,\n          0.23\n        ],\n        \"semantic_type\": \"\",\n        \"description\": \"\"\n      }\n    }\n  ]\n}"
            }
          },
          "metadata": {},
          "execution_count": 340
        }
      ]
    },
    {
      "cell_type": "code",
      "source": [
        "plt.figure(figsize=(10,8))\n",
        "plot=sns.heatmap(df_numeric.corr().round(2),annot = True)"
      ],
      "metadata": {
        "colab": {
          "base_uri": "https://localhost:8080/",
          "height": 682
        },
        "id": "p4IPHjGzRJ8P",
        "outputId": "7d268efc-e1a9-4639-f6b2-f3805ce8dae5"
      },
      "execution_count": 341,
      "outputs": [
        {
          "output_type": "display_data",
          "data": {
            "text/plain": [
              "<Figure size 1000x800 with 2 Axes>"
            ],
            "image/png": "[encoded data removed]"
          },
          "metadata": {}
        }
      ]
    },
    {
      "cell_type": "code",
      "source": [
        "import pandas as pd\n",
        "import scipy.stats as stats"
      ],
      "metadata": {
        "id": "Hk4hY6kaHKwb"
      },
      "execution_count": 342,
      "outputs": []
    },
    {
      "cell_type": "code",
      "source": [
        "correlation_coefficient, p_value = (stats.pearsonr(df['Hours_per_day'], df['Anxiety']))"
      ],
      "metadata": {
        "id": "X7BBK_Gn96sR"
      },
      "execution_count": 343,
      "outputs": []
    },
    {
      "cell_type": "code",
      "source": [
        "correlation_coefficient, p_value"
      ],
      "metadata": {
        "colab": {
          "base_uri": "https://localhost:8080/"
        },
        "id": "igr-5qmeHNgg",
        "outputId": "109e1e09-1f5a-4cc2-c29e-9c205c5f726f"
      },
      "execution_count": 344,
      "outputs": [
        {
          "output_type": "execute_result",
          "data": {
            "text/plain": [
              "(0.048928857243938986, 0.1848580268196319)"
            ]
          },
          "metadata": {},
          "execution_count": 344
        }
      ]
    },
    {
      "cell_type": "code",
      "source": [
        "correlation_coefficient = round(correlation_coefficient, 2)\n",
        "p_value = round(p_value, 2)"
      ],
      "metadata": {
        "id": "909zEpJPHqCz"
      },
      "execution_count": 345,
      "outputs": []
    },
    {
      "cell_type": "code",
      "source": [
        "correlation_coefficient"
      ],
      "metadata": {
        "colab": {
          "base_uri": "https://localhost:8080/"
        },
        "id": "GBylgeKgHrn7",
        "outputId": "21722eec-8b26-46e7-9a04-333f6e725fc3"
      },
      "execution_count": 346,
      "outputs": [
        {
          "output_type": "execute_result",
          "data": {
            "text/plain": [
              "0.05"
            ]
          },
          "metadata": {},
          "execution_count": 346
        }
      ]
    },
    {
      "cell_type": "code",
      "source": [
        "p_value"
      ],
      "metadata": {
        "colab": {
          "base_uri": "https://localhost:8080/"
        },
        "id": "IPDcnFD5H0Yq",
        "outputId": "5b0bbf1c-cdc5-4141-96ea-e3391a9d3a87"
      },
      "execution_count": 347,
      "outputs": [
        {
          "output_type": "execute_result",
          "data": {
            "text/plain": [
              "0.18"
            ]
          },
          "metadata": {},
          "execution_count": 347
        }
      ]
    },
    {
      "cell_type": "code",
      "source": [
        "import matplotlib.pyplot as plt\n",
        "\n",
        "# Significance level (alpha)\n",
        "alpha = 0.05\n",
        "\n",
        "# P-value from your analysis\n",
        "p_value = 0.18\n",
        "\n",
        "# Set up the graph\n",
        "plt.figure(figsize=(8, 6))\n",
        "\n",
        "# Heights of the bars\n",
        "plt.bar(['Null Hypothesis', 'Alternative Hypothesis'], [alpha, p_value], color=['blue', 'red'])\n",
        "\n",
        "# Add labels and annotations\n",
        "plt.xlabel('Hypothesis')\n",
        "plt.ylabel('P-value')\n",
        "plt.title('Hypothesis Test Results')\n",
        "plt.text(0, alpha + 0.01, f'Significance Level (alpha) = {alpha}', ha='center')\n",
        "plt.text(1, p_value + 0.01, f'P-value = {p_value}', ha='center')\n",
        "\n",
        "# Show the graph\n",
        "plt.show()"
      ],
      "metadata": {
        "colab": {
          "base_uri": "https://localhost:8080/",
          "height": 564
        },
        "id": "AazmPFtgKSp1",
        "outputId": "fa06eaa4-07b7-4228-c88d-337f70984dad"
      },
      "execution_count": 348,
      "outputs": [
        {
          "output_type": "display_data",
          "data": {
            "text/plain": [
              "<Figure size 800x600 with 1 Axes>"
            ],
            "image/png": "[encoded data removed]"
          },
          "metadata": {}
        }
      ]
    },
    {
      "cell_type": "markdown",
      "source": [
        "Given the p value is greater than alpha, we fail to reject the null hypothesis. This means we don't have suffiecient evidence to conclude that listening to the music for longer hours has any impact on anxeity."
      ],
      "metadata": {
        "id": "fHq1mO3n3ubk"
      }
    },
    {
      "cell_type": "code",
      "source": [
        "correlation_coefficient, p_value = (stats.pearsonr(df['Hours_per_day'], df['OCD']))"
      ],
      "metadata": {
        "id": "C5LRryT-MBvT"
      },
      "execution_count": 349,
      "outputs": []
    },
    {
      "cell_type": "code",
      "source": [
        "correlation_coefficient = round(correlation_coefficient, 2)\n",
        "p_value = round(p_value, 2)\n",
        "p_value, correlation_coefficient"
      ],
      "metadata": {
        "colab": {
          "base_uri": "https://localhost:8080/"
        },
        "id": "cY-OTR1wMnHF",
        "outputId": "df0cc2da-2250-4093-f0c3-38f6bd460e78"
      },
      "execution_count": 350,
      "outputs": [
        {
          "output_type": "execute_result",
          "data": {
            "text/plain": [
              "(0.0, 0.12)"
            ]
          },
          "metadata": {},
          "execution_count": 350
        }
      ]
    },
    {
      "cell_type": "code",
      "source": [
        "# Significance level (alpha)\n",
        "alpha = 0.05\n",
        "\n",
        "# P-value from your analysis\n",
        "p_value = 0.0\n",
        "\n",
        "# Set up the graph\n",
        "plt.figure(figsize=(8, 6))\n",
        "\n",
        "# Heights of the bars\n",
        "plt.bar(['Null Hypothesis', 'Alternative Hypothesis'], [alpha, p_value], color=['blue', 'red'])\n",
        "\n",
        "# Add labels and annotations\n",
        "plt.xlabel('Hypothesis')\n",
        "plt.ylabel('P-value')\n",
        "plt.title('Hypothesis Test Results')\n",
        "plt.text(0, alpha + 0.01, f'Significance Level (alpha) = {alpha}', ha='center')\n",
        "plt.text(1, p_value + 0.01, f'P-value = {p_value}', ha='center')\n",
        "\n",
        "# Show the graph\n",
        "plt.show()"
      ],
      "metadata": {
        "colab": {
          "base_uri": "https://localhost:8080/",
          "height": 619
        },
        "id": "8AtBrToOM0af",
        "outputId": "87fb8994-324a-4f32-ef53-119574ca116e"
      },
      "execution_count": 351,
      "outputs": [
        {
          "output_type": "display_data",
          "data": {
            "text/plain": [
              "<Figure size 800x600 with 1 Axes>"
            ],
            "image/png": "[encoded data removed]"
          },
          "metadata": {}
        }
      ]
    },
    {
      "cell_type": "markdown",
      "source": [
        "A p-value of 0.001 indicates that if the null hypothesis tested were indeed true, then there would be a one-in-1,000 chance of observing results at least as extreme. This leads the observer to reject the null hypothesis because either a highly rare data result has been observed or the null hypothesis is incorrect. Thus we conclude there is no significant evidence indicating whether there is any relationship between listening to music for long hours and OCD."
      ],
      "metadata": {
        "id": "Kohk4Tpg47Ic"
      }
    },
    {
      "cell_type": "code",
      "source": [
        "correlation_coefficient, p_value = (stats.pearsonr(df['Hours_per_day'], df['Insomnia']))\n",
        "correlation_coefficient = round(correlation_coefficient, 2)\n",
        "p_value\n",
        "p_value, correlation_coefficient"
      ],
      "metadata": {
        "colab": {
          "base_uri": "https://localhost:8080/"
        },
        "id": "UoQpuJvzNA56",
        "outputId": "209e2aa3-0bc2-4bb9-a263-d507ccb7e094"
      },
      "execution_count": 409,
      "outputs": [
        {
          "output_type": "execute_result",
          "data": {
            "text/plain": [
              "(9.847834304161026e-05, 0.14)"
            ]
          },
          "metadata": {},
          "execution_count": 409
        }
      ]
    },
    {
      "cell_type": "code",
      "source": [
        "# Significance level (alpha)\n",
        "alpha = 0.05\n",
        "\n",
        "# P-value from your analysis\n",
        "p_value = 0.0\n",
        "\n",
        "# Set up the graph\n",
        "plt.figure(figsize=(8, 6))\n",
        "\n",
        "# Heights of the bars\n",
        "plt.bar(['Null Hypothesis', 'Alternative Hypothesis'], [alpha, p_value], color=['blue', 'red'])\n",
        "\n",
        "# Add labels and annotations\n",
        "plt.xlabel('Hypothesis')\n",
        "plt.ylabel('P-value')\n",
        "plt.title('Hypothesis Test Results')\n",
        "plt.text(0, alpha + 0.01, f'Significance Level (alpha) = {alpha}', ha='center')\n",
        "plt.text(1, p_value + 0.01, f'P-value = {p_value}', ha='center')\n",
        "\n",
        "# Show the graph\n",
        "plt.show()"
      ],
      "metadata": {
        "colab": {
          "base_uri": "https://localhost:8080/",
          "height": 619
        },
        "id": "ILaZensaNyH2",
        "outputId": "eca42930-d6fb-4878-fb9d-691445c1b1b5"
      },
      "execution_count": 353,
      "outputs": [
        {
          "output_type": "display_data",
          "data": {
            "text/plain": [
              "<Figure size 800x600 with 1 Axes>"
            ],
            "image/png": "[encoded data removed]"
          },
          "metadata": {}
        }
      ]
    },
    {
      "cell_type": "markdown",
      "source": [
        "A p-value of 0.001 indicates that if the null hypothesis tested were indeed true, then there would be a one-in-1,000 chance of observing results at least as extreme. This leads the observer to reject the null hypothesis because either a highly rare data result has been observed or the null hypothesis is incorrect. Thus we conclude there is no significant evidence indicating whether there is any relationship between listening to music for long hours and insomnia.\n",
        "\n"
      ],
      "metadata": {
        "id": "t94b4djS5Y-k"
      }
    },
    {
      "cell_type": "code",
      "source": [
        "correlation_coefficient, p_value = (stats.pearsonr(df['Hours_per_day'], df['Depression']))\n",
        "correlation_coefficient = round(correlation_coefficient, 2)\n",
        "p_value\n",
        "p_value, correlation_coefficient"
      ],
      "metadata": {
        "colab": {
          "base_uri": "https://localhost:8080/"
        },
        "id": "0zwoRDQGN1g7",
        "outputId": "ad23cf31-a957-4d95-ff7f-79fd65b068da"
      },
      "execution_count": 408,
      "outputs": [
        {
          "output_type": "execute_result",
          "data": {
            "text/plain": [
              "(0.0024848554373826195, 0.11)"
            ]
          },
          "metadata": {},
          "execution_count": 408
        }
      ]
    },
    {
      "cell_type": "code",
      "source": [
        "# Significance level (alpha)\n",
        "alpha = 0.05\n",
        "\n",
        "# P-value from your analysis\n",
        "p_value = 0.0\n",
        "\n",
        "# Set up the graph\n",
        "plt.figure(figsize=(8, 6))\n",
        "\n",
        "# Heights of the bars\n",
        "plt.bar(['Null Hypothesis', 'Alternative Hypothesis'], [alpha, p_value], color=['blue', 'red'])\n",
        "\n",
        "# Add labels and annotations\n",
        "plt.xlabel('Hypothesis')\n",
        "plt.ylabel('P-value')\n",
        "plt.title('Hypothesis Test Results')\n",
        "plt.text(0, alpha + 0.01, f'Significance Level (alpha) = {alpha}', ha='center')\n",
        "plt.text(1, p_value + 0.01, f'P-value = {p_value}', ha='center')\n",
        "\n",
        "# Show the graph\n",
        "plt.show()"
      ],
      "metadata": {
        "colab": {
          "base_uri": "https://localhost:8080/",
          "height": 619
        },
        "id": "Su71elYRN-ot",
        "outputId": "43fa9a20-4e3d-4c86-8dae-ba2f414ac219"
      },
      "execution_count": 407,
      "outputs": [
        {
          "output_type": "display_data",
          "data": {
            "text/plain": [
              "<Figure size 800x600 with 1 Axes>"
            ],
            "image/png": "[encoded data removed]"
          },
          "metadata": {}
        }
      ]
    },
    {
      "cell_type": "markdown",
      "source": [
        "A p-value of 0.001 indicates that if the null hypothesis tested were indeed true, then there would be a one-in-1,000 chance of observing results at least as extreme. This leads the observer to reject the null hypothesis because either a highly rare data result has been observed or the null hypothesis is incorrect. Thus we conclude there is no significant evidence indicating whether there is any relationship between listening to music for long hours and depression."
      ],
      "metadata": {
        "id": "Y_UstAEmCXVr"
      }
    },
    {
      "cell_type": "code",
      "source": [
        "df['While_working'] = df['While_working'].astype(int)"
      ],
      "metadata": {
        "id": "IldkLVcURywk"
      },
      "execution_count": 377,
      "outputs": []
    },
    {
      "cell_type": "code",
      "source": [
        "df['Instrumentalist'] = df['Instrumentalist'].astype(int)"
      ],
      "metadata": {
        "id": "npdmdparwMkc"
      },
      "execution_count": 378,
      "outputs": []
    },
    {
      "cell_type": "code",
      "source": [
        "df['Composer'] = df['Composer'].astype(int)"
      ],
      "metadata": {
        "id": "5wTHncAkwNEG"
      },
      "execution_count": 379,
      "outputs": []
    },
    {
      "cell_type": "code",
      "source": [
        "df['Foreign_languages'] = df['Foreign_languages'].astype(int)"
      ],
      "metadata": {
        "id": "E5tjp9XHwNkg"
      },
      "execution_count": 380,
      "outputs": []
    },
    {
      "cell_type": "code",
      "source": [
        "df"
      ],
      "metadata": {
        "colab": {
          "base_uri": "https://localhost:8080/",
          "height": 635
        },
        "id": "Vyy1YCTsqurJ",
        "outputId": "6f630c29-316f-4403-b864-7bb989106eb0"
      },
      "execution_count": 381,
      "outputs": [
        {
          "output_type": "execute_result",
          "data": {
            "text/plain": [
              "     Unnamed: 0  Age          Primary_streaming_service  Hours_per_day  \\\n",
              "0             0   25                        Apple Music              2   \n",
              "1             1   16            Other streaming service              4   \n",
              "2             2   22                            Spotify             10   \n",
              "3             3   26                            Spotify              6   \n",
              "4             4   18  I do not use a streaming service.              4   \n",
              "..          ...  ...                                ...            ...   \n",
              "731         731   29                      YouTube Music              2   \n",
              "732         732   17                            Spotify              4   \n",
              "733         733   17                            Spotify              3   \n",
              "734         734   13                            Spotify              1   \n",
              "735         735   24  I do not use a streaming service.              8   \n",
              "\n",
              "     While_working  Instrumentalist  Composer         Fav_genre  Exploratory  \\\n",
              "0                0                0         0               EDM        False   \n",
              "1                1                0         0               EDM         True   \n",
              "2                0                1         1               EDM        False   \n",
              "3                1                0         0               EDM        False   \n",
              "4                1                1         0               EDM        False   \n",
              "..             ...              ...       ...               ...          ...   \n",
              "731              1                0         0           Hip hop         True   \n",
              "732              0                1         0         Classical         True   \n",
              "733              1                0         0         Classical         True   \n",
              "734              1                0         0  Video game music         True   \n",
              "735              1                0         1  Video game music         True   \n",
              "\n",
              "     Foreign_languages  ... Anxiety Depression Insomnia OCD Music_effects  \\\n",
              "0                    1  ...      10          3        1   4       Improve   \n",
              "1                    1  ...       4          7        1   3       Improve   \n",
              "2                    1  ...       4          7        7   3       Improve   \n",
              "3                    1  ...      10         10        8   2     No effect   \n",
              "4                    1  ...       8          7       10   6       Improve   \n",
              "..                 ...  ...     ...        ...      ...  ..           ...   \n",
              "731                  1  ...       2          2        2   5       Improve   \n",
              "732                  1  ...       7          9        2   8        Worsen   \n",
              "733                  1  ...       6          6        8   2       Improve   \n",
              "734                  0  ...      10         10        8   4        Worsen   \n",
              "735                  0  ...       6          4        8   8       Improve   \n",
              "\n",
              "           Date      Time  Year Month Day  \n",
              "0    2022-08-28  23:26:58  2022     8  28  \n",
              "1    2022-09-13  01:55:43  2022     9  13  \n",
              "2    2022-08-28  17:15:18  2022     8  28  \n",
              "3    2022-08-30  05:16:13  2022     8  30  \n",
              "4    2022-09-02  09:25:05  2022     9   2  \n",
              "..          ...       ...   ...   ...  ..  \n",
              "731  2022-11-09  01:55:20  2022    11   9  \n",
              "732  2022-08-28  23:23:50  2022     8  28  \n",
              "733  2022-08-28  11:58:48  2022     8  28  \n",
              "734  2022-10-22  15:20:29  2022    10  22  \n",
              "735  2022-08-29  01:22:44  2022     8  29  \n",
              "\n",
              "[736 rows x 37 columns]"
            ],
            "text/html": [
              "\n",
              "  <div id=\"df-26535880-c8ec-4203-90fe-81ca7bbe434b\" class=\"colab-df-container\">\n",
              "    <div>\n",
              "<style scoped>\n",
              "    .dataframe tbody tr th:only-of-type {\n",
              "        vertical-align: middle;\n",
              "    }\n",
              "\n",
              "    .dataframe tbody tr th {\n",
              "        vertical-align: top;\n",
              "    }\n",
              "\n",
              "    .dataframe thead th {\n",
              "        text-align: right;\n",
              "    }\n",
              "</style>\n",
              "<table border=\"1\" class=\"dataframe\">\n",
              "  <thead>\n",
              "    <tr style=\"text-align: right;\">\n",
              "      <th></th>\n",
              "      <th>Unnamed: 0</th>\n",
              "      <th>Age</th>\n",
              "      <th>Primary_streaming_service</th>\n",
              "      <th>Hours_per_day</th>\n",
              "      <th>While_working</th>\n",
              "      <th>Instrumentalist</th>\n",
              "      <th>Composer</th>\n",
              "      <th>Fav_genre</th>\n",
              "      <th>Exploratory</th>\n",
              "      <th>Foreign_languages</th>\n",
              "      <th>...</th>\n",
              "      <th>Anxiety</th>\n",
              "      <th>Depression</th>\n",
              "      <th>Insomnia</th>\n",
              "      <th>OCD</th>\n",
              "      <th>Music_effects</th>\n",
              "      <th>Date</th>\n",
              "      <th>Time</th>\n",
              "      <th>Year</th>\n",
              "      <th>Month</th>\n",
              "      <th>Day</th>\n",
              "    </tr>\n",
              "  </thead>\n",
              "  <tbody>\n",
              "    <tr>\n",
              "      <th>0</th>\n",
              "      <td>0</td>\n",
              "      <td>25</td>\n",
              "      <td>Apple Music</td>\n",
              "      <td>2</td>\n",
              "      <td>0</td>\n",
              "      <td>0</td>\n",
              "      <td>0</td>\n",
              "      <td>EDM</td>\n",
              "      <td>False</td>\n",
              "      <td>1</td>\n",
              "      <td>...</td>\n",
              "      <td>10</td>\n",
              "      <td>3</td>\n",
              "      <td>1</td>\n",
              "      <td>4</td>\n",
              "      <td>Improve</td>\n",
              "      <td>2022-08-28</td>\n",
              "      <td>23:26:58</td>\n",
              "      <td>2022</td>\n",
              "      <td>8</td>\n",
              "      <td>28</td>\n",
              "    </tr>\n",
              "    <tr>\n",
              "      <th>1</th>\n",
              "      <td>1</td>\n",
              "      <td>16</td>\n",
              "      <td>Other streaming service</td>\n",
              "      <td>4</td>\n",
              "      <td>1</td>\n",
              "      <td>0</td>\n",
              "      <td>0</td>\n",
              "      <td>EDM</td>\n",
              "      <td>True</td>\n",
              "      <td>1</td>\n",
              "      <td>...</td>\n",
              "      <td>4</td>\n",
              "      <td>7</td>\n",
              "      <td>1</td>\n",
              "      <td>3</td>\n",
              "      <td>Improve</td>\n",
              "      <td>2022-09-13</td>\n",
              "      <td>01:55:43</td>\n",
              "      <td>2022</td>\n",
              "      <td>9</td>\n",
              "      <td>13</td>\n",
              "    </tr>\n",
              "    <tr>\n",
              "      <th>2</th>\n",
              "      <td>2</td>\n",
              "      <td>22</td>\n",
              "      <td>Spotify</td>\n",
              "      <td>10</td>\n",
              "      <td>0</td>\n",
              "      <td>1</td>\n",
              "      <td>1</td>\n",
              "      <td>EDM</td>\n",
              "      <td>False</td>\n",
              "      <td>1</td>\n",
              "      <td>...</td>\n",
              "      <td>4</td>\n",
              "      <td>7</td>\n",
              "      <td>7</td>\n",
              "      <td>3</td>\n",
              "      <td>Improve</td>\n",
              "      <td>2022-08-28</td>\n",
              "      <td>17:15:18</td>\n",
              "      <td>2022</td>\n",
              "      <td>8</td>\n",
              "      <td>28</td>\n",
              "    </tr>\n",
              "    <tr>\n",
              "      <th>3</th>\n",
              "      <td>3</td>\n",
              "      <td>26</td>\n",
              "      <td>Spotify</td>\n",
              "      <td>6</td>\n",
              "      <td>1</td>\n",
              "      <td>0</td>\n",
              "      <td>0</td>\n",
              "      <td>EDM</td>\n",
              "      <td>False</td>\n",
              "      <td>1</td>\n",
              "      <td>...</td>\n",
              "      <td>10</td>\n",
              "      <td>10</td>\n",
              "      <td>8</td>\n",
              "      <td>2</td>\n",
              "      <td>No effect</td>\n",
              "      <td>2022-08-30</td>\n",
              "      <td>05:16:13</td>\n",
              "      <td>2022</td>\n",
              "      <td>8</td>\n",
              "      <td>30</td>\n",
              "    </tr>\n",
              "    <tr>\n",
              "      <th>4</th>\n",
              "      <td>4</td>\n",
              "      <td>18</td>\n",
              "      <td>I do not use a streaming service.</td>\n",
              "      <td>4</td>\n",
              "      <td>1</td>\n",
              "      <td>1</td>\n",
              "      <td>0</td>\n",
              "      <td>EDM</td>\n",
              "      <td>False</td>\n",
              "      <td>1</td>\n",
              "      <td>...</td>\n",
              "      <td>8</td>\n",
              "      <td>7</td>\n",
              "      <td>10</td>\n",
              "      <td>6</td>\n",
              "      <td>Improve</td>\n",
              "      <td>2022-09-02</td>\n",
              "      <td>09:25:05</td>\n",
              "      <td>2022</td>\n",
              "      <td>9</td>\n",
              "      <td>2</td>\n",
              "    </tr>\n",
              "    <tr>\n",
              "      <th>...</th>\n",
              "      <td>...</td>\n",
              "      <td>...</td>\n",
              "      <td>...</td>\n",
              "      <td>...</td>\n",
              "      <td>...</td>\n",
              "      <td>...</td>\n",
              "      <td>...</td>\n",
              "      <td>...</td>\n",
              "      <td>...</td>\n",
              "      <td>...</td>\n",
              "      <td>...</td>\n",
              "      <td>...</td>\n",
              "      <td>...</td>\n",
              "      <td>...</td>\n",
              "      <td>...</td>\n",
              "      <td>...</td>\n",
              "      <td>...</td>\n",
              "      <td>...</td>\n",
              "      <td>...</td>\n",
              "      <td>...</td>\n",
              "      <td>...</td>\n",
              "    </tr>\n",
              "    <tr>\n",
              "      <th>731</th>\n",
              "      <td>731</td>\n",
              "      <td>29</td>\n",
              "      <td>YouTube Music</td>\n",
              "      <td>2</td>\n",
              "      <td>1</td>\n",
              "      <td>0</td>\n",
              "      <td>0</td>\n",
              "      <td>Hip hop</td>\n",
              "      <td>True</td>\n",
              "      <td>1</td>\n",
              "      <td>...</td>\n",
              "      <td>2</td>\n",
              "      <td>2</td>\n",
              "      <td>2</td>\n",
              "      <td>5</td>\n",
              "      <td>Improve</td>\n",
              "      <td>2022-11-09</td>\n",
              "      <td>01:55:20</td>\n",
              "      <td>2022</td>\n",
              "      <td>11</td>\n",
              "      <td>9</td>\n",
              "    </tr>\n",
              "    <tr>\n",
              "      <th>732</th>\n",
              "      <td>732</td>\n",
              "      <td>17</td>\n",
              "      <td>Spotify</td>\n",
              "      <td>4</td>\n",
              "      <td>0</td>\n",
              "      <td>1</td>\n",
              "      <td>0</td>\n",
              "      <td>Classical</td>\n",
              "      <td>True</td>\n",
              "      <td>1</td>\n",
              "      <td>...</td>\n",
              "      <td>7</td>\n",
              "      <td>9</td>\n",
              "      <td>2</td>\n",
              "      <td>8</td>\n",
              "      <td>Worsen</td>\n",
              "      <td>2022-08-28</td>\n",
              "      <td>23:23:50</td>\n",
              "      <td>2022</td>\n",
              "      <td>8</td>\n",
              "      <td>28</td>\n",
              "    </tr>\n",
              "    <tr>\n",
              "      <th>733</th>\n",
              "      <td>733</td>\n",
              "      <td>17</td>\n",
              "      <td>Spotify</td>\n",
              "      <td>3</td>\n",
              "      <td>1</td>\n",
              "      <td>0</td>\n",
              "      <td>0</td>\n",
              "      <td>Classical</td>\n",
              "      <td>True</td>\n",
              "      <td>1</td>\n",
              "      <td>...</td>\n",
              "      <td>6</td>\n",
              "      <td>6</td>\n",
              "      <td>8</td>\n",
              "      <td>2</td>\n",
              "      <td>Improve</td>\n",
              "      <td>2022-08-28</td>\n",
              "      <td>11:58:48</td>\n",
              "      <td>2022</td>\n",
              "      <td>8</td>\n",
              "      <td>28</td>\n",
              "    </tr>\n",
              "    <tr>\n",
              "      <th>734</th>\n",
              "      <td>734</td>\n",
              "      <td>13</td>\n",
              "      <td>Spotify</td>\n",
              "      <td>1</td>\n",
              "      <td>1</td>\n",
              "      <td>0</td>\n",
              "      <td>0</td>\n",
              "      <td>Video game music</td>\n",
              "      <td>True</td>\n",
              "      <td>0</td>\n",
              "      <td>...</td>\n",
              "      <td>10</td>\n",
              "      <td>10</td>\n",
              "      <td>8</td>\n",
              "      <td>4</td>\n",
              "      <td>Worsen</td>\n",
              "      <td>2022-10-22</td>\n",
              "      <td>15:20:29</td>\n",
              "      <td>2022</td>\n",
              "      <td>10</td>\n",
              "      <td>22</td>\n",
              "    </tr>\n",
              "    <tr>\n",
              "      <th>735</th>\n",
              "      <td>735</td>\n",
              "      <td>24</td>\n",
              "      <td>I do not use a streaming service.</td>\n",
              "      <td>8</td>\n",
              "      <td>1</td>\n",
              "      <td>0</td>\n",
              "      <td>1</td>\n",
              "      <td>Video game music</td>\n",
              "      <td>True</td>\n",
              "      <td>0</td>\n",
              "      <td>...</td>\n",
              "      <td>6</td>\n",
              "      <td>4</td>\n",
              "      <td>8</td>\n",
              "      <td>8</td>\n",
              "      <td>Improve</td>\n",
              "      <td>2022-08-29</td>\n",
              "      <td>01:22:44</td>\n",
              "      <td>2022</td>\n",
              "      <td>8</td>\n",
              "      <td>29</td>\n",
              "    </tr>\n",
              "  </tbody>\n",
              "</table>\n",
              "<p>736 rows × 37 columns</p>\n",
              "</div>\n",
              "    <div class=\"colab-df-buttons\">\n",
              "\n",
              "  <div class=\"colab-df-container\">\n",
              "    <button class=\"colab-df-convert\" onclick=\"convertToInteractive('df-26535880-c8ec-4203-90fe-81ca7bbe434b')\"\n",
              "            title=\"Convert this dataframe to an interactive table.\"\n",
              "            style=\"display:none;\">\n",
              "\n",
              "  <svg xmlns=\"http://www.w3.org/2000/svg\" height=\"24px\" viewBox=\"0 -960 960 960\">\n",
              "    <path d=\"M120-120v-720h720v720H120Zm60-500h600v-160H180v160Zm220 220h160v-160H400v160Zm0 220h160v-160H400v160ZM180-400h160v-160H180v160Zm440 0h160v-160H620v160ZM180-180h160v-160H180v160Zm440 0h160v-160H620v160Z\"/>\n",
              "  </svg>\n",
              "    </button>\n",
              "\n",
              "  <style>\n",
              "    .colab-df-container {\n",
              "      display:flex;\n",
              "      gap: 12px;\n",
              "    }\n",
              "\n",
              "    .colab-df-convert {\n",
              "      background-color: #E8F0FE;\n",
              "      border: none;\n",
              "      border-radius: 50%;\n",
              "      cursor: pointer;\n",
              "      display: none;\n",
              "      fill: #1967D2;\n",
              "      height: 32px;\n",
              "      padding: 0 0 0 0;\n",
              "      width: 32px;\n",
              "    }\n",
              "\n",
              "    .colab-df-convert:hover {\n",
              "      background-color: #E2EBFA;\n",
              "      box-shadow: 0px 1px 2px rgba(60, 64, 67, 0.3), 0px 1px 3px 1px rgba(60, 64, 67, 0.15);\n",
              "      fill: #174EA6;\n",
              "    }\n",
              "\n",
              "    .colab-df-buttons div {\n",
              "      margin-bottom: 4px;\n",
              "    }\n",
              "\n",
              "    [theme=dark] .colab-df-convert {\n",
              "      background-color: #3B4455;\n",
              "      fill: #D2E3FC;\n",
              "    }\n",
              "\n",
              "    [theme=dark] .colab-df-convert:hover {\n",
              "      background-color: #434B5C;\n",
              "      box-shadow: 0px 1px 3px 1px rgba(0, 0, 0, 0.15);\n",
              "      filter: drop-shadow(0px 1px 2px rgba(0, 0, 0, 0.3));\n",
              "      fill: #FFFFFF;\n",
              "    }\n",
              "  </style>\n",
              "\n",
              "    <script>\n",
              "      const buttonEl =\n",
              "        document.querySelector('#df-26535880-c8ec-4203-90fe-81ca7bbe434b button.colab-df-convert');\n",
              "      buttonEl.style.display =\n",
              "        google.colab.kernel.accessAllowed ? 'block' : 'none';\n",
              "\n",
              "      async function convertToInteractive(key) {\n",
              "        const element = document.querySelector('#df-26535880-c8ec-4203-90fe-81ca7bbe434b');\n",
              "        const dataTable =\n",
              "          await google.colab.kernel.invokeFunction('convertToInteractive',\n",
              "                                                    [key], {});\n",
              "        if (!dataTable) return;\n",
              "\n",
              "        const docLinkHtml = 'Like what you see? Visit the ' +\n",
              "          '<a target=\"_blank\" href=https://colab.research.google.com/notebooks/data_table.ipynb>data table notebook</a>'\n",
              "          + ' to learn more about interactive tables.';\n",
              "        element.innerHTML = '';\n",
              "        dataTable['output_type'] = 'display_data';\n",
              "        await google.colab.output.renderOutput(dataTable, element);\n",
              "        const docLink = document.createElement('div');\n",
              "        docLink.innerHTML = docLinkHtml;\n",
              "        element.appendChild(docLink);\n",
              "      }\n",
              "    </script>\n",
              "  </div>\n",
              "\n",
              "\n",
              "<div id=\"df-4f12843b-5b52-4f92-9d81-114e55ab366a\">\n",
              "  <button class=\"colab-df-quickchart\" onclick=\"quickchart('df-4f12843b-5b52-4f92-9d81-114e55ab366a')\"\n",
              "            title=\"Suggest charts\"\n",
              "            style=\"display:none;\">\n",
              "\n",
              "<svg xmlns=\"http://www.w3.org/2000/svg\" height=\"24px\"viewBox=\"0 0 24 24\"\n",
              "     width=\"24px\">\n",
              "    <g>\n",
              "        <path d=\"M19 3H5c-1.1 0-2 .9-2 2v14c0 1.1.9 2 2 2h14c1.1 0 2-.9 2-2V5c0-1.1-.9-2-2-2zM9 17H7v-7h2v7zm4 0h-2V7h2v10zm4 0h-2v-4h2v4z\"/>\n",
              "    </g>\n",
              "</svg>\n",
              "  </button>\n",
              "\n",
              "<style>\n",
              "  .colab-df-quickchart {\n",
              "      --bg-color: #E8F0FE;\n",
              "      --fill-color: #1967D2;\n",
              "      --hover-bg-color: #E2EBFA;\n",
              "      --hover-fill-color: #174EA6;\n",
              "      --disabled-fill-color: #AAA;\n",
              "      --disabled-bg-color: #DDD;\n",
              "  }\n",
              "\n",
              "  [theme=dark] .colab-df-quickchart {\n",
              "      --bg-color: #3B4455;\n",
              "      --fill-color: #D2E3FC;\n",
              "      --hover-bg-color: #434B5C;\n",
              "      --hover-fill-color: #FFFFFF;\n",
              "      --disabled-bg-color: #3B4455;\n",
              "      --disabled-fill-color: #666;\n",
              "  }\n",
              "\n",
              "  .colab-df-quickchart {\n",
              "    background-color: var(--bg-color);\n",
              "    border: none;\n",
              "    border-radius: 50%;\n",
              "    cursor: pointer;\n",
              "    display: none;\n",
              "    fill: var(--fill-color);\n",
              "    height: 32px;\n",
              "    padding: 0;\n",
              "    width: 32px;\n",
              "  }\n",
              "\n",
              "  .colab-df-quickchart:hover {\n",
              "    background-color: var(--hover-bg-color);\n",
              "    box-shadow: 0 1px 2px rgba(60, 64, 67, 0.3), 0 1px 3px 1px rgba(60, 64, 67, 0.15);\n",
              "    fill: var(--button-hover-fill-color);\n",
              "  }\n",
              "\n",
              "  .colab-df-quickchart-complete:disabled,\n",
              "  .colab-df-quickchart-complete:disabled:hover {\n",
              "    background-color: var(--disabled-bg-color);\n",
              "    fill: var(--disabled-fill-color);\n",
              "    box-shadow: none;\n",
              "  }\n",
              "\n",
              "  .colab-df-spinner {\n",
              "    border: 2px solid var(--fill-color);\n",
              "    border-color: transparent;\n",
              "    border-bottom-color: var(--fill-color);\n",
              "    animation:\n",
              "      spin 1s steps(1) infinite;\n",
              "  }\n",
              "\n",
              "  @keyframes spin {\n",
              "    0% {\n",
              "      border-color: transparent;\n",
              "      border-bottom-color: var(--fill-color);\n",
              "      border-left-color: var(--fill-color);\n",
              "    }\n",
              "    20% {\n",
              "      border-color: transparent;\n",
              "      border-left-color: var(--fill-color);\n",
              "      border-top-color: var(--fill-color);\n",
              "    }\n",
              "    30% {\n",
              "      border-color: transparent;\n",
              "      border-left-color: var(--fill-color);\n",
              "      border-top-color: var(--fill-color);\n",
              "      border-right-color: var(--fill-color);\n",
              "    }\n",
              "    40% {\n",
              "      border-color: transparent;\n",
              "      border-right-color: var(--fill-color);\n",
              "      border-top-color: var(--fill-color);\n",
              "    }\n",
              "    60% {\n",
              "      border-color: transparent;\n",
              "      border-right-color: var(--fill-color);\n",
              "    }\n",
              "    80% {\n",
              "      border-color: transparent;\n",
              "      border-right-color: var(--fill-color);\n",
              "      border-bottom-color: var(--fill-color);\n",
              "    }\n",
              "    90% {\n",
              "      border-color: transparent;\n",
              "      border-bottom-color: var(--fill-color);\n",
              "    }\n",
              "  }\n",
              "</style>\n",
              "\n",
              "  <script>\n",
              "    async function quickchart(key) {\n",
              "      const quickchartButtonEl =\n",
              "        document.querySelector('#' + key + ' button');\n",
              "      quickchartButtonEl.disabled = true;  // To prevent multiple clicks.\n",
              "      quickchartButtonEl.classList.add('colab-df-spinner');\n",
              "      try {\n",
              "        const charts = await google.colab.kernel.invokeFunction(\n",
              "            'suggestCharts', [key], {});\n",
              "      } catch (error) {\n",
              "        console.error('Error during call to suggestCharts:', error);\n",
              "      }\n",
              "      quickchartButtonEl.classList.remove('colab-df-spinner');\n",
              "      quickchartButtonEl.classList.add('colab-df-quickchart-complete');\n",
              "    }\n",
              "    (() => {\n",
              "      let quickchartButtonEl =\n",
              "        document.querySelector('#df-4f12843b-5b52-4f92-9d81-114e55ab366a button');\n",
              "      quickchartButtonEl.style.display =\n",
              "        google.colab.kernel.accessAllowed ? 'block' : 'none';\n",
              "    })();\n",
              "  </script>\n",
              "</div>\n",
              "\n",
              "  <div id=\"id_1b39468d-2e96-4070-abc4-5bace551c343\">\n",
              "    <style>\n",
              "      .colab-df-generate {\n",
              "        background-color: #E8F0FE;\n",
              "        border: none;\n",
              "        border-radius: 50%;\n",
              "        cursor: pointer;\n",
              "        display: none;\n",
              "        fill: #1967D2;\n",
              "        height: 32px;\n",
              "        padding: 0 0 0 0;\n",
              "        width: 32px;\n",
              "      }\n",
              "\n",
              "      .colab-df-generate:hover {\n",
              "        background-color: #E2EBFA;\n",
              "        box-shadow: 0px 1px 2px rgba(60, 64, 67, 0.3), 0px 1px 3px 1px rgba(60, 64, 67, 0.15);\n",
              "        fill: #174EA6;\n",
              "      }\n",
              "\n",
              "      [theme=dark] .colab-df-generate {\n",
              "        background-color: #3B4455;\n",
              "        fill: #D2E3FC;\n",
              "      }\n",
              "\n",
              "      [theme=dark] .colab-df-generate:hover {\n",
              "        background-color: #434B5C;\n",
              "        box-shadow: 0px 1px 3px 1px rgba(0, 0, 0, 0.15);\n",
              "        filter: drop-shadow(0px 1px 2px rgba(0, 0, 0, 0.3));\n",
              "        fill: #FFFFFF;\n",
              "      }\n",
              "    </style>\n",
              "    <button class=\"colab-df-generate\" onclick=\"generateWithVariable('df')\"\n",
              "            title=\"Generate code using this dataframe.\"\n",
              "            style=\"display:none;\">\n",
              "\n",
              "  <svg xmlns=\"http://www.w3.org/2000/svg\" height=\"24px\"viewBox=\"0 0 24 24\"\n",
              "       width=\"24px\">\n",
              "    <path d=\"M7,19H8.4L18.45,9,17,7.55,7,17.6ZM5,21V16.75L18.45,3.32a2,2,0,0,1,2.83,0l1.4,1.43a1.91,1.91,0,0,1,.58,1.4,1.91,1.91,0,0,1-.58,1.4L9.25,21ZM18.45,9,17,7.55Zm-12,3A5.31,5.31,0,0,0,4.9,8.1,5.31,5.31,0,0,0,1,6.5,5.31,5.31,0,0,0,4.9,4.9,5.31,5.31,0,0,0,6.5,1,5.31,5.31,0,0,0,8.1,4.9,5.31,5.31,0,0,0,12,6.5,5.46,5.46,0,0,0,6.5,12Z\"/>\n",
              "  </svg>\n",
              "    </button>\n",
              "    <script>\n",
              "      (() => {\n",
              "      const buttonEl =\n",
              "        document.querySelector('#id_1b39468d-2e96-4070-abc4-5bace551c343 button.colab-df-generate');\n",
              "      buttonEl.style.display =\n",
              "        google.colab.kernel.accessAllowed ? 'block' : 'none';\n",
              "\n",
              "      buttonEl.onclick = () => {\n",
              "        google.colab.notebook.generateWithVariable('df');\n",
              "      }\n",
              "      })();\n",
              "    </script>\n",
              "  </div>\n",
              "\n",
              "    </div>\n",
              "  </div>\n"
            ],
            "application/vnd.google.colaboratory.intrinsic+json": {
              "type": "dataframe",
              "variable_name": "df"
            }
          },
          "metadata": {},
          "execution_count": 381
        }
      ]
    },
    {
      "cell_type": "code",
      "source": [],
      "metadata": {
        "id": "eBdc6lSFvXfe"
      },
      "execution_count": null,
      "outputs": []
    },
    {
      "cell_type": "code",
      "source": [
        "correlation_coefficient, p_value = (stats.pearsonr(df['While_working'], df['Depression']))\n",
        "correlation_coefficient = round(correlation_coefficient, 2)\n",
        "p_value = round(p_value, 2)\n",
        "p_value, correlation_coefficient"
      ],
      "metadata": {
        "colab": {
          "base_uri": "https://localhost:8080/"
        },
        "id": "iNKlvwmfqTKk",
        "outputId": "b65e381e-e603-49f6-aff3-6c0dbc2fe22c"
      },
      "execution_count": 411,
      "outputs": [
        {
          "output_type": "execute_result",
          "data": {
            "text/plain": [
              "(0.12, 0.06)"
            ]
          },
          "metadata": {},
          "execution_count": 411
        }
      ]
    },
    {
      "cell_type": "code",
      "source": [
        "p_value"
      ],
      "metadata": {
        "colab": {
          "base_uri": "https://localhost:8080/"
        },
        "id": "pXnjRB9mFyMI",
        "outputId": "b28805fc-5ff9-42af-da7b-cc5b12ae22fc"
      },
      "execution_count": 412,
      "outputs": [
        {
          "output_type": "execute_result",
          "data": {
            "text/plain": [
              "0.12"
            ]
          },
          "metadata": {},
          "execution_count": 412
        }
      ]
    },
    {
      "cell_type": "markdown",
      "source": [
        "Given the p-value of 0.12, we do not have sufficient evidence to conclude that there is a statistically significant relationship between music listening at work and epression at the 0.05 significance level. The results suggest that the observed data could plausibly occur under the null hypothesis, and thus, we fail to reject it."
      ],
      "metadata": {
        "id": "JO6Xqvn5GVPK"
      }
    },
    {
      "cell_type": "code",
      "source": [
        "correlation_coefficient, p_value = (stats.pearsonr(df['While_working'], df['Anxiety']))\n",
        "correlation_coefficient = round(correlation_coefficient, 2)\n",
        "p_value = round(p_value, 2)\n",
        "p_value, correlation_coefficient"
      ],
      "metadata": {
        "colab": {
          "base_uri": "https://localhost:8080/"
        },
        "id": "lh2JrCo5yO0q",
        "outputId": "439497a3-ae7a-4e9a-93f3-6ec10d34c66e"
      },
      "execution_count": 392,
      "outputs": [
        {
          "output_type": "execute_result",
          "data": {
            "text/plain": [
              "(0.29, 0.04)"
            ]
          },
          "metadata": {},
          "execution_count": 392
        }
      ]
    },
    {
      "cell_type": "markdown",
      "source": [
        "Given the p-value of 0.29, we do not have sufficient evidence to conclude that there is a statistically significant relationship between music listening at work and anxiety at the 0.05 significance level. The results suggest that the observed data could plausibly occur under the null hypothesis, and thus, we fail to reject it."
      ],
      "metadata": {
        "id": "OCbw7tnjGrrg"
      }
    },
    {
      "cell_type": "code",
      "source": [
        "correlation_coefficient, p_value = (stats.pearsonr(df['While_working'], df['OCD']))\n",
        "correlation_coefficient = round(correlation_coefficient, 2)\n",
        "p_value = round(p_value, 2)\n",
        "p_value, correlation_coefficient"
      ],
      "metadata": {
        "colab": {
          "base_uri": "https://localhost:8080/"
        },
        "id": "1Fki5WlEydoR",
        "outputId": "0cb098a8-59e2-43ed-ae77-798b7e42d75e"
      },
      "execution_count": 393,
      "outputs": [
        {
          "output_type": "execute_result",
          "data": {
            "text/plain": [
              "(0.02, 0.08)"
            ]
          },
          "metadata": {},
          "execution_count": 393
        }
      ]
    },
    {
      "cell_type": "markdown",
      "source": [
        "Given the p-value of 0.02, we have sufficient evidence to conclude that there is a statistically significant relationship between listening to music while working and OCD levels at the 0.05 significance level. The results suggest that the observed data are unlikely to have occurred under the null hypothesis, leading to its rejection. This means that listening to music while working is likely to have an effect on OCD levels based on our analysis."
      ],
      "metadata": {
        "id": "tkjMlraMIDm6"
      }
    },
    {
      "cell_type": "code",
      "source": [
        "correlation_coefficient, p_value = (stats.pearsonr(df['While_working'], df['Insomnia']))\n",
        "correlation_coefficient = round(correlation_coefficient, 2)\n",
        "p_value = round(p_value, 2)\n",
        "p_value, correlation_coefficient"
      ],
      "metadata": {
        "colab": {
          "base_uri": "https://localhost:8080/"
        },
        "id": "L5PyAtapyhT1",
        "outputId": "87e8d973-53ea-41d9-ddc8-3614e8080e82"
      },
      "execution_count": 394,
      "outputs": [
        {
          "output_type": "execute_result",
          "data": {
            "text/plain": [
              "(0.31, 0.04)"
            ]
          },
          "metadata": {},
          "execution_count": 394
        }
      ]
    },
    {
      "cell_type": "markdown",
      "source": [
        "Given the p-value of 0.31, we do not have sufficient evidence to conclude that there is a statistically significant relationship between listening to music while working and insomnia levels at the 0.05 significance level. Thus we fail to reject the null hypothesis."
      ],
      "metadata": {
        "id": "I-JzbMTNJDDF"
      }
    },
    {
      "cell_type": "code",
      "source": [
        "correlation_coefficient, p_value = (stats.pearsonr(df['Instrumentalist'], df['Anxiety']))\n",
        "correlation_coefficient = round(correlation_coefficient, 2)\n",
        "p_value = round(p_value, 2)\n",
        "p_value, correlation_coefficient"
      ],
      "metadata": {
        "colab": {
          "base_uri": "https://localhost:8080/"
        },
        "id": "jF7ea2PaxTkq",
        "outputId": "5d4bace8-283b-4f69-83ac-363662dbd4ba"
      },
      "execution_count": 395,
      "outputs": [
        {
          "output_type": "execute_result",
          "data": {
            "text/plain": [
              "(0.48, 0.03)"
            ]
          },
          "metadata": {},
          "execution_count": 395
        }
      ]
    },
    {
      "cell_type": "markdown",
      "source": [
        "Given the p-value of 0.48, we do not have sufficient evidence to conclude that there is a statistically significant relationship between being an instrumentalist and experiencing anxiety at the 0.05 significance level. The results suggest that the observed data could easily have occurred under the null hypothesis, leading to its failure to be rejected. This means that being an instrumentalist is likely not related to changes in anxiety levels based on our analysis."
      ],
      "metadata": {
        "id": "H8_Nrjw3JnC0"
      }
    },
    {
      "cell_type": "code",
      "source": [
        "correlation_coefficient, p_value = (stats.pearsonr(df['Instrumentalist'], df['Depression']))\n",
        "correlation_coefficient = round(correlation_coefficient, 2)\n",
        "p_value = round(p_value, 2)\n",
        "p_value, correlation_coefficient"
      ],
      "metadata": {
        "colab": {
          "base_uri": "https://localhost:8080/"
        },
        "id": "9LjGH-YHyqJH",
        "outputId": "d32d4bed-be3b-40d4-c45f-c7d2a566f915"
      },
      "execution_count": 396,
      "outputs": [
        {
          "output_type": "execute_result",
          "data": {
            "text/plain": [
              "(0.88, 0.01)"
            ]
          },
          "metadata": {},
          "execution_count": 396
        }
      ]
    },
    {
      "cell_type": "markdown",
      "source": [
        "Given the p-value of 0.88, we do not have sufficient evidence to conclude that there is a statistically significant relationship between being an instrumentalist and experiencing depression at the 0.05 significance level. The results suggest that the observed data could easily have occurred under the null hypothesis, leading to its failure to be rejected. This means that being an instrumentalist is likely not related to changes in depression levels based on our analysis."
      ],
      "metadata": {
        "id": "ZiZCHUsRJ6vp"
      }
    },
    {
      "cell_type": "code",
      "source": [
        "correlation_coefficient, p_value = (stats.pearsonr(df['Instrumentalist'], df['OCD']))\n",
        "correlation_coefficient = round(correlation_coefficient, 2)\n",
        "p_value = round(p_value, 2)\n",
        "p_value, correlation_coefficient"
      ],
      "metadata": {
        "colab": {
          "base_uri": "https://localhost:8080/"
        },
        "id": "GVGKAi40y5Oo",
        "outputId": "62147159-0880-4fa9-eb01-8f5c544617f1"
      },
      "execution_count": 397,
      "outputs": [
        {
          "output_type": "execute_result",
          "data": {
            "text/plain": [
              "(0.72, 0.01)"
            ]
          },
          "metadata": {},
          "execution_count": 397
        }
      ]
    },
    {
      "cell_type": "markdown",
      "source": [
        "Given the p-value of 0.72, we do not have sufficient evidence to conclude that there is a statistically significant relationship between being an instrumentalist and experiencing OCD at the 0.05 significance level. The results suggest that the observed data could easily have occurred under the null hypothesis, leading to its failure to be rejected. This means that being an instrumentalist is likely not related to changes in OCD levels based on our analysis."
      ],
      "metadata": {
        "id": "X4KrUrNoKsuA"
      }
    },
    {
      "cell_type": "code",
      "source": [
        "correlation_coefficient, p_value = (stats.pearsonr(df['Instrumentalist'], df['Insomnia']))\n",
        "correlation_coefficient = round(correlation_coefficient, 2)\n",
        "p_value = round(p_value, 2)\n",
        "p_value, correlation_coefficient"
      ],
      "metadata": {
        "colab": {
          "base_uri": "https://localhost:8080/"
        },
        "id": "jzMkOHsGy899",
        "outputId": "df47b3d4-4b49-4658-fb79-938e1c4fef05"
      },
      "execution_count": 398,
      "outputs": [
        {
          "output_type": "execute_result",
          "data": {
            "text/plain": [
              "(0.43, 0.03)"
            ]
          },
          "metadata": {},
          "execution_count": 398
        }
      ]
    },
    {
      "cell_type": "markdown",
      "source": [
        "Given the p-value of 0.43, we do not have sufficient evidence to conclude that there is a statistically significant relationship between being an instrumentalist and experiencing insomnia at the 0.05 significance level. The results suggest that the observed data could easily have occurred under the null hypothesis, leading to its failure to be rejected. This means that being an instrumentalist is likely not related to changes in insomnia levels based on our analysis."
      ],
      "metadata": {
        "id": "XEn8any6Kzsy"
      }
    },
    {
      "cell_type": "code",
      "source": [
        "correlation_coefficient, p_value = (stats.pearsonr(df['Composer'], df['Anxiety']))\n",
        "correlation_coefficient = round(correlation_coefficient, 2)\n",
        "p_value = round(p_value, 2)\n",
        "p_value, correlation_coefficient"
      ],
      "metadata": {
        "colab": {
          "base_uri": "https://localhost:8080/"
        },
        "id": "vXf3yeJZxoGK",
        "outputId": "f818b772-9d0c-455f-d87b-69aebefc5298"
      },
      "execution_count": 399,
      "outputs": [
        {
          "output_type": "execute_result",
          "data": {
            "text/plain": [
              "(0.98, 0.0)"
            ]
          },
          "metadata": {},
          "execution_count": 399
        }
      ]
    },
    {
      "cell_type": "markdown",
      "source": [
        "Given the p-value of 0.98, we do not have sufficient evidence to conclude that there is a statistically significant relationship between being a composer and anxiety levels at the 0.05 significance level. The results suggest that the observed data could easily have occurred under the null hypothesis, leading to its failure to be rejected. This means that being a composer is likely not related to changes in anxiety levels based on our analysis."
      ],
      "metadata": {
        "id": "XeX2dcozMJXZ"
      }
    },
    {
      "cell_type": "code",
      "source": [
        "correlation_coefficient, p_value = (stats.pearsonr(df['Composer'], df['Depression']))\n",
        "correlation_coefficient = round(correlation_coefficient, 2)\n",
        "p_value = round(p_value, 2)\n",
        "p_value, correlation_coefficient"
      ],
      "metadata": {
        "colab": {
          "base_uri": "https://localhost:8080/"
        },
        "id": "iTtKacWLzAfh",
        "outputId": "d8a4e2ad-d2cf-4858-ac28-e3071acdddc8"
      },
      "execution_count": 400,
      "outputs": [
        {
          "output_type": "execute_result",
          "data": {
            "text/plain": [
              "(0.17, 0.05)"
            ]
          },
          "metadata": {},
          "execution_count": 400
        }
      ]
    },
    {
      "cell_type": "markdown",
      "source": [
        "Given the p-value of 0.17, we do not have sufficient evidence to conclude that there is a statistically significant relationship between being a composer and depression levels at the 0.05 significance level. The results suggest that the observed data could easily have occurred under the null hypothesis, leading to its failure to be rejected. This means that being a composer is likely not related to changes in depression levels based on our analysis."
      ],
      "metadata": {
        "id": "FDHyPXg0Mk_i"
      }
    },
    {
      "cell_type": "code",
      "source": [
        "correlation_coefficient, p_value = (stats.pearsonr(df['Composer'], df['OCD']))\n",
        "correlation_coefficient = round(correlation_coefficient, 2)\n",
        "p_value = round(p_value, 2)\n",
        "p_value, correlation_coefficient"
      ],
      "metadata": {
        "colab": {
          "base_uri": "https://localhost:8080/"
        },
        "id": "FfqmPGfIzhVR",
        "outputId": "32c6470d-519c-435e-f990-186ddcf2f183"
      },
      "execution_count": 401,
      "outputs": [
        {
          "output_type": "execute_result",
          "data": {
            "text/plain": [
              "(0.67, 0.02)"
            ]
          },
          "metadata": {},
          "execution_count": 401
        }
      ]
    },
    {
      "cell_type": "markdown",
      "source": [
        "Given the p-value of 0.67, we do not have sufficient evidence to conclude that there is a statistically significant relationship between being a composer and OCD levels at the 0.05 significance level. The results suggest that the observed data could easily have occurred under the null hypothesis, leading to its failure to be rejected. This means that being a composer is likely not related to changes in OCD levels based on our analysis."
      ],
      "metadata": {
        "id": "fGcB_NZLMufb"
      }
    },
    {
      "cell_type": "code",
      "source": [
        "correlation_coefficient, p_value = (stats.pearsonr(df['Composer'], df['Insomnia']))\n",
        "correlation_coefficient = round(correlation_coefficient, 2)\n",
        "p_value = round(p_value, 2)\n",
        "p_value, correlation_coefficient"
      ],
      "metadata": {
        "colab": {
          "base_uri": "https://localhost:8080/"
        },
        "id": "PxWeJmumzk63",
        "outputId": "22b74819-abd1-4e2e-8445-109c718a488b"
      },
      "execution_count": 402,
      "outputs": [
        {
          "output_type": "execute_result",
          "data": {
            "text/plain": [
              "(0.01, 0.09)"
            ]
          },
          "metadata": {},
          "execution_count": 402
        }
      ]
    },
    {
      "cell_type": "markdown",
      "source": [
        "Given the p-value of 0.01, we have sufficient evidence to conclude that there is a statistically significant relationship between being a composer and experiencing insomnia at the 0.05 significance level. The results suggest that the observed data are unlikely to have occurred under the null hypothesis, leading to its rejection. This means that being a composer is likely related to experiencing insomnia based on our analysis."
      ],
      "metadata": {
        "id": "_ErQu4vsMy_l"
      }
    },
    {
      "cell_type": "code",
      "source": [
        "correlation_coefficient, p_value = (stats.pearsonr(df['Foreign_languages'], df['Anxiety']))\n",
        "correlation_coefficient = round(correlation_coefficient, 2)\n",
        "p_value = round(p_value, 2)\n",
        "p_value, correlation_coefficient\n",
        "\n",
        "\n"
      ],
      "metadata": {
        "colab": {
          "base_uri": "https://localhost:8080/"
        },
        "id": "bfIi3ovVxy_k",
        "outputId": "15608da1-7c5d-4e77-c4ea-adca079c9772"
      },
      "execution_count": 403,
      "outputs": [
        {
          "output_type": "execute_result",
          "data": {
            "text/plain": [
              "(0.03, 0.08)"
            ]
          },
          "metadata": {},
          "execution_count": 403
        }
      ]
    },
    {
      "cell_type": "markdown",
      "source": [
        "Given the p-value of 0.03, we do have sufficient evidence to conclude that there is a statistically significant relationship between listening in a foreign language and anxiety levels at the 0.05 significance level. The results indicate that the observed data are unlikely to have occurred under the null hypothesis, leading to the rejection of the null hypothesis. This suggests that there is a meaningful association between listening in a foreign language and anxiety levels in our dataset."
      ],
      "metadata": {
        "id": "YAD3SohoTOA7"
      }
    },
    {
      "cell_type": "code",
      "source": [
        "correlation_coefficient, p_value = (stats.pearsonr(df['Foreign_languages'], df['Depression']))\n",
        "correlation_coefficient = round(correlation_coefficient, 2)\n",
        "p_value = round(p_value, 2)\n",
        "p_value, correlation_coefficient"
      ],
      "metadata": {
        "colab": {
          "base_uri": "https://localhost:8080/"
        },
        "id": "yA-BL8AyzrqG",
        "outputId": "afcbcef1-56b0-41bf-ed09-d756d21fde97"
      },
      "execution_count": 404,
      "outputs": [
        {
          "output_type": "execute_result",
          "data": {
            "text/plain": [
              "(0.02, 0.09)"
            ]
          },
          "metadata": {},
          "execution_count": 404
        }
      ]
    },
    {
      "cell_type": "markdown",
      "source": [
        "Given the p-value of 0.02, we do have sufficient evidence to conclude that there is a statistically significant relationship between listening in a foreign language and depression levels at the 0.05 significance level. The results indicate that the observed data are unlikely to have occurred under the null hypothesis, leading to the rejection of the null hypothesis. This suggests that there is a meaningful association between listening in a foreign language and depression levels in our dataset."
      ],
      "metadata": {
        "id": "QN3gAgM3TRjJ"
      }
    },
    {
      "cell_type": "code",
      "source": [
        "correlation_coefficient, p_value = (stats.pearsonr(df['Foreign_languages'], df['OCD']))\n",
        "correlation_coefficient = round(correlation_coefficient, 2)\n",
        "p_value = round(p_value, 2)\n",
        "p_value, correlation_coefficient"
      ],
      "metadata": {
        "colab": {
          "base_uri": "https://localhost:8080/"
        },
        "id": "-oL4IW5Yzvv0",
        "outputId": "10e464c6-0e06-435a-d843-14d6a5727181"
      },
      "execution_count": 405,
      "outputs": [
        {
          "output_type": "execute_result",
          "data": {
            "text/plain": [
              "(0.56, -0.02)"
            ]
          },
          "metadata": {},
          "execution_count": 405
        }
      ]
    },
    {
      "cell_type": "markdown",
      "source": [
        "Given the p-value of 0.56, we do not have sufficient evidence to conclude that there is a statistically significant relationship between listening in a foreign language and OCD levels at the 0.05 significance level. The results suggest that the observed data could easily have occurred under the null hypothesis, leading to its failure to be rejected. This means that listening to music in a foreign language is likely not related to changes in OCD levels based on our analysis."
      ],
      "metadata": {
        "id": "M6-NOGcSTajT"
      }
    },
    {
      "cell_type": "code",
      "source": [
        "correlation_coefficient, p_value = (stats.pearsonr(df['Foreign_languages'], df['Insomnia']))\n",
        "correlation_coefficient = round(correlation_coefficient, 2)\n",
        "p_value = round(p_value, 2)\n",
        "p_value, correlation_coefficient"
      ],
      "metadata": {
        "colab": {
          "base_uri": "https://localhost:8080/"
        },
        "id": "MX3-uceyzxwi",
        "outputId": "5863b8f9-000e-4441-8c84-898baed2e4dd"
      },
      "execution_count": 406,
      "outputs": [
        {
          "output_type": "execute_result",
          "data": {
            "text/plain": [
              "(0.34, 0.04)"
            ]
          },
          "metadata": {},
          "execution_count": 406
        }
      ]
    },
    {
      "cell_type": "markdown",
      "source": [
        "Given the p-value of 0.34, we do not have sufficient evidence to conclude that there is a statistically significant relationship between listening in a foreign language and insomnia levels at the 0.05 significance level. The results suggest that the observed data could easily have occurred under the null hypothesis, leading to its failure to be rejected. This means that listening to music in a foreign language is likely not related to changes in insomnia levels based on our analysis."
      ],
      "metadata": {
        "id": "rGkGjT8qUCGk"
      }
    },
    {
      "cell_type": "code",
      "source": [],
      "metadata": {
        "id": "ixBH0bDY0UfU"
      },
      "execution_count": null,
      "outputs": []
    },
    {
      "cell_type": "code",
      "source": [
        "import plotly.express as px\n",
        "fig = px.histogram(df, x='Age')"
      ],
      "metadata": {
        "id": "KQM8v8m91g5H"
      },
      "execution_count": null,
      "outputs": []
    },
    {
      "cell_type": "code",
      "source": [
        "fig.show()"
      ],
      "metadata": {
        "id": "7AINVQEe6fYl"
      },
      "execution_count": null,
      "outputs": []
    },
    {
      "cell_type": "markdown",
      "source": [
        "*Observation to be added and conclusion"
      ],
      "metadata": {
        "id": "4oNR5d8gdPJ4"
      }
    },
    {
      "cell_type": "code",
      "source": [
        "fig = px.pie(df, names='While working', title='Category Distribution')\n",
        "fig.show()"
      ],
      "metadata": {
        "id": "IaS_-qPV6_RE"
      },
      "execution_count": null,
      "outputs": []
    },
    {
      "cell_type": "markdown",
      "source": [
        "*Observation to be added and conclusion"
      ],
      "metadata": {
        "id": "XVoMR0AfdN7Z"
      }
    },
    {
      "cell_type": "code",
      "source": [
        "fig = px.pie(df, names='Foreign languages', title='Category Distribution')\n",
        "fig.show()"
      ],
      "metadata": {
        "id": "gTa0a1D38TY_"
      },
      "execution_count": null,
      "outputs": []
    },
    {
      "cell_type": "code",
      "source": [],
      "metadata": {
        "id": "GI2SryNn9E2n"
      },
      "execution_count": null,
      "outputs": []
    },
    {
      "cell_type": "markdown",
      "source": [
        "*Observation to be added and conclusion"
      ],
      "metadata": {
        "id": "t9e-D10AdMCf"
      }
    },
    {
      "cell_type": "code",
      "source": [],
      "metadata": {
        "id": "z9V_ZTcidLxJ"
      },
      "execution_count": null,
      "outputs": []
    },
    {
      "cell_type": "code",
      "source": [
        "fig = px.pie(df, names='Primary streaming service', title='Category Distribution')\n",
        "fig.show()"
      ],
      "metadata": {
        "id": "RwgaKYBz8oGc"
      },
      "execution_count": null,
      "outputs": []
    },
    {
      "cell_type": "markdown",
      "source": [
        "*Observation to be added and conclusion"
      ],
      "metadata": {
        "id": "cG94ogKUdASM"
      }
    },
    {
      "cell_type": "code",
      "source": [
        "frequency_counts = df['Frequency [Country]'].value_counts()\n",
        "mean_counts = df['Frequency [Country]'].value_counts().mean()\n",
        "std_counts = df['Frequency [Country]'].value_counts().std()\n",
        "plt.figure(figsize=(10, 6))\n",
        "plt.bar(frequency_counts.index, frequency_counts.values, yerr=std_counts, capsize=5)\n",
        "plt.title('Frequency [Country] with Error Bars')\n",
        "plt.xlabel('Frequency [Country]')\n",
        "plt.ylabel('Count')\n",
        "plt.show()"
      ],
      "metadata": {
        "id": "ugj869qdr-tL"
      },
      "execution_count": null,
      "outputs": []
    },
    {
      "cell_type": "code",
      "source": [
        "frequency_columns = [col for col in df.columns if col.startswith('Frequency')]\n",
        "sns.pairplot(df[frequency_columns])\n",
        "plt.show()"
      ],
      "metadata": {
        "id": "-K06LXyjt3UU"
      },
      "execution_count": null,
      "outputs": []
    },
    {
      "cell_type": "code",
      "source": [
        "fig = px.bar(df, x=\"Frequency [Country]\", title=\"music listening frequency for Country\")\n",
        "fig.show()"
      ],
      "metadata": {
        "id": "jfVj68Nw88en"
      },
      "execution_count": null,
      "outputs": []
    },
    {
      "cell_type": "code",
      "source": [
        "fig = px.bar(df, x=\"Frequency [Classical]\", title=\"music listening frequency for Country\")\n",
        "fig.show()"
      ],
      "metadata": {
        "id": "DR4DwBRa9jZf"
      },
      "execution_count": null,
      "outputs": []
    },
    {
      "cell_type": "code",
      "source": [
        "fig = px.bar(df, x=\"Frequency [EDM]\", title=\"music listening frequency for Country\")\n",
        "fig.show()"
      ],
      "metadata": {
        "id": "J8XJttdWAIBx"
      },
      "execution_count": null,
      "outputs": []
    },
    {
      "cell_type": "code",
      "source": [
        "fig = px.bar(df, x=\"Frequency [Folk]\", title=\"music listening frequency for Country\")\n",
        "fig.show()"
      ],
      "metadata": {
        "id": "-2OQPBydAloF"
      },
      "execution_count": null,
      "outputs": []
    },
    {
      "cell_type": "code",
      "source": [
        "fig = px.bar(df, x=\"Frequency [Gospel]\", title=\"music listening frequency for Country\")\n",
        "fig.show()"
      ],
      "metadata": {
        "id": "B47EkKu3AoDl"
      },
      "execution_count": null,
      "outputs": []
    },
    {
      "cell_type": "code",
      "source": [
        "fig = px.bar(df, x=\"Frequency [Hip hop]\", title=\"music listening frequency for Country\")\n",
        "fig.show()"
      ],
      "metadata": {
        "id": "YjfvmHGCAuLD"
      },
      "execution_count": null,
      "outputs": []
    },
    {
      "cell_type": "code",
      "source": [
        "fig = px.bar(df, x=\"Frequency [Jazz]\", title=\"music listening frequency for Country\")\n",
        "fig.show()"
      ],
      "metadata": {
        "id": "bWwUv4QgAxl9"
      },
      "execution_count": null,
      "outputs": []
    },
    {
      "cell_type": "code",
      "source": [
        "fig = px.bar(df, x=\"Frequency [K pop]\", title=\"music listening frequency for Country\")\n",
        "fig.show()"
      ],
      "metadata": {
        "id": "5m2o_5FJA5tN"
      },
      "execution_count": null,
      "outputs": []
    },
    {
      "cell_type": "code",
      "source": [
        "fig = px.bar(df, x=\"Frequency [Latin]\", title=\"music listening frequency for Country\")\n",
        "fig.show()"
      ],
      "metadata": {
        "id": "Dd0BZffWA8N9"
      },
      "execution_count": null,
      "outputs": []
    },
    {
      "cell_type": "code",
      "source": [
        "fig = px.bar(df, x=\"Frequency [Lofi]\", title=\"music listening frequency for Country\")\n",
        "fig.show()"
      ],
      "metadata": {
        "id": "DMuJ1rZnA-wt"
      },
      "execution_count": null,
      "outputs": []
    },
    {
      "cell_type": "code",
      "source": [
        "fig = px.bar(df, x=\"Frequency [Metal]\", title=\"music listening frequency for Country\")\n",
        "fig.show()"
      ],
      "metadata": {
        "id": "eeZ32hGxBBwu"
      },
      "execution_count": null,
      "outputs": []
    },
    {
      "cell_type": "code",
      "source": [
        "fig = px.bar(df, x=\"Frequency [Pop]\", title=\"music listening frequency for Country\")\n",
        "fig.show()"
      ],
      "metadata": {
        "id": "LDfZx9JgBDyZ"
      },
      "execution_count": null,
      "outputs": []
    },
    {
      "cell_type": "code",
      "source": [
        "fig = px.bar(df, x=\"Frequency [R&B]\", title=\"music listening frequency for Country\")\n",
        "fig.show()"
      ],
      "metadata": {
        "id": "cnU5ouzzBFkr"
      },
      "execution_count": null,
      "outputs": []
    },
    {
      "cell_type": "code",
      "source": [
        "fig = px.bar(df, x=\"Frequency [Rap]\", title=\"music listening frequency for Country\")\n",
        "fig.show()"
      ],
      "metadata": {
        "id": "Vy3EeydrBH1d"
      },
      "execution_count": null,
      "outputs": []
    },
    {
      "cell_type": "code",
      "source": [
        "fig = px.bar(df, x=\"Frequency [Rock]\", title=\"music listening frequency for Country\")\n",
        "fig.show()"
      ],
      "metadata": {
        "id": "Dk3zNO3tBMVr"
      },
      "execution_count": null,
      "outputs": []
    },
    {
      "cell_type": "code",
      "source": [
        "fig = px.bar(df, x=\"Frequency [Video game music]\", title=\"music listening frequency for Country\")\n",
        "fig.show()"
      ],
      "metadata": {
        "id": "fyXFswFMBOOl"
      },
      "execution_count": null,
      "outputs": []
    },
    {
      "cell_type": "code",
      "source": [],
      "metadata": {
        "id": "eDkgNTQmBVTv"
      },
      "execution_count": null,
      "outputs": []
    }
  ]
}