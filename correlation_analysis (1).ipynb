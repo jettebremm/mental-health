{
  "nbformat": 4,
  "nbformat_minor": 0,
  "metadata": {
    "colab": {
      "provenance": []
    },
    "kernelspec": {
      "name": "python3",
      "display_name": "Python 3"
    },
    "language_info": {
      "name": "python"
    }
  },
  "cells": [
    {
      "cell_type": "code",
      "execution_count": 66,
      "metadata": {
        "id": "0UOXZhSqt29f"
      },
      "outputs": [],
      "source": [
        "import pandas as pd"
      ]
    },
    {
      "cell_type": "code",
      "source": [
        "import pandas as pd\n",
        "import numpy as np\n",
        "import matplotlib.pyplot as plt\n",
        "\n",
        "# Libraries to help with data visualization\n",
        "import seaborn as sns\n",
        "import matplotlib.pyplot as plt"
      ],
      "metadata": {
        "id": "wj8FSGH3woIb"
      },
      "execution_count": 67,
      "outputs": []
    },
    {
      "cell_type": "code",
      "source": [
        "df = pd.read_csv('/content/final_table.csv')"
      ],
      "metadata": {
        "id": "n-1DxRZjt6Lo"
      },
      "execution_count": 125,
      "outputs": []
    },
    {
      "cell_type": "code",
      "source": [
        "df.head()"
      ],
      "metadata": {
        "colab": {
          "base_uri": "https://localhost:8080/",
          "height": 360
        },
        "id": "I5Hn5rv-uF7H",
        "outputId": "039a6e09-59c7-43fc-e905-df31d49d649e"
      },
      "execution_count": 126,
      "outputs": [
        {
          "output_type": "execute_result",
          "data": {
            "text/plain": [
              "   Unnamed: 0  Age          Primary_streaming_service  Hours_per_day  \\\n",
              "0           0   25                        Apple Music              2   \n",
              "1           1   16            Other streaming service              4   \n",
              "2           2   22                            Spotify             10   \n",
              "3           3   26                            Spotify              6   \n",
              "4           4   18  I do not use a streaming service.              4   \n",
              "\n",
              "   While_working  Instrumentalist  Composer Fav_genre  Exploratory  \\\n",
              "0          False            False     False       EDM        False   \n",
              "1           True            False     False       EDM         True   \n",
              "2          False             True      True       EDM        False   \n",
              "3           True            False     False       EDM        False   \n",
              "4           True             True     False       EDM        False   \n",
              "\n",
              "   Foreign_languages  ... Anxiety Depression Insomnia OCD Music_effects  \\\n",
              "0               True  ...      10          3        1   4       Improve   \n",
              "1               True  ...       4          7        1   3       Improve   \n",
              "2               True  ...       4          7        7   3       Improve   \n",
              "3               True  ...      10         10        8   2     No effect   \n",
              "4               True  ...       8          7       10   6       Improve   \n",
              "\n",
              "         Date      Time  Year Month Day  \n",
              "0  2022-08-28  23:26:58  2022     8  28  \n",
              "1  2022-09-13  01:55:43  2022     9  13  \n",
              "2  2022-08-28  17:15:18  2022     8  28  \n",
              "3  2022-08-30  05:16:13  2022     8  30  \n",
              "4  2022-09-02  09:25:05  2022     9   2  \n",
              "\n",
              "[5 rows x 37 columns]"
            ],
            "text/html": [
              "\n",
              "  <div id=\"df-47916394-213a-4844-a205-dc1f1cc33231\" class=\"colab-df-container\">\n",
              "    <div>\n",
              "<style scoped>\n",
              "    .dataframe tbody tr th:only-of-type {\n",
              "        vertical-align: middle;\n",
              "    }\n",
              "\n",
              "    .dataframe tbody tr th {\n",
              "        vertical-align: top;\n",
              "    }\n",
              "\n",
              "    .dataframe thead th {\n",
              "        text-align: right;\n",
              "    }\n",
              "</style>\n",
              "<table border=\"1\" class=\"dataframe\">\n",
              "  <thead>\n",
              "    <tr style=\"text-align: right;\">\n",
              "      <th></th>\n",
              "      <th>Unnamed: 0</th>\n",
              "      <th>Age</th>\n",
              "      <th>Primary_streaming_service</th>\n",
              "      <th>Hours_per_day</th>\n",
              "      <th>While_working</th>\n",
              "      <th>Instrumentalist</th>\n",
              "      <th>Composer</th>\n",
              "      <th>Fav_genre</th>\n",
              "      <th>Exploratory</th>\n",
              "      <th>Foreign_languages</th>\n",
              "      <th>...</th>\n",
              "      <th>Anxiety</th>\n",
              "      <th>Depression</th>\n",
              "      <th>Insomnia</th>\n",
              "      <th>OCD</th>\n",
              "      <th>Music_effects</th>\n",
              "      <th>Date</th>\n",
              "      <th>Time</th>\n",
              "      <th>Year</th>\n",
              "      <th>Month</th>\n",
              "      <th>Day</th>\n",
              "    </tr>\n",
              "  </thead>\n",
              "  <tbody>\n",
              "    <tr>\n",
              "      <th>0</th>\n",
              "      <td>0</td>\n",
              "      <td>25</td>\n",
              "      <td>Apple Music</td>\n",
              "      <td>2</td>\n",
              "      <td>False</td>\n",
              "      <td>False</td>\n",
              "      <td>False</td>\n",
              "      <td>EDM</td>\n",
              "      <td>False</td>\n",
              "      <td>True</td>\n",
              "      <td>...</td>\n",
              "      <td>10</td>\n",
              "      <td>3</td>\n",
              "      <td>1</td>\n",
              "      <td>4</td>\n",
              "      <td>Improve</td>\n",
              "      <td>2022-08-28</td>\n",
              "      <td>23:26:58</td>\n",
              "      <td>2022</td>\n",
              "      <td>8</td>\n",
              "      <td>28</td>\n",
              "    </tr>\n",
              "    <tr>\n",
              "      <th>1</th>\n",
              "      <td>1</td>\n",
              "      <td>16</td>\n",
              "      <td>Other streaming service</td>\n",
              "      <td>4</td>\n",
              "      <td>True</td>\n",
              "      <td>False</td>\n",
              "      <td>False</td>\n",
              "      <td>EDM</td>\n",
              "      <td>True</td>\n",
              "      <td>True</td>\n",
              "      <td>...</td>\n",
              "      <td>4</td>\n",
              "      <td>7</td>\n",
              "      <td>1</td>\n",
              "      <td>3</td>\n",
              "      <td>Improve</td>\n",
              "      <td>2022-09-13</td>\n",
              "      <td>01:55:43</td>\n",
              "      <td>2022</td>\n",
              "      <td>9</td>\n",
              "      <td>13</td>\n",
              "    </tr>\n",
              "    <tr>\n",
              "      <th>2</th>\n",
              "      <td>2</td>\n",
              "      <td>22</td>\n",
              "      <td>Spotify</td>\n",
              "      <td>10</td>\n",
              "      <td>False</td>\n",
              "      <td>True</td>\n",
              "      <td>True</td>\n",
              "      <td>EDM</td>\n",
              "      <td>False</td>\n",
              "      <td>True</td>\n",
              "      <td>...</td>\n",
              "      <td>4</td>\n",
              "      <td>7</td>\n",
              "      <td>7</td>\n",
              "      <td>3</td>\n",
              "      <td>Improve</td>\n",
              "      <td>2022-08-28</td>\n",
              "      <td>17:15:18</td>\n",
              "      <td>2022</td>\n",
              "      <td>8</td>\n",
              "      <td>28</td>\n",
              "    </tr>\n",
              "    <tr>\n",
              "      <th>3</th>\n",
              "      <td>3</td>\n",
              "      <td>26</td>\n",
              "      <td>Spotify</td>\n",
              "      <td>6</td>\n",
              "      <td>True</td>\n",
              "      <td>False</td>\n",
              "      <td>False</td>\n",
              "      <td>EDM</td>\n",
              "      <td>False</td>\n",
              "      <td>True</td>\n",
              "      <td>...</td>\n",
              "      <td>10</td>\n",
              "      <td>10</td>\n",
              "      <td>8</td>\n",
              "      <td>2</td>\n",
              "      <td>No effect</td>\n",
              "      <td>2022-08-30</td>\n",
              "      <td>05:16:13</td>\n",
              "      <td>2022</td>\n",
              "      <td>8</td>\n",
              "      <td>30</td>\n",
              "    </tr>\n",
              "    <tr>\n",
              "      <th>4</th>\n",
              "      <td>4</td>\n",
              "      <td>18</td>\n",
              "      <td>I do not use a streaming service.</td>\n",
              "      <td>4</td>\n",
              "      <td>True</td>\n",
              "      <td>True</td>\n",
              "      <td>False</td>\n",
              "      <td>EDM</td>\n",
              "      <td>False</td>\n",
              "      <td>True</td>\n",
              "      <td>...</td>\n",
              "      <td>8</td>\n",
              "      <td>7</td>\n",
              "      <td>10</td>\n",
              "      <td>6</td>\n",
              "      <td>Improve</td>\n",
              "      <td>2022-09-02</td>\n",
              "      <td>09:25:05</td>\n",
              "      <td>2022</td>\n",
              "      <td>9</td>\n",
              "      <td>2</td>\n",
              "    </tr>\n",
              "  </tbody>\n",
              "</table>\n",
              "<p>5 rows × 37 columns</p>\n",
              "</div>\n",
              "    <div class=\"colab-df-buttons\">\n",
              "\n",
              "  <div class=\"colab-df-container\">\n",
              "    <button class=\"colab-df-convert\" onclick=\"convertToInteractive('df-47916394-213a-4844-a205-dc1f1cc33231')\"\n",
              "            title=\"Convert this dataframe to an interactive table.\"\n",
              "            style=\"display:none;\">\n",
              "\n",
              "  <svg xmlns=\"http://www.w3.org/2000/svg\" height=\"24px\" viewBox=\"0 -960 960 960\">\n",
              "    <path d=\"M120-120v-720h720v720H120Zm60-500h600v-160H180v160Zm220 220h160v-160H400v160Zm0 220h160v-160H400v160ZM180-400h160v-160H180v160Zm440 0h160v-160H620v160ZM180-180h160v-160H180v160Zm440 0h160v-160H620v160Z\"/>\n",
              "  </svg>\n",
              "    </button>\n",
              "\n",
              "  <style>\n",
              "    .colab-df-container {\n",
              "      display:flex;\n",
              "      gap: 12px;\n",
              "    }\n",
              "\n",
              "    .colab-df-convert {\n",
              "      background-color: #E8F0FE;\n",
              "      border: none;\n",
              "      border-radius: 50%;\n",
              "      cursor: pointer;\n",
              "      display: none;\n",
              "      fill: #1967D2;\n",
              "      height: 32px;\n",
              "      padding: 0 0 0 0;\n",
              "      width: 32px;\n",
              "    }\n",
              "\n",
              "    .colab-df-convert:hover {\n",
              "      background-color: #E2EBFA;\n",
              "      box-shadow: 0px 1px 2px rgba(60, 64, 67, 0.3), 0px 1px 3px 1px rgba(60, 64, 67, 0.15);\n",
              "      fill: #174EA6;\n",
              "    }\n",
              "\n",
              "    .colab-df-buttons div {\n",
              "      margin-bottom: 4px;\n",
              "    }\n",
              "\n",
              "    [theme=dark] .colab-df-convert {\n",
              "      background-color: #3B4455;\n",
              "      fill: #D2E3FC;\n",
              "    }\n",
              "\n",
              "    [theme=dark] .colab-df-convert:hover {\n",
              "      background-color: #434B5C;\n",
              "      box-shadow: 0px 1px 3px 1px rgba(0, 0, 0, 0.15);\n",
              "      filter: drop-shadow(0px 1px 2px rgba(0, 0, 0, 0.3));\n",
              "      fill: #FFFFFF;\n",
              "    }\n",
              "  </style>\n",
              "\n",
              "    <script>\n",
              "      const buttonEl =\n",
              "        document.querySelector('#df-47916394-213a-4844-a205-dc1f1cc33231 button.colab-df-convert');\n",
              "      buttonEl.style.display =\n",
              "        google.colab.kernel.accessAllowed ? 'block' : 'none';\n",
              "\n",
              "      async function convertToInteractive(key) {\n",
              "        const element = document.querySelector('#df-47916394-213a-4844-a205-dc1f1cc33231');\n",
              "        const dataTable =\n",
              "          await google.colab.kernel.invokeFunction('convertToInteractive',\n",
              "                                                    [key], {});\n",
              "        if (!dataTable) return;\n",
              "\n",
              "        const docLinkHtml = 'Like what you see? Visit the ' +\n",
              "          '<a target=\"_blank\" href=https://colab.research.google.com/notebooks/data_table.ipynb>data table notebook</a>'\n",
              "          + ' to learn more about interactive tables.';\n",
              "        element.innerHTML = '';\n",
              "        dataTable['output_type'] = 'display_data';\n",
              "        await google.colab.output.renderOutput(dataTable, element);\n",
              "        const docLink = document.createElement('div');\n",
              "        docLink.innerHTML = docLinkHtml;\n",
              "        element.appendChild(docLink);\n",
              "      }\n",
              "    </script>\n",
              "  </div>\n",
              "\n",
              "\n",
              "<div id=\"df-ced5b01d-edf3-41db-9cda-281793cbe7c6\">\n",
              "  <button class=\"colab-df-quickchart\" onclick=\"quickchart('df-ced5b01d-edf3-41db-9cda-281793cbe7c6')\"\n",
              "            title=\"Suggest charts\"\n",
              "            style=\"display:none;\">\n",
              "\n",
              "<svg xmlns=\"http://www.w3.org/2000/svg\" height=\"24px\"viewBox=\"0 0 24 24\"\n",
              "     width=\"24px\">\n",
              "    <g>\n",
              "        <path d=\"M19 3H5c-1.1 0-2 .9-2 2v14c0 1.1.9 2 2 2h14c1.1 0 2-.9 2-2V5c0-1.1-.9-2-2-2zM9 17H7v-7h2v7zm4 0h-2V7h2v10zm4 0h-2v-4h2v4z\"/>\n",
              "    </g>\n",
              "</svg>\n",
              "  </button>\n",
              "\n",
              "<style>\n",
              "  .colab-df-quickchart {\n",
              "      --bg-color: #E8F0FE;\n",
              "      --fill-color: #1967D2;\n",
              "      --hover-bg-color: #E2EBFA;\n",
              "      --hover-fill-color: #174EA6;\n",
              "      --disabled-fill-color: #AAA;\n",
              "      --disabled-bg-color: #DDD;\n",
              "  }\n",
              "\n",
              "  [theme=dark] .colab-df-quickchart {\n",
              "      --bg-color: #3B4455;\n",
              "      --fill-color: #D2E3FC;\n",
              "      --hover-bg-color: #434B5C;\n",
              "      --hover-fill-color: #FFFFFF;\n",
              "      --disabled-bg-color: #3B4455;\n",
              "      --disabled-fill-color: #666;\n",
              "  }\n",
              "\n",
              "  .colab-df-quickchart {\n",
              "    background-color: var(--bg-color);\n",
              "    border: none;\n",
              "    border-radius: 50%;\n",
              "    cursor: pointer;\n",
              "    display: none;\n",
              "    fill: var(--fill-color);\n",
              "    height: 32px;\n",
              "    padding: 0;\n",
              "    width: 32px;\n",
              "  }\n",
              "\n",
              "  .colab-df-quickchart:hover {\n",
              "    background-color: var(--hover-bg-color);\n",
              "    box-shadow: 0 1px 2px rgba(60, 64, 67, 0.3), 0 1px 3px 1px rgba(60, 64, 67, 0.15);\n",
              "    fill: var(--button-hover-fill-color);\n",
              "  }\n",
              "\n",
              "  .colab-df-quickchart-complete:disabled,\n",
              "  .colab-df-quickchart-complete:disabled:hover {\n",
              "    background-color: var(--disabled-bg-color);\n",
              "    fill: var(--disabled-fill-color);\n",
              "    box-shadow: none;\n",
              "  }\n",
              "\n",
              "  .colab-df-spinner {\n",
              "    border: 2px solid var(--fill-color);\n",
              "    border-color: transparent;\n",
              "    border-bottom-color: var(--fill-color);\n",
              "    animation:\n",
              "      spin 1s steps(1) infinite;\n",
              "  }\n",
              "\n",
              "  @keyframes spin {\n",
              "    0% {\n",
              "      border-color: transparent;\n",
              "      border-bottom-color: var(--fill-color);\n",
              "      border-left-color: var(--fill-color);\n",
              "    }\n",
              "    20% {\n",
              "      border-color: transparent;\n",
              "      border-left-color: var(--fill-color);\n",
              "      border-top-color: var(--fill-color);\n",
              "    }\n",
              "    30% {\n",
              "      border-color: transparent;\n",
              "      border-left-color: var(--fill-color);\n",
              "      border-top-color: var(--fill-color);\n",
              "      border-right-color: var(--fill-color);\n",
              "    }\n",
              "    40% {\n",
              "      border-color: transparent;\n",
              "      border-right-color: var(--fill-color);\n",
              "      border-top-color: var(--fill-color);\n",
              "    }\n",
              "    60% {\n",
              "      border-color: transparent;\n",
              "      border-right-color: var(--fill-color);\n",
              "    }\n",
              "    80% {\n",
              "      border-color: transparent;\n",
              "      border-right-color: var(--fill-color);\n",
              "      border-bottom-color: var(--fill-color);\n",
              "    }\n",
              "    90% {\n",
              "      border-color: transparent;\n",
              "      border-bottom-color: var(--fill-color);\n",
              "    }\n",
              "  }\n",
              "</style>\n",
              "\n",
              "  <script>\n",
              "    async function quickchart(key) {\n",
              "      const quickchartButtonEl =\n",
              "        document.querySelector('#' + key + ' button');\n",
              "      quickchartButtonEl.disabled = true;  // To prevent multiple clicks.\n",
              "      quickchartButtonEl.classList.add('colab-df-spinner');\n",
              "      try {\n",
              "        const charts = await google.colab.kernel.invokeFunction(\n",
              "            'suggestCharts', [key], {});\n",
              "      } catch (error) {\n",
              "        console.error('Error during call to suggestCharts:', error);\n",
              "      }\n",
              "      quickchartButtonEl.classList.remove('colab-df-spinner');\n",
              "      quickchartButtonEl.classList.add('colab-df-quickchart-complete');\n",
              "    }\n",
              "    (() => {\n",
              "      let quickchartButtonEl =\n",
              "        document.querySelector('#df-ced5b01d-edf3-41db-9cda-281793cbe7c6 button');\n",
              "      quickchartButtonEl.style.display =\n",
              "        google.colab.kernel.accessAllowed ? 'block' : 'none';\n",
              "    })();\n",
              "  </script>\n",
              "</div>\n",
              "\n",
              "    </div>\n",
              "  </div>\n"
            ],
            "application/vnd.google.colaboratory.intrinsic+json": {
              "type": "dataframe",
              "variable_name": "df"
            }
          },
          "metadata": {},
          "execution_count": 126
        }
      ]
    },
    {
      "cell_type": "code",
      "source": [
        "\n",
        "#Observations\n",
        "# Timestamp showing the date and time of the survey submission\n",
        "# age showing the age of each participant in the survey\n",
        "# hour per day indicating the number of hours each participants listened to music\n",
        "# while working telling us if music was listened during work hours.\n",
        "# We have fave genre telling us who was the favorite genre of each participant.\n",
        "# We have different frequencies of for different genres.\n",
        "# We have some indicators of mental wellness such as anxiety, depression, insomnia and ocd\n",
        "# Finally we have a columns indicating if music had any effects on participants or not"
      ],
      "metadata": {
        "id": "Ovff__dSx1cy"
      },
      "execution_count": 70,
      "outputs": []
    },
    {
      "cell_type": "code",
      "source": [
        "df.tail()"
      ],
      "metadata": {
        "colab": {
          "base_uri": "https://localhost:8080/",
          "height": 360
        },
        "id": "kVcDXAblybE9",
        "outputId": "7b85a16a-98b2-4866-9e21-78449b6fa29e"
      },
      "execution_count": 127,
      "outputs": [
        {
          "output_type": "execute_result",
          "data": {
            "text/plain": [
              "     Unnamed: 0  Age          Primary_streaming_service  Hours_per_day  \\\n",
              "731         731   29                      YouTube Music              2   \n",
              "732         732   17                            Spotify              4   \n",
              "733         733   17                            Spotify              3   \n",
              "734         734   13                            Spotify              1   \n",
              "735         735   24  I do not use a streaming service.              8   \n",
              "\n",
              "     While_working  Instrumentalist  Composer         Fav_genre  Exploratory  \\\n",
              "731           True            False     False           Hip hop         True   \n",
              "732          False             True     False         Classical         True   \n",
              "733           True            False     False         Classical         True   \n",
              "734           True            False     False  Video game music         True   \n",
              "735           True            False      True  Video game music         True   \n",
              "\n",
              "     Foreign_languages  ... Anxiety Depression Insomnia OCD Music_effects  \\\n",
              "731               True  ...       2          2        2   5       Improve   \n",
              "732               True  ...       7          9        2   8        Worsen   \n",
              "733               True  ...       6          6        8   2       Improve   \n",
              "734              False  ...      10         10        8   4        Worsen   \n",
              "735              False  ...       6          4        8   8       Improve   \n",
              "\n",
              "           Date      Time  Year Month Day  \n",
              "731  2022-11-09  01:55:20  2022    11   9  \n",
              "732  2022-08-28  23:23:50  2022     8  28  \n",
              "733  2022-08-28  11:58:48  2022     8  28  \n",
              "734  2022-10-22  15:20:29  2022    10  22  \n",
              "735  2022-08-29  01:22:44  2022     8  29  \n",
              "\n",
              "[5 rows x 37 columns]"
            ],
            "text/html": [
              "\n",
              "  <div id=\"df-adf741f8-4c6a-4ce4-b480-8833ef49240d\" class=\"colab-df-container\">\n",
              "    <div>\n",
              "<style scoped>\n",
              "    .dataframe tbody tr th:only-of-type {\n",
              "        vertical-align: middle;\n",
              "    }\n",
              "\n",
              "    .dataframe tbody tr th {\n",
              "        vertical-align: top;\n",
              "    }\n",
              "\n",
              "    .dataframe thead th {\n",
              "        text-align: right;\n",
              "    }\n",
              "</style>\n",
              "<table border=\"1\" class=\"dataframe\">\n",
              "  <thead>\n",
              "    <tr style=\"text-align: right;\">\n",
              "      <th></th>\n",
              "      <th>Unnamed: 0</th>\n",
              "      <th>Age</th>\n",
              "      <th>Primary_streaming_service</th>\n",
              "      <th>Hours_per_day</th>\n",
              "      <th>While_working</th>\n",
              "      <th>Instrumentalist</th>\n",
              "      <th>Composer</th>\n",
              "      <th>Fav_genre</th>\n",
              "      <th>Exploratory</th>\n",
              "      <th>Foreign_languages</th>\n",
              "      <th>...</th>\n",
              "      <th>Anxiety</th>\n",
              "      <th>Depression</th>\n",
              "      <th>Insomnia</th>\n",
              "      <th>OCD</th>\n",
              "      <th>Music_effects</th>\n",
              "      <th>Date</th>\n",
              "      <th>Time</th>\n",
              "      <th>Year</th>\n",
              "      <th>Month</th>\n",
              "      <th>Day</th>\n",
              "    </tr>\n",
              "  </thead>\n",
              "  <tbody>\n",
              "    <tr>\n",
              "      <th>731</th>\n",
              "      <td>731</td>\n",
              "      <td>29</td>\n",
              "      <td>YouTube Music</td>\n",
              "      <td>2</td>\n",
              "      <td>True</td>\n",
              "      <td>False</td>\n",
              "      <td>False</td>\n",
              "      <td>Hip hop</td>\n",
              "      <td>True</td>\n",
              "      <td>True</td>\n",
              "      <td>...</td>\n",
              "      <td>2</td>\n",
              "      <td>2</td>\n",
              "      <td>2</td>\n",
              "      <td>5</td>\n",
              "      <td>Improve</td>\n",
              "      <td>2022-11-09</td>\n",
              "      <td>01:55:20</td>\n",
              "      <td>2022</td>\n",
              "      <td>11</td>\n",
              "      <td>9</td>\n",
              "    </tr>\n",
              "    <tr>\n",
              "      <th>732</th>\n",
              "      <td>732</td>\n",
              "      <td>17</td>\n",
              "      <td>Spotify</td>\n",
              "      <td>4</td>\n",
              "      <td>False</td>\n",
              "      <td>True</td>\n",
              "      <td>False</td>\n",
              "      <td>Classical</td>\n",
              "      <td>True</td>\n",
              "      <td>True</td>\n",
              "      <td>...</td>\n",
              "      <td>7</td>\n",
              "      <td>9</td>\n",
              "      <td>2</td>\n",
              "      <td>8</td>\n",
              "      <td>Worsen</td>\n",
              "      <td>2022-08-28</td>\n",
              "      <td>23:23:50</td>\n",
              "      <td>2022</td>\n",
              "      <td>8</td>\n",
              "      <td>28</td>\n",
              "    </tr>\n",
              "    <tr>\n",
              "      <th>733</th>\n",
              "      <td>733</td>\n",
              "      <td>17</td>\n",
              "      <td>Spotify</td>\n",
              "      <td>3</td>\n",
              "      <td>True</td>\n",
              "      <td>False</td>\n",
              "      <td>False</td>\n",
              "      <td>Classical</td>\n",
              "      <td>True</td>\n",
              "      <td>True</td>\n",
              "      <td>...</td>\n",
              "      <td>6</td>\n",
              "      <td>6</td>\n",
              "      <td>8</td>\n",
              "      <td>2</td>\n",
              "      <td>Improve</td>\n",
              "      <td>2022-08-28</td>\n",
              "      <td>11:58:48</td>\n",
              "      <td>2022</td>\n",
              "      <td>8</td>\n",
              "      <td>28</td>\n",
              "    </tr>\n",
              "    <tr>\n",
              "      <th>734</th>\n",
              "      <td>734</td>\n",
              "      <td>13</td>\n",
              "      <td>Spotify</td>\n",
              "      <td>1</td>\n",
              "      <td>True</td>\n",
              "      <td>False</td>\n",
              "      <td>False</td>\n",
              "      <td>Video game music</td>\n",
              "      <td>True</td>\n",
              "      <td>False</td>\n",
              "      <td>...</td>\n",
              "      <td>10</td>\n",
              "      <td>10</td>\n",
              "      <td>8</td>\n",
              "      <td>4</td>\n",
              "      <td>Worsen</td>\n",
              "      <td>2022-10-22</td>\n",
              "      <td>15:20:29</td>\n",
              "      <td>2022</td>\n",
              "      <td>10</td>\n",
              "      <td>22</td>\n",
              "    </tr>\n",
              "    <tr>\n",
              "      <th>735</th>\n",
              "      <td>735</td>\n",
              "      <td>24</td>\n",
              "      <td>I do not use a streaming service.</td>\n",
              "      <td>8</td>\n",
              "      <td>True</td>\n",
              "      <td>False</td>\n",
              "      <td>True</td>\n",
              "      <td>Video game music</td>\n",
              "      <td>True</td>\n",
              "      <td>False</td>\n",
              "      <td>...</td>\n",
              "      <td>6</td>\n",
              "      <td>4</td>\n",
              "      <td>8</td>\n",
              "      <td>8</td>\n",
              "      <td>Improve</td>\n",
              "      <td>2022-08-29</td>\n",
              "      <td>01:22:44</td>\n",
              "      <td>2022</td>\n",
              "      <td>8</td>\n",
              "      <td>29</td>\n",
              "    </tr>\n",
              "  </tbody>\n",
              "</table>\n",
              "<p>5 rows × 37 columns</p>\n",
              "</div>\n",
              "    <div class=\"colab-df-buttons\">\n",
              "\n",
              "  <div class=\"colab-df-container\">\n",
              "    <button class=\"colab-df-convert\" onclick=\"convertToInteractive('df-adf741f8-4c6a-4ce4-b480-8833ef49240d')\"\n",
              "            title=\"Convert this dataframe to an interactive table.\"\n",
              "            style=\"display:none;\">\n",
              "\n",
              "  <svg xmlns=\"http://www.w3.org/2000/svg\" height=\"24px\" viewBox=\"0 -960 960 960\">\n",
              "    <path d=\"M120-120v-720h720v720H120Zm60-500h600v-160H180v160Zm220 220h160v-160H400v160Zm0 220h160v-160H400v160ZM180-400h160v-160H180v160Zm440 0h160v-160H620v160ZM180-180h160v-160H180v160Zm440 0h160v-160H620v160Z\"/>\n",
              "  </svg>\n",
              "    </button>\n",
              "\n",
              "  <style>\n",
              "    .colab-df-container {\n",
              "      display:flex;\n",
              "      gap: 12px;\n",
              "    }\n",
              "\n",
              "    .colab-df-convert {\n",
              "      background-color: #E8F0FE;\n",
              "      border: none;\n",
              "      border-radius: 50%;\n",
              "      cursor: pointer;\n",
              "      display: none;\n",
              "      fill: #1967D2;\n",
              "      height: 32px;\n",
              "      padding: 0 0 0 0;\n",
              "      width: 32px;\n",
              "    }\n",
              "\n",
              "    .colab-df-convert:hover {\n",
              "      background-color: #E2EBFA;\n",
              "      box-shadow: 0px 1px 2px rgba(60, 64, 67, 0.3), 0px 1px 3px 1px rgba(60, 64, 67, 0.15);\n",
              "      fill: #174EA6;\n",
              "    }\n",
              "\n",
              "    .colab-df-buttons div {\n",
              "      margin-bottom: 4px;\n",
              "    }\n",
              "\n",
              "    [theme=dark] .colab-df-convert {\n",
              "      background-color: #3B4455;\n",
              "      fill: #D2E3FC;\n",
              "    }\n",
              "\n",
              "    [theme=dark] .colab-df-convert:hover {\n",
              "      background-color: #434B5C;\n",
              "      box-shadow: 0px 1px 3px 1px rgba(0, 0, 0, 0.15);\n",
              "      filter: drop-shadow(0px 1px 2px rgba(0, 0, 0, 0.3));\n",
              "      fill: #FFFFFF;\n",
              "    }\n",
              "  </style>\n",
              "\n",
              "    <script>\n",
              "      const buttonEl =\n",
              "        document.querySelector('#df-adf741f8-4c6a-4ce4-b480-8833ef49240d button.colab-df-convert');\n",
              "      buttonEl.style.display =\n",
              "        google.colab.kernel.accessAllowed ? 'block' : 'none';\n",
              "\n",
              "      async function convertToInteractive(key) {\n",
              "        const element = document.querySelector('#df-adf741f8-4c6a-4ce4-b480-8833ef49240d');\n",
              "        const dataTable =\n",
              "          await google.colab.kernel.invokeFunction('convertToInteractive',\n",
              "                                                    [key], {});\n",
              "        if (!dataTable) return;\n",
              "\n",
              "        const docLinkHtml = 'Like what you see? Visit the ' +\n",
              "          '<a target=\"_blank\" href=https://colab.research.google.com/notebooks/data_table.ipynb>data table notebook</a>'\n",
              "          + ' to learn more about interactive tables.';\n",
              "        element.innerHTML = '';\n",
              "        dataTable['output_type'] = 'display_data';\n",
              "        await google.colab.output.renderOutput(dataTable, element);\n",
              "        const docLink = document.createElement('div');\n",
              "        docLink.innerHTML = docLinkHtml;\n",
              "        element.appendChild(docLink);\n",
              "      }\n",
              "    </script>\n",
              "  </div>\n",
              "\n",
              "\n",
              "<div id=\"df-3208edab-8e85-4d5c-92b8-9697b1c5b309\">\n",
              "  <button class=\"colab-df-quickchart\" onclick=\"quickchart('df-3208edab-8e85-4d5c-92b8-9697b1c5b309')\"\n",
              "            title=\"Suggest charts\"\n",
              "            style=\"display:none;\">\n",
              "\n",
              "<svg xmlns=\"http://www.w3.org/2000/svg\" height=\"24px\"viewBox=\"0 0 24 24\"\n",
              "     width=\"24px\">\n",
              "    <g>\n",
              "        <path d=\"M19 3H5c-1.1 0-2 .9-2 2v14c0 1.1.9 2 2 2h14c1.1 0 2-.9 2-2V5c0-1.1-.9-2-2-2zM9 17H7v-7h2v7zm4 0h-2V7h2v10zm4 0h-2v-4h2v4z\"/>\n",
              "    </g>\n",
              "</svg>\n",
              "  </button>\n",
              "\n",
              "<style>\n",
              "  .colab-df-quickchart {\n",
              "      --bg-color: #E8F0FE;\n",
              "      --fill-color: #1967D2;\n",
              "      --hover-bg-color: #E2EBFA;\n",
              "      --hover-fill-color: #174EA6;\n",
              "      --disabled-fill-color: #AAA;\n",
              "      --disabled-bg-color: #DDD;\n",
              "  }\n",
              "\n",
              "  [theme=dark] .colab-df-quickchart {\n",
              "      --bg-color: #3B4455;\n",
              "      --fill-color: #D2E3FC;\n",
              "      --hover-bg-color: #434B5C;\n",
              "      --hover-fill-color: #FFFFFF;\n",
              "      --disabled-bg-color: #3B4455;\n",
              "      --disabled-fill-color: #666;\n",
              "  }\n",
              "\n",
              "  .colab-df-quickchart {\n",
              "    background-color: var(--bg-color);\n",
              "    border: none;\n",
              "    border-radius: 50%;\n",
              "    cursor: pointer;\n",
              "    display: none;\n",
              "    fill: var(--fill-color);\n",
              "    height: 32px;\n",
              "    padding: 0;\n",
              "    width: 32px;\n",
              "  }\n",
              "\n",
              "  .colab-df-quickchart:hover {\n",
              "    background-color: var(--hover-bg-color);\n",
              "    box-shadow: 0 1px 2px rgba(60, 64, 67, 0.3), 0 1px 3px 1px rgba(60, 64, 67, 0.15);\n",
              "    fill: var(--button-hover-fill-color);\n",
              "  }\n",
              "\n",
              "  .colab-df-quickchart-complete:disabled,\n",
              "  .colab-df-quickchart-complete:disabled:hover {\n",
              "    background-color: var(--disabled-bg-color);\n",
              "    fill: var(--disabled-fill-color);\n",
              "    box-shadow: none;\n",
              "  }\n",
              "\n",
              "  .colab-df-spinner {\n",
              "    border: 2px solid var(--fill-color);\n",
              "    border-color: transparent;\n",
              "    border-bottom-color: var(--fill-color);\n",
              "    animation:\n",
              "      spin 1s steps(1) infinite;\n",
              "  }\n",
              "\n",
              "  @keyframes spin {\n",
              "    0% {\n",
              "      border-color: transparent;\n",
              "      border-bottom-color: var(--fill-color);\n",
              "      border-left-color: var(--fill-color);\n",
              "    }\n",
              "    20% {\n",
              "      border-color: transparent;\n",
              "      border-left-color: var(--fill-color);\n",
              "      border-top-color: var(--fill-color);\n",
              "    }\n",
              "    30% {\n",
              "      border-color: transparent;\n",
              "      border-left-color: var(--fill-color);\n",
              "      border-top-color: var(--fill-color);\n",
              "      border-right-color: var(--fill-color);\n",
              "    }\n",
              "    40% {\n",
              "      border-color: transparent;\n",
              "      border-right-color: var(--fill-color);\n",
              "      border-top-color: var(--fill-color);\n",
              "    }\n",
              "    60% {\n",
              "      border-color: transparent;\n",
              "      border-right-color: var(--fill-color);\n",
              "    }\n",
              "    80% {\n",
              "      border-color: transparent;\n",
              "      border-right-color: var(--fill-color);\n",
              "      border-bottom-color: var(--fill-color);\n",
              "    }\n",
              "    90% {\n",
              "      border-color: transparent;\n",
              "      border-bottom-color: var(--fill-color);\n",
              "    }\n",
              "  }\n",
              "</style>\n",
              "\n",
              "  <script>\n",
              "    async function quickchart(key) {\n",
              "      const quickchartButtonEl =\n",
              "        document.querySelector('#' + key + ' button');\n",
              "      quickchartButtonEl.disabled = true;  // To prevent multiple clicks.\n",
              "      quickchartButtonEl.classList.add('colab-df-spinner');\n",
              "      try {\n",
              "        const charts = await google.colab.kernel.invokeFunction(\n",
              "            'suggestCharts', [key], {});\n",
              "      } catch (error) {\n",
              "        console.error('Error during call to suggestCharts:', error);\n",
              "      }\n",
              "      quickchartButtonEl.classList.remove('colab-df-spinner');\n",
              "      quickchartButtonEl.classList.add('colab-df-quickchart-complete');\n",
              "    }\n",
              "    (() => {\n",
              "      let quickchartButtonEl =\n",
              "        document.querySelector('#df-3208edab-8e85-4d5c-92b8-9697b1c5b309 button');\n",
              "      quickchartButtonEl.style.display =\n",
              "        google.colab.kernel.accessAllowed ? 'block' : 'none';\n",
              "    })();\n",
              "  </script>\n",
              "</div>\n",
              "\n",
              "    </div>\n",
              "  </div>\n"
            ],
            "application/vnd.google.colaboratory.intrinsic+json": {
              "type": "dataframe"
            }
          },
          "metadata": {},
          "execution_count": 127
        }
      ]
    },
    {
      "cell_type": "code",
      "source": [
        "# start date of the dataset was 27th of August 2022\n",
        "# end date was recorded as 9th of november 2022"
      ],
      "metadata": {
        "id": "pgFSuiVK0Z-4"
      },
      "execution_count": 72,
      "outputs": []
    },
    {
      "cell_type": "code",
      "source": [
        "df.shape"
      ],
      "metadata": {
        "colab": {
          "base_uri": "https://localhost:8080/"
        },
        "id": "bC0pQMR01C2q",
        "outputId": "e51eaa47-6a30-4d93-f8da-ce65cf4d1021"
      },
      "execution_count": 73,
      "outputs": [
        {
          "output_type": "execute_result",
          "data": {
            "text/plain": [
              "(736, 37)"
            ]
          },
          "metadata": {},
          "execution_count": 73
        }
      ]
    },
    {
      "cell_type": "markdown",
      "source": [
        "the dataset has 736 rows and 33 columns."
      ],
      "metadata": {
        "id": "jxp4-2ne1N8_"
      }
    },
    {
      "cell_type": "code",
      "source": [
        "df.info()"
      ],
      "metadata": {
        "colab": {
          "base_uri": "https://localhost:8080/"
        },
        "id": "Wx3rEWFJ1ImI",
        "outputId": "2ed1ed0f-6cc9-4f39-80cc-f58a22c330aa"
      },
      "execution_count": 74,
      "outputs": [
        {
          "output_type": "stream",
          "name": "stdout",
          "text": [
            "<class 'pandas.core.frame.DataFrame'>\n",
            "RangeIndex: 736 entries, 0 to 735\n",
            "Data columns (total 37 columns):\n",
            " #   Column                      Non-Null Count  Dtype \n",
            "---  ------                      --------------  ----- \n",
            " 0   Unnamed: 0                  736 non-null    int64 \n",
            " 1   Age                         736 non-null    int64 \n",
            " 2   Primary_streaming_service   736 non-null    object\n",
            " 3   Hours_per_day               736 non-null    int64 \n",
            " 4   While_working               736 non-null    bool  \n",
            " 5   Instrumentalist             736 non-null    bool  \n",
            " 6   Composer                    736 non-null    bool  \n",
            " 7   Fav_genre                   736 non-null    object\n",
            " 8   Exploratory                 736 non-null    bool  \n",
            " 9   Foreign_languages           736 non-null    bool  \n",
            " 10  BPM_range                   736 non-null    object\n",
            " 11  Frequency_Classical         736 non-null    object\n",
            " 12  Frequency_Country           736 non-null    object\n",
            " 13  Frequency_EDM               736 non-null    object\n",
            " 14  Frequency_Folk              736 non-null    object\n",
            " 15  Frequency_Gospel            736 non-null    object\n",
            " 16  Frequency_Hip_hop           736 non-null    object\n",
            " 17  Frequency_Jazz              736 non-null    object\n",
            " 18  Frequency_K_pop             736 non-null    object\n",
            " 19  Frequency_Latin             736 non-null    object\n",
            " 20  Frequency_Lofi              736 non-null    object\n",
            " 21  Frequency_Metal             736 non-null    object\n",
            " 22  Frequency_Pop               736 non-null    object\n",
            " 23  Frequency_R_B               736 non-null    object\n",
            " 24  Frequency_Rap               736 non-null    object\n",
            " 25  Frequency_Rock              736 non-null    object\n",
            " 26  Frequency_Video_game_music  736 non-null    object\n",
            " 27  Anxiety                     736 non-null    int64 \n",
            " 28  Depression                  736 non-null    int64 \n",
            " 29  Insomnia                    736 non-null    int64 \n",
            " 30  OCD                         736 non-null    int64 \n",
            " 31  Music_effects               736 non-null    object\n",
            " 32  Date                        736 non-null    object\n",
            " 33  Time                        736 non-null    object\n",
            " 34  Year                        736 non-null    int64 \n",
            " 35  Month                       736 non-null    int64 \n",
            " 36  Day                         736 non-null    int64 \n",
            "dtypes: bool(5), int64(10), object(22)\n",
            "memory usage: 187.7+ KB\n"
          ]
        }
      ]
    },
    {
      "cell_type": "markdown",
      "source": [],
      "metadata": {
        "id": "gABsc9cb36uq"
      }
    },
    {
      "cell_type": "markdown",
      "source": [
        "There are null values in several columns including age,streaming service, while working, instrumentalists, composer, foreign languages, BPM, and music effects."
      ],
      "metadata": {
        "id": "5tYbF8Vy2P9n"
      }
    },
    {
      "cell_type": "markdown",
      "source": [
        "the type of timestamp needs to be changed to date type.\n",
        "Change age to integer type.\n",
        "Wile working to be changed to boolean.\n",
        "Exploratory should be also changed to boolean along with foreign languages, instrumentalists, composer and permission."
      ],
      "metadata": {
        "id": "xj7_peNkHCFf"
      }
    },
    {
      "cell_type": "markdown",
      "source": [
        "Permission columns will be dropped from the dataset as it doesnt add any value to aour analysis."
      ],
      "metadata": {
        "id": "GzyjwfjTHyzd"
      }
    },
    {
      "cell_type": "markdown",
      "source": [
        "We will replace the missing value in age column by the avg.\n",
        "for priamry streaming services we can replace the null value by not answered.\n",
        "## the null values in while working, Instrumentalist, composer, foreign languages, music effects, and BPM should be replaced with not answered."
      ],
      "metadata": {
        "id": "JCw5O4suIjFA"
      }
    },
    {
      "cell_type": "code",
      "source": [
        "# mean_bpm = df['BPM'].mean()\n",
        "# df['BPM'].fillna(mean_bpm,inplace=True)\n"
      ],
      "metadata": {
        "id": "9SMnUhWXeu7F"
      },
      "execution_count": 75,
      "outputs": []
    },
    {
      "cell_type": "code",
      "source": [
        "df.isnull().sum()"
      ],
      "metadata": {
        "colab": {
          "base_uri": "https://localhost:8080/"
        },
        "id": "JGUKPOtgfMr2",
        "outputId": "e068ce14-0aff-4fd9-93f6-5a3c262ae045"
      },
      "execution_count": 76,
      "outputs": [
        {
          "output_type": "execute_result",
          "data": {
            "text/plain": [
              "Unnamed: 0                    0\n",
              "Age                           0\n",
              "Primary_streaming_service     0\n",
              "Hours_per_day                 0\n",
              "While_working                 0\n",
              "Instrumentalist               0\n",
              "Composer                      0\n",
              "Fav_genre                     0\n",
              "Exploratory                   0\n",
              "Foreign_languages             0\n",
              "BPM_range                     0\n",
              "Frequency_Classical           0\n",
              "Frequency_Country             0\n",
              "Frequency_EDM                 0\n",
              "Frequency_Folk                0\n",
              "Frequency_Gospel              0\n",
              "Frequency_Hip_hop             0\n",
              "Frequency_Jazz                0\n",
              "Frequency_K_pop               0\n",
              "Frequency_Latin               0\n",
              "Frequency_Lofi                0\n",
              "Frequency_Metal               0\n",
              "Frequency_Pop                 0\n",
              "Frequency_R_B                 0\n",
              "Frequency_Rap                 0\n",
              "Frequency_Rock                0\n",
              "Frequency_Video_game_music    0\n",
              "Anxiety                       0\n",
              "Depression                    0\n",
              "Insomnia                      0\n",
              "OCD                           0\n",
              "Music_effects                 0\n",
              "Date                          0\n",
              "Time                          0\n",
              "Year                          0\n",
              "Month                         0\n",
              "Day                           0\n",
              "dtype: int64"
            ]
          },
          "metadata": {},
          "execution_count": 76
        }
      ]
    },
    {
      "cell_type": "code",
      "source": [
        "df.dtypes"
      ],
      "metadata": {
        "colab": {
          "base_uri": "https://localhost:8080/"
        },
        "id": "LOwa9HpVuMFX",
        "outputId": "631ecf8f-faca-48e8-c911-db8acfec4922"
      },
      "execution_count": 77,
      "outputs": [
        {
          "output_type": "execute_result",
          "data": {
            "text/plain": [
              "Unnamed: 0                     int64\n",
              "Age                            int64\n",
              "Primary_streaming_service     object\n",
              "Hours_per_day                  int64\n",
              "While_working                   bool\n",
              "Instrumentalist                 bool\n",
              "Composer                        bool\n",
              "Fav_genre                     object\n",
              "Exploratory                     bool\n",
              "Foreign_languages               bool\n",
              "BPM_range                     object\n",
              "Frequency_Classical           object\n",
              "Frequency_Country             object\n",
              "Frequency_EDM                 object\n",
              "Frequency_Folk                object\n",
              "Frequency_Gospel              object\n",
              "Frequency_Hip_hop             object\n",
              "Frequency_Jazz                object\n",
              "Frequency_K_pop               object\n",
              "Frequency_Latin               object\n",
              "Frequency_Lofi                object\n",
              "Frequency_Metal               object\n",
              "Frequency_Pop                 object\n",
              "Frequency_R_B                 object\n",
              "Frequency_Rap                 object\n",
              "Frequency_Rock                object\n",
              "Frequency_Video_game_music    object\n",
              "Anxiety                        int64\n",
              "Depression                     int64\n",
              "Insomnia                       int64\n",
              "OCD                            int64\n",
              "Music_effects                 object\n",
              "Date                          object\n",
              "Time                          object\n",
              "Year                           int64\n",
              "Month                          int64\n",
              "Day                            int64\n",
              "dtype: object"
            ]
          },
          "metadata": {},
          "execution_count": 77
        }
      ]
    },
    {
      "cell_type": "code",
      "source": [
        "df.duplicated().sum()"
      ],
      "metadata": {
        "colab": {
          "base_uri": "https://localhost:8080/"
        },
        "id": "nEZLN8gpJsDc",
        "outputId": "bf969511-d8b9-48a0-c78f-12dbee61b502"
      },
      "execution_count": 78,
      "outputs": [
        {
          "output_type": "execute_result",
          "data": {
            "text/plain": [
              "0"
            ]
          },
          "metadata": {},
          "execution_count": 78
        }
      ]
    },
    {
      "cell_type": "code",
      "source": [
        "df['While_working'].unique()"
      ],
      "metadata": {
        "colab": {
          "base_uri": "https://localhost:8080/"
        },
        "id": "RuHS2eC5oNAd",
        "outputId": "111533bb-1a89-4a6f-9436-a49a206bee16"
      },
      "execution_count": 79,
      "outputs": [
        {
          "output_type": "execute_result",
          "data": {
            "text/plain": [
              "array([False,  True])"
            ]
          },
          "metadata": {},
          "execution_count": 79
        }
      ]
    },
    {
      "cell_type": "markdown",
      "source": [],
      "metadata": {
        "id": "uO1qd6-uH9yN"
      }
    },
    {
      "cell_type": "code",
      "source": [
        "df.describe()"
      ],
      "metadata": {
        "colab": {
          "base_uri": "https://localhost:8080/",
          "height": 300
        },
        "id": "AxNEcQf9LjbI",
        "outputId": "8b8312e5-dcc0-44c8-9f8d-c37e1b42030c"
      },
      "execution_count": 80,
      "outputs": [
        {
          "output_type": "execute_result",
          "data": {
            "text/plain": [
              "       Unnamed: 0         Age  Hours_per_day     Anxiety  Depression  \\\n",
              "count  736.000000  736.000000     736.000000  736.000000  736.000000   \n",
              "mean   367.500000   25.201087       3.540761    5.836957    4.794837   \n",
              "std    212.609188   12.047764       3.055669    2.792710    3.029564   \n",
              "min      0.000000   10.000000       0.000000    0.000000    0.000000   \n",
              "25%    183.750000   18.000000       2.000000    4.000000    2.000000   \n",
              "50%    367.500000   21.000000       3.000000    6.000000    5.000000   \n",
              "75%    551.250000   28.000000       5.000000    8.000000    7.000000   \n",
              "max    735.000000   89.000000      24.000000   10.000000   10.000000   \n",
              "\n",
              "         Insomnia         OCD    Year       Month         Day  \n",
              "count  736.000000  736.000000   736.0  736.000000  736.000000  \n",
              "mean     3.737772    2.635870  2022.0    8.451087   20.315217  \n",
              "std      3.088797    2.840047     0.0    0.610831   11.167425  \n",
              "min      0.000000    0.000000  2022.0    8.000000    1.000000  \n",
              "25%      1.000000    0.000000  2022.0    8.000000    9.000000  \n",
              "50%      3.000000    2.000000  2022.0    8.000000   28.000000  \n",
              "75%      6.000000    5.000000  2022.0    9.000000   29.000000  \n",
              "max     10.000000   10.000000  2022.0   11.000000   31.000000  "
            ],
            "text/html": [
              "\n",
              "  <div id=\"df-0566314a-49d1-4d2b-a8c0-5c92610b7f46\" class=\"colab-df-container\">\n",
              "    <div>\n",
              "<style scoped>\n",
              "    .dataframe tbody tr th:only-of-type {\n",
              "        vertical-align: middle;\n",
              "    }\n",
              "\n",
              "    .dataframe tbody tr th {\n",
              "        vertical-align: top;\n",
              "    }\n",
              "\n",
              "    .dataframe thead th {\n",
              "        text-align: right;\n",
              "    }\n",
              "</style>\n",
              "<table border=\"1\" class=\"dataframe\">\n",
              "  <thead>\n",
              "    <tr style=\"text-align: right;\">\n",
              "      <th></th>\n",
              "      <th>Unnamed: 0</th>\n",
              "      <th>Age</th>\n",
              "      <th>Hours_per_day</th>\n",
              "      <th>Anxiety</th>\n",
              "      <th>Depression</th>\n",
              "      <th>Insomnia</th>\n",
              "      <th>OCD</th>\n",
              "      <th>Year</th>\n",
              "      <th>Month</th>\n",
              "      <th>Day</th>\n",
              "    </tr>\n",
              "  </thead>\n",
              "  <tbody>\n",
              "    <tr>\n",
              "      <th>count</th>\n",
              "      <td>736.000000</td>\n",
              "      <td>736.000000</td>\n",
              "      <td>736.000000</td>\n",
              "      <td>736.000000</td>\n",
              "      <td>736.000000</td>\n",
              "      <td>736.000000</td>\n",
              "      <td>736.000000</td>\n",
              "      <td>736.0</td>\n",
              "      <td>736.000000</td>\n",
              "      <td>736.000000</td>\n",
              "    </tr>\n",
              "    <tr>\n",
              "      <th>mean</th>\n",
              "      <td>367.500000</td>\n",
              "      <td>25.201087</td>\n",
              "      <td>3.540761</td>\n",
              "      <td>5.836957</td>\n",
              "      <td>4.794837</td>\n",
              "      <td>3.737772</td>\n",
              "      <td>2.635870</td>\n",
              "      <td>2022.0</td>\n",
              "      <td>8.451087</td>\n",
              "      <td>20.315217</td>\n",
              "    </tr>\n",
              "    <tr>\n",
              "      <th>std</th>\n",
              "      <td>212.609188</td>\n",
              "      <td>12.047764</td>\n",
              "      <td>3.055669</td>\n",
              "      <td>2.792710</td>\n",
              "      <td>3.029564</td>\n",
              "      <td>3.088797</td>\n",
              "      <td>2.840047</td>\n",
              "      <td>0.0</td>\n",
              "      <td>0.610831</td>\n",
              "      <td>11.167425</td>\n",
              "    </tr>\n",
              "    <tr>\n",
              "      <th>min</th>\n",
              "      <td>0.000000</td>\n",
              "      <td>10.000000</td>\n",
              "      <td>0.000000</td>\n",
              "      <td>0.000000</td>\n",
              "      <td>0.000000</td>\n",
              "      <td>0.000000</td>\n",
              "      <td>0.000000</td>\n",
              "      <td>2022.0</td>\n",
              "      <td>8.000000</td>\n",
              "      <td>1.000000</td>\n",
              "    </tr>\n",
              "    <tr>\n",
              "      <th>25%</th>\n",
              "      <td>183.750000</td>\n",
              "      <td>18.000000</td>\n",
              "      <td>2.000000</td>\n",
              "      <td>4.000000</td>\n",
              "      <td>2.000000</td>\n",
              "      <td>1.000000</td>\n",
              "      <td>0.000000</td>\n",
              "      <td>2022.0</td>\n",
              "      <td>8.000000</td>\n",
              "      <td>9.000000</td>\n",
              "    </tr>\n",
              "    <tr>\n",
              "      <th>50%</th>\n",
              "      <td>367.500000</td>\n",
              "      <td>21.000000</td>\n",
              "      <td>3.000000</td>\n",
              "      <td>6.000000</td>\n",
              "      <td>5.000000</td>\n",
              "      <td>3.000000</td>\n",
              "      <td>2.000000</td>\n",
              "      <td>2022.0</td>\n",
              "      <td>8.000000</td>\n",
              "      <td>28.000000</td>\n",
              "    </tr>\n",
              "    <tr>\n",
              "      <th>75%</th>\n",
              "      <td>551.250000</td>\n",
              "      <td>28.000000</td>\n",
              "      <td>5.000000</td>\n",
              "      <td>8.000000</td>\n",
              "      <td>7.000000</td>\n",
              "      <td>6.000000</td>\n",
              "      <td>5.000000</td>\n",
              "      <td>2022.0</td>\n",
              "      <td>9.000000</td>\n",
              "      <td>29.000000</td>\n",
              "    </tr>\n",
              "    <tr>\n",
              "      <th>max</th>\n",
              "      <td>735.000000</td>\n",
              "      <td>89.000000</td>\n",
              "      <td>24.000000</td>\n",
              "      <td>10.000000</td>\n",
              "      <td>10.000000</td>\n",
              "      <td>10.000000</td>\n",
              "      <td>10.000000</td>\n",
              "      <td>2022.0</td>\n",
              "      <td>11.000000</td>\n",
              "      <td>31.000000</td>\n",
              "    </tr>\n",
              "  </tbody>\n",
              "</table>\n",
              "</div>\n",
              "    <div class=\"colab-df-buttons\">\n",
              "\n",
              "  <div class=\"colab-df-container\">\n",
              "    <button class=\"colab-df-convert\" onclick=\"convertToInteractive('df-0566314a-49d1-4d2b-a8c0-5c92610b7f46')\"\n",
              "            title=\"Convert this dataframe to an interactive table.\"\n",
              "            style=\"display:none;\">\n",
              "\n",
              "  <svg xmlns=\"http://www.w3.org/2000/svg\" height=\"24px\" viewBox=\"0 -960 960 960\">\n",
              "    <path d=\"M120-120v-720h720v720H120Zm60-500h600v-160H180v160Zm220 220h160v-160H400v160Zm0 220h160v-160H400v160ZM180-400h160v-160H180v160Zm440 0h160v-160H620v160ZM180-180h160v-160H180v160Zm440 0h160v-160H620v160Z\"/>\n",
              "  </svg>\n",
              "    </button>\n",
              "\n",
              "  <style>\n",
              "    .colab-df-container {\n",
              "      display:flex;\n",
              "      gap: 12px;\n",
              "    }\n",
              "\n",
              "    .colab-df-convert {\n",
              "      background-color: #E8F0FE;\n",
              "      border: none;\n",
              "      border-radius: 50%;\n",
              "      cursor: pointer;\n",
              "      display: none;\n",
              "      fill: #1967D2;\n",
              "      height: 32px;\n",
              "      padding: 0 0 0 0;\n",
              "      width: 32px;\n",
              "    }\n",
              "\n",
              "    .colab-df-convert:hover {\n",
              "      background-color: #E2EBFA;\n",
              "      box-shadow: 0px 1px 2px rgba(60, 64, 67, 0.3), 0px 1px 3px 1px rgba(60, 64, 67, 0.15);\n",
              "      fill: #174EA6;\n",
              "    }\n",
              "\n",
              "    .colab-df-buttons div {\n",
              "      margin-bottom: 4px;\n",
              "    }\n",
              "\n",
              "    [theme=dark] .colab-df-convert {\n",
              "      background-color: #3B4455;\n",
              "      fill: #D2E3FC;\n",
              "    }\n",
              "\n",
              "    [theme=dark] .colab-df-convert:hover {\n",
              "      background-color: #434B5C;\n",
              "      box-shadow: 0px 1px 3px 1px rgba(0, 0, 0, 0.15);\n",
              "      filter: drop-shadow(0px 1px 2px rgba(0, 0, 0, 0.3));\n",
              "      fill: #FFFFFF;\n",
              "    }\n",
              "  </style>\n",
              "\n",
              "    <script>\n",
              "      const buttonEl =\n",
              "        document.querySelector('#df-0566314a-49d1-4d2b-a8c0-5c92610b7f46 button.colab-df-convert');\n",
              "      buttonEl.style.display =\n",
              "        google.colab.kernel.accessAllowed ? 'block' : 'none';\n",
              "\n",
              "      async function convertToInteractive(key) {\n",
              "        const element = document.querySelector('#df-0566314a-49d1-4d2b-a8c0-5c92610b7f46');\n",
              "        const dataTable =\n",
              "          await google.colab.kernel.invokeFunction('convertToInteractive',\n",
              "                                                    [key], {});\n",
              "        if (!dataTable) return;\n",
              "\n",
              "        const docLinkHtml = 'Like what you see? Visit the ' +\n",
              "          '<a target=\"_blank\" href=https://colab.research.google.com/notebooks/data_table.ipynb>data table notebook</a>'\n",
              "          + ' to learn more about interactive tables.';\n",
              "        element.innerHTML = '';\n",
              "        dataTable['output_type'] = 'display_data';\n",
              "        await google.colab.output.renderOutput(dataTable, element);\n",
              "        const docLink = document.createElement('div');\n",
              "        docLink.innerHTML = docLinkHtml;\n",
              "        element.appendChild(docLink);\n",
              "      }\n",
              "    </script>\n",
              "  </div>\n",
              "\n",
              "\n",
              "<div id=\"df-a1b667ce-2c1e-4818-abae-19046c8170be\">\n",
              "  <button class=\"colab-df-quickchart\" onclick=\"quickchart('df-a1b667ce-2c1e-4818-abae-19046c8170be')\"\n",
              "            title=\"Suggest charts\"\n",
              "            style=\"display:none;\">\n",
              "\n",
              "<svg xmlns=\"http://www.w3.org/2000/svg\" height=\"24px\"viewBox=\"0 0 24 24\"\n",
              "     width=\"24px\">\n",
              "    <g>\n",
              "        <path d=\"M19 3H5c-1.1 0-2 .9-2 2v14c0 1.1.9 2 2 2h14c1.1 0 2-.9 2-2V5c0-1.1-.9-2-2-2zM9 17H7v-7h2v7zm4 0h-2V7h2v10zm4 0h-2v-4h2v4z\"/>\n",
              "    </g>\n",
              "</svg>\n",
              "  </button>\n",
              "\n",
              "<style>\n",
              "  .colab-df-quickchart {\n",
              "      --bg-color: #E8F0FE;\n",
              "      --fill-color: #1967D2;\n",
              "      --hover-bg-color: #E2EBFA;\n",
              "      --hover-fill-color: #174EA6;\n",
              "      --disabled-fill-color: #AAA;\n",
              "      --disabled-bg-color: #DDD;\n",
              "  }\n",
              "\n",
              "  [theme=dark] .colab-df-quickchart {\n",
              "      --bg-color: #3B4455;\n",
              "      --fill-color: #D2E3FC;\n",
              "      --hover-bg-color: #434B5C;\n",
              "      --hover-fill-color: #FFFFFF;\n",
              "      --disabled-bg-color: #3B4455;\n",
              "      --disabled-fill-color: #666;\n",
              "  }\n",
              "\n",
              "  .colab-df-quickchart {\n",
              "    background-color: var(--bg-color);\n",
              "    border: none;\n",
              "    border-radius: 50%;\n",
              "    cursor: pointer;\n",
              "    display: none;\n",
              "    fill: var(--fill-color);\n",
              "    height: 32px;\n",
              "    padding: 0;\n",
              "    width: 32px;\n",
              "  }\n",
              "\n",
              "  .colab-df-quickchart:hover {\n",
              "    background-color: var(--hover-bg-color);\n",
              "    box-shadow: 0 1px 2px rgba(60, 64, 67, 0.3), 0 1px 3px 1px rgba(60, 64, 67, 0.15);\n",
              "    fill: var(--button-hover-fill-color);\n",
              "  }\n",
              "\n",
              "  .colab-df-quickchart-complete:disabled,\n",
              "  .colab-df-quickchart-complete:disabled:hover {\n",
              "    background-color: var(--disabled-bg-color);\n",
              "    fill: var(--disabled-fill-color);\n",
              "    box-shadow: none;\n",
              "  }\n",
              "\n",
              "  .colab-df-spinner {\n",
              "    border: 2px solid var(--fill-color);\n",
              "    border-color: transparent;\n",
              "    border-bottom-color: var(--fill-color);\n",
              "    animation:\n",
              "      spin 1s steps(1) infinite;\n",
              "  }\n",
              "\n",
              "  @keyframes spin {\n",
              "    0% {\n",
              "      border-color: transparent;\n",
              "      border-bottom-color: var(--fill-color);\n",
              "      border-left-color: var(--fill-color);\n",
              "    }\n",
              "    20% {\n",
              "      border-color: transparent;\n",
              "      border-left-color: var(--fill-color);\n",
              "      border-top-color: var(--fill-color);\n",
              "    }\n",
              "    30% {\n",
              "      border-color: transparent;\n",
              "      border-left-color: var(--fill-color);\n",
              "      border-top-color: var(--fill-color);\n",
              "      border-right-color: var(--fill-color);\n",
              "    }\n",
              "    40% {\n",
              "      border-color: transparent;\n",
              "      border-right-color: var(--fill-color);\n",
              "      border-top-color: var(--fill-color);\n",
              "    }\n",
              "    60% {\n",
              "      border-color: transparent;\n",
              "      border-right-color: var(--fill-color);\n",
              "    }\n",
              "    80% {\n",
              "      border-color: transparent;\n",
              "      border-right-color: var(--fill-color);\n",
              "      border-bottom-color: var(--fill-color);\n",
              "    }\n",
              "    90% {\n",
              "      border-color: transparent;\n",
              "      border-bottom-color: var(--fill-color);\n",
              "    }\n",
              "  }\n",
              "</style>\n",
              "\n",
              "  <script>\n",
              "    async function quickchart(key) {\n",
              "      const quickchartButtonEl =\n",
              "        document.querySelector('#' + key + ' button');\n",
              "      quickchartButtonEl.disabled = true;  // To prevent multiple clicks.\n",
              "      quickchartButtonEl.classList.add('colab-df-spinner');\n",
              "      try {\n",
              "        const charts = await google.colab.kernel.invokeFunction(\n",
              "            'suggestCharts', [key], {});\n",
              "      } catch (error) {\n",
              "        console.error('Error during call to suggestCharts:', error);\n",
              "      }\n",
              "      quickchartButtonEl.classList.remove('colab-df-spinner');\n",
              "      quickchartButtonEl.classList.add('colab-df-quickchart-complete');\n",
              "    }\n",
              "    (() => {\n",
              "      let quickchartButtonEl =\n",
              "        document.querySelector('#df-a1b667ce-2c1e-4818-abae-19046c8170be button');\n",
              "      quickchartButtonEl.style.display =\n",
              "        google.colab.kernel.accessAllowed ? 'block' : 'none';\n",
              "    })();\n",
              "  </script>\n",
              "</div>\n",
              "\n",
              "    </div>\n",
              "  </div>\n"
            ],
            "application/vnd.google.colaboratory.intrinsic+json": {
              "type": "dataframe",
              "summary": "{\n  \"name\": \"df\",\n  \"rows\": 8,\n  \"fields\": [\n    {\n      \"column\": \"Unnamed: 0\",\n      \"properties\": {\n        \"dtype\": \"number\",\n        \"std\": 265.0391960567761,\n        \"min\": 0.0,\n        \"max\": 736.0,\n        \"num_unique_values\": 7,\n        \"samples\": [\n          736.0,\n          367.5,\n          551.25\n        ],\n        \"semantic_type\": \"\",\n        \"description\": \"\"\n      }\n    },\n    {\n      \"column\": \"Age\",\n      \"properties\": {\n        \"dtype\": \"number\",\n        \"std\": 251.2178032916404,\n        \"min\": 10.0,\n        \"max\": 736.0,\n        \"num_unique_values\": 8,\n        \"samples\": [\n          25.20108695652174,\n          21.0,\n          736.0\n        ],\n        \"semantic_type\": \"\",\n        \"description\": \"\"\n      }\n    },\n    {\n      \"column\": \"Hours_per_day\",\n      \"properties\": {\n        \"dtype\": \"number\",\n        \"std\": 258.2756341247642,\n        \"min\": 0.0,\n        \"max\": 736.0,\n        \"num_unique_values\": 8,\n        \"samples\": [\n          3.5407608695652173,\n          3.0,\n          736.0\n        ],\n        \"semantic_type\": \"\",\n        \"description\": \"\"\n      }\n    },\n    {\n      \"column\": \"Anxiety\",\n      \"properties\": {\n        \"dtype\": \"number\",\n        \"std\": 258.38351728436487,\n        \"min\": 0.0,\n        \"max\": 736.0,\n        \"num_unique_values\": 8,\n        \"samples\": [\n          5.836956521739131,\n          6.0,\n          736.0\n        ],\n        \"semantic_type\": \"\",\n        \"description\": \"\"\n      }\n    },\n    {\n      \"column\": \"Depression\",\n      \"properties\": {\n        \"dtype\": \"number\",\n        \"std\": 258.62600682702265,\n        \"min\": 0.0,\n        \"max\": 736.0,\n        \"num_unique_values\": 8,\n        \"samples\": [\n          4.794836956521739,\n          5.0,\n          736.0\n        ],\n        \"semantic_type\": \"\",\n        \"description\": \"\"\n      }\n    },\n    {\n      \"column\": \"Insomnia\",\n      \"properties\": {\n        \"dtype\": \"number\",\n        \"std\": 258.8787539886703,\n        \"min\": 0.0,\n        \"max\": 736.0,\n        \"num_unique_values\": 8,\n        \"samples\": [\n          3.7377717391304346,\n          3.0,\n          736.0\n        ],\n        \"semantic_type\": \"\",\n        \"description\": \"\"\n      }\n    },\n    {\n      \"column\": \"OCD\",\n      \"properties\": {\n        \"dtype\": \"number\",\n        \"std\": 259.09989776083955,\n        \"min\": 0.0,\n        \"max\": 736.0,\n        \"num_unique_values\": 7,\n        \"samples\": [\n          736.0,\n          2.635869565217391,\n          5.0\n        ],\n        \"semantic_type\": \"\",\n        \"description\": \"\"\n      }\n    },\n    {\n      \"column\": \"Year\",\n      \"properties\": {\n        \"dtype\": \"number\",\n        \"std\": 790.5171905603498,\n        \"min\": 0.0,\n        \"max\": 2022.0,\n        \"num_unique_values\": 3,\n        \"samples\": [\n          736.0,\n          2022.0,\n          0.0\n        ],\n        \"semantic_type\": \"\",\n        \"description\": \"\"\n      }\n    },\n    {\n      \"column\": \"Month\",\n      \"properties\": {\n        \"dtype\": \"number\",\n        \"std\": 257.5528947605321,\n        \"min\": 0.6108309612131453,\n        \"max\": 736.0,\n        \"num_unique_values\": 6,\n        \"samples\": [\n          736.0,\n          8.451086956521738,\n          11.0\n        ],\n        \"semantic_type\": \"\",\n        \"description\": \"\"\n      }\n    },\n    {\n      \"column\": \"Day\",\n      \"properties\": {\n        \"dtype\": \"number\",\n        \"std\": 253.9034951234413,\n        \"min\": 1.0,\n        \"max\": 736.0,\n        \"num_unique_values\": 8,\n        \"samples\": [\n          20.315217391304348,\n          28.0,\n          736.0\n        ],\n        \"semantic_type\": \"\",\n        \"description\": \"\"\n      }\n    }\n  ]\n}"
            }
          },
          "metadata": {},
          "execution_count": 80
        }
      ]
    },
    {
      "cell_type": "code",
      "source": [
        "df_numeric=df[[ 'Hours_per_day','Anxiety','OCD','Depression','Insomnia']]"
      ],
      "metadata": {
        "id": "hDTgz4RUG47P"
      },
      "execution_count": 81,
      "outputs": []
    },
    {
      "cell_type": "code",
      "source": [
        "df_numeric.corr().round(2)"
      ],
      "metadata": {
        "colab": {
          "base_uri": "https://localhost:8080/",
          "height": 206
        },
        "id": "wo0afhOxetvQ",
        "outputId": "bad8e082-154b-49b4-8d73-9250b585d266"
      },
      "execution_count": 82,
      "outputs": [
        {
          "output_type": "execute_result",
          "data": {
            "text/plain": [
              "               Hours_per_day  Anxiety   OCD  Depression  Insomnia\n",
              "Hours_per_day           1.00     0.05  0.12        0.11      0.14\n",
              "Anxiety                 0.05     1.00  0.35        0.52      0.29\n",
              "OCD                     0.12     0.35  1.00        0.20      0.23\n",
              "Depression              0.11     0.52  0.20        1.00      0.38\n",
              "Insomnia                0.14     0.29  0.23        0.38      1.00"
            ],
            "text/html": [
              "\n",
              "  <div id=\"df-f640e150-6dc9-4f22-bcfe-190b05f55072\" class=\"colab-df-container\">\n",
              "    <div>\n",
              "<style scoped>\n",
              "    .dataframe tbody tr th:only-of-type {\n",
              "        vertical-align: middle;\n",
              "    }\n",
              "\n",
              "    .dataframe tbody tr th {\n",
              "        vertical-align: top;\n",
              "    }\n",
              "\n",
              "    .dataframe thead th {\n",
              "        text-align: right;\n",
              "    }\n",
              "</style>\n",
              "<table border=\"1\" class=\"dataframe\">\n",
              "  <thead>\n",
              "    <tr style=\"text-align: right;\">\n",
              "      <th></th>\n",
              "      <th>Hours_per_day</th>\n",
              "      <th>Anxiety</th>\n",
              "      <th>OCD</th>\n",
              "      <th>Depression</th>\n",
              "      <th>Insomnia</th>\n",
              "    </tr>\n",
              "  </thead>\n",
              "  <tbody>\n",
              "    <tr>\n",
              "      <th>Hours_per_day</th>\n",
              "      <td>1.00</td>\n",
              "      <td>0.05</td>\n",
              "      <td>0.12</td>\n",
              "      <td>0.11</td>\n",
              "      <td>0.14</td>\n",
              "    </tr>\n",
              "    <tr>\n",
              "      <th>Anxiety</th>\n",
              "      <td>0.05</td>\n",
              "      <td>1.00</td>\n",
              "      <td>0.35</td>\n",
              "      <td>0.52</td>\n",
              "      <td>0.29</td>\n",
              "    </tr>\n",
              "    <tr>\n",
              "      <th>OCD</th>\n",
              "      <td>0.12</td>\n",
              "      <td>0.35</td>\n",
              "      <td>1.00</td>\n",
              "      <td>0.20</td>\n",
              "      <td>0.23</td>\n",
              "    </tr>\n",
              "    <tr>\n",
              "      <th>Depression</th>\n",
              "      <td>0.11</td>\n",
              "      <td>0.52</td>\n",
              "      <td>0.20</td>\n",
              "      <td>1.00</td>\n",
              "      <td>0.38</td>\n",
              "    </tr>\n",
              "    <tr>\n",
              "      <th>Insomnia</th>\n",
              "      <td>0.14</td>\n",
              "      <td>0.29</td>\n",
              "      <td>0.23</td>\n",
              "      <td>0.38</td>\n",
              "      <td>1.00</td>\n",
              "    </tr>\n",
              "  </tbody>\n",
              "</table>\n",
              "</div>\n",
              "    <div class=\"colab-df-buttons\">\n",
              "\n",
              "  <div class=\"colab-df-container\">\n",
              "    <button class=\"colab-df-convert\" onclick=\"convertToInteractive('df-f640e150-6dc9-4f22-bcfe-190b05f55072')\"\n",
              "            title=\"Convert this dataframe to an interactive table.\"\n",
              "            style=\"display:none;\">\n",
              "\n",
              "  <svg xmlns=\"http://www.w3.org/2000/svg\" height=\"24px\" viewBox=\"0 -960 960 960\">\n",
              "    <path d=\"M120-120v-720h720v720H120Zm60-500h600v-160H180v160Zm220 220h160v-160H400v160Zm0 220h160v-160H400v160ZM180-400h160v-160H180v160Zm440 0h160v-160H620v160ZM180-180h160v-160H180v160Zm440 0h160v-160H620v160Z\"/>\n",
              "  </svg>\n",
              "    </button>\n",
              "\n",
              "  <style>\n",
              "    .colab-df-container {\n",
              "      display:flex;\n",
              "      gap: 12px;\n",
              "    }\n",
              "\n",
              "    .colab-df-convert {\n",
              "      background-color: #E8F0FE;\n",
              "      border: none;\n",
              "      border-radius: 50%;\n",
              "      cursor: pointer;\n",
              "      display: none;\n",
              "      fill: #1967D2;\n",
              "      height: 32px;\n",
              "      padding: 0 0 0 0;\n",
              "      width: 32px;\n",
              "    }\n",
              "\n",
              "    .colab-df-convert:hover {\n",
              "      background-color: #E2EBFA;\n",
              "      box-shadow: 0px 1px 2px rgba(60, 64, 67, 0.3), 0px 1px 3px 1px rgba(60, 64, 67, 0.15);\n",
              "      fill: #174EA6;\n",
              "    }\n",
              "\n",
              "    .colab-df-buttons div {\n",
              "      margin-bottom: 4px;\n",
              "    }\n",
              "\n",
              "    [theme=dark] .colab-df-convert {\n",
              "      background-color: #3B4455;\n",
              "      fill: #D2E3FC;\n",
              "    }\n",
              "\n",
              "    [theme=dark] .colab-df-convert:hover {\n",
              "      background-color: #434B5C;\n",
              "      box-shadow: 0px 1px 3px 1px rgba(0, 0, 0, 0.15);\n",
              "      filter: drop-shadow(0px 1px 2px rgba(0, 0, 0, 0.3));\n",
              "      fill: #FFFFFF;\n",
              "    }\n",
              "  </style>\n",
              "\n",
              "    <script>\n",
              "      const buttonEl =\n",
              "        document.querySelector('#df-f640e150-6dc9-4f22-bcfe-190b05f55072 button.colab-df-convert');\n",
              "      buttonEl.style.display =\n",
              "        google.colab.kernel.accessAllowed ? 'block' : 'none';\n",
              "\n",
              "      async function convertToInteractive(key) {\n",
              "        const element = document.querySelector('#df-f640e150-6dc9-4f22-bcfe-190b05f55072');\n",
              "        const dataTable =\n",
              "          await google.colab.kernel.invokeFunction('convertToInteractive',\n",
              "                                                    [key], {});\n",
              "        if (!dataTable) return;\n",
              "\n",
              "        const docLinkHtml = 'Like what you see? Visit the ' +\n",
              "          '<a target=\"_blank\" href=https://colab.research.google.com/notebooks/data_table.ipynb>data table notebook</a>'\n",
              "          + ' to learn more about interactive tables.';\n",
              "        element.innerHTML = '';\n",
              "        dataTable['output_type'] = 'display_data';\n",
              "        await google.colab.output.renderOutput(dataTable, element);\n",
              "        const docLink = document.createElement('div');\n",
              "        docLink.innerHTML = docLinkHtml;\n",
              "        element.appendChild(docLink);\n",
              "      }\n",
              "    </script>\n",
              "  </div>\n",
              "\n",
              "\n",
              "<div id=\"df-1060127a-b763-408e-9cb0-f5db67480a9b\">\n",
              "  <button class=\"colab-df-quickchart\" onclick=\"quickchart('df-1060127a-b763-408e-9cb0-f5db67480a9b')\"\n",
              "            title=\"Suggest charts\"\n",
              "            style=\"display:none;\">\n",
              "\n",
              "<svg xmlns=\"http://www.w3.org/2000/svg\" height=\"24px\"viewBox=\"0 0 24 24\"\n",
              "     width=\"24px\">\n",
              "    <g>\n",
              "        <path d=\"M19 3H5c-1.1 0-2 .9-2 2v14c0 1.1.9 2 2 2h14c1.1 0 2-.9 2-2V5c0-1.1-.9-2-2-2zM9 17H7v-7h2v7zm4 0h-2V7h2v10zm4 0h-2v-4h2v4z\"/>\n",
              "    </g>\n",
              "</svg>\n",
              "  </button>\n",
              "\n",
              "<style>\n",
              "  .colab-df-quickchart {\n",
              "      --bg-color: #E8F0FE;\n",
              "      --fill-color: #1967D2;\n",
              "      --hover-bg-color: #E2EBFA;\n",
              "      --hover-fill-color: #174EA6;\n",
              "      --disabled-fill-color: #AAA;\n",
              "      --disabled-bg-color: #DDD;\n",
              "  }\n",
              "\n",
              "  [theme=dark] .colab-df-quickchart {\n",
              "      --bg-color: #3B4455;\n",
              "      --fill-color: #D2E3FC;\n",
              "      --hover-bg-color: #434B5C;\n",
              "      --hover-fill-color: #FFFFFF;\n",
              "      --disabled-bg-color: #3B4455;\n",
              "      --disabled-fill-color: #666;\n",
              "  }\n",
              "\n",
              "  .colab-df-quickchart {\n",
              "    background-color: var(--bg-color);\n",
              "    border: none;\n",
              "    border-radius: 50%;\n",
              "    cursor: pointer;\n",
              "    display: none;\n",
              "    fill: var(--fill-color);\n",
              "    height: 32px;\n",
              "    padding: 0;\n",
              "    width: 32px;\n",
              "  }\n",
              "\n",
              "  .colab-df-quickchart:hover {\n",
              "    background-color: var(--hover-bg-color);\n",
              "    box-shadow: 0 1px 2px rgba(60, 64, 67, 0.3), 0 1px 3px 1px rgba(60, 64, 67, 0.15);\n",
              "    fill: var(--button-hover-fill-color);\n",
              "  }\n",
              "\n",
              "  .colab-df-quickchart-complete:disabled,\n",
              "  .colab-df-quickchart-complete:disabled:hover {\n",
              "    background-color: var(--disabled-bg-color);\n",
              "    fill: var(--disabled-fill-color);\n",
              "    box-shadow: none;\n",
              "  }\n",
              "\n",
              "  .colab-df-spinner {\n",
              "    border: 2px solid var(--fill-color);\n",
              "    border-color: transparent;\n",
              "    border-bottom-color: var(--fill-color);\n",
              "    animation:\n",
              "      spin 1s steps(1) infinite;\n",
              "  }\n",
              "\n",
              "  @keyframes spin {\n",
              "    0% {\n",
              "      border-color: transparent;\n",
              "      border-bottom-color: var(--fill-color);\n",
              "      border-left-color: var(--fill-color);\n",
              "    }\n",
              "    20% {\n",
              "      border-color: transparent;\n",
              "      border-left-color: var(--fill-color);\n",
              "      border-top-color: var(--fill-color);\n",
              "    }\n",
              "    30% {\n",
              "      border-color: transparent;\n",
              "      border-left-color: var(--fill-color);\n",
              "      border-top-color: var(--fill-color);\n",
              "      border-right-color: var(--fill-color);\n",
              "    }\n",
              "    40% {\n",
              "      border-color: transparent;\n",
              "      border-right-color: var(--fill-color);\n",
              "      border-top-color: var(--fill-color);\n",
              "    }\n",
              "    60% {\n",
              "      border-color: transparent;\n",
              "      border-right-color: var(--fill-color);\n",
              "    }\n",
              "    80% {\n",
              "      border-color: transparent;\n",
              "      border-right-color: var(--fill-color);\n",
              "      border-bottom-color: var(--fill-color);\n",
              "    }\n",
              "    90% {\n",
              "      border-color: transparent;\n",
              "      border-bottom-color: var(--fill-color);\n",
              "    }\n",
              "  }\n",
              "</style>\n",
              "\n",
              "  <script>\n",
              "    async function quickchart(key) {\n",
              "      const quickchartButtonEl =\n",
              "        document.querySelector('#' + key + ' button');\n",
              "      quickchartButtonEl.disabled = true;  // To prevent multiple clicks.\n",
              "      quickchartButtonEl.classList.add('colab-df-spinner');\n",
              "      try {\n",
              "        const charts = await google.colab.kernel.invokeFunction(\n",
              "            'suggestCharts', [key], {});\n",
              "      } catch (error) {\n",
              "        console.error('Error during call to suggestCharts:', error);\n",
              "      }\n",
              "      quickchartButtonEl.classList.remove('colab-df-spinner');\n",
              "      quickchartButtonEl.classList.add('colab-df-quickchart-complete');\n",
              "    }\n",
              "    (() => {\n",
              "      let quickchartButtonEl =\n",
              "        document.querySelector('#df-1060127a-b763-408e-9cb0-f5db67480a9b button');\n",
              "      quickchartButtonEl.style.display =\n",
              "        google.colab.kernel.accessAllowed ? 'block' : 'none';\n",
              "    })();\n",
              "  </script>\n",
              "</div>\n",
              "\n",
              "    </div>\n",
              "  </div>\n"
            ],
            "application/vnd.google.colaboratory.intrinsic+json": {
              "type": "dataframe",
              "summary": "{\n  \"name\": \"df_numeric\",\n  \"rows\": 5,\n  \"fields\": [\n    {\n      \"column\": \"Hours_per_day\",\n      \"properties\": {\n        \"dtype\": \"number\",\n        \"std\": 0.40165905940237423,\n        \"min\": 0.05,\n        \"max\": 1.0,\n        \"num_unique_values\": 5,\n        \"samples\": [\n          0.05,\n          0.14,\n          0.12\n        ],\n        \"semantic_type\": \"\",\n        \"description\": \"\"\n      }\n    },\n    {\n      \"column\": \"Anxiety\",\n      \"properties\": {\n        \"dtype\": \"number\",\n        \"std\": 0.3544996473905158,\n        \"min\": 0.05,\n        \"max\": 1.0,\n        \"num_unique_values\": 5,\n        \"samples\": [\n          1.0,\n          0.29,\n          0.35\n        ],\n        \"semantic_type\": \"\",\n        \"description\": \"\"\n      }\n    },\n    {\n      \"column\": \"OCD\",\n      \"properties\": {\n        \"dtype\": \"number\",\n        \"std\": 0.35630043502639736,\n        \"min\": 0.12,\n        \"max\": 1.0,\n        \"num_unique_values\": 5,\n        \"samples\": [\n          0.35,\n          0.23,\n          1.0\n        ],\n        \"semantic_type\": \"\",\n        \"description\": \"\"\n      }\n    },\n    {\n      \"column\": \"Depression\",\n      \"properties\": {\n        \"dtype\": \"number\",\n        \"std\": 0.3500285702624859,\n        \"min\": 0.11,\n        \"max\": 1.0,\n        \"num_unique_values\": 5,\n        \"samples\": [\n          0.52,\n          0.38,\n          0.2\n        ],\n        \"semantic_type\": \"\",\n        \"description\": \"\"\n      }\n    },\n    {\n      \"column\": \"Insomnia\",\n      \"properties\": {\n        \"dtype\": \"number\",\n        \"std\": 0.34230103710038623,\n        \"min\": 0.14,\n        \"max\": 1.0,\n        \"num_unique_values\": 5,\n        \"samples\": [\n          0.29,\n          1.0,\n          0.23\n        ],\n        \"semantic_type\": \"\",\n        \"description\": \"\"\n      }\n    }\n  ]\n}"
            }
          },
          "metadata": {},
          "execution_count": 82
        }
      ]
    },
    {
      "cell_type": "code",
      "source": [
        "plt.figure(figsize=(10,8))\n",
        "plot=sns.heatmap(df_numeric.corr().round(2),annot = True)"
      ],
      "metadata": {
        "colab": {
          "base_uri": "https://localhost:8080/",
          "height": 682
        },
        "id": "p4IPHjGzRJ8P",
        "outputId": "2bddfd74-46bc-4fd0-aa70-4845e1bee5fe"
      },
      "execution_count": 83,
      "outputs": [
        {
          "output_type": "display_data",
          "data": {
            "text/plain": [
              "<Figure size 1000x800 with 2 Axes>"
            ],
            "image/png": "[encoded data removed]"
          },
          "metadata": {}
        }
      ]
    },
    {
      "cell_type": "code",
      "source": [
        "import pandas as pd\n",
        "import scipy.stats as stats"
      ],
      "metadata": {
        "id": "Hk4hY6kaHKwb"
      },
      "execution_count": 84,
      "outputs": []
    },
    {
      "cell_type": "code",
      "source": [
        "correlation_coefficient, p_value = (stats.pearsonr(df['Hours_per_day'], df['Anxiety']))"
      ],
      "metadata": {
        "id": "X7BBK_Gn96sR"
      },
      "execution_count": 85,
      "outputs": []
    },
    {
      "cell_type": "code",
      "source": [
        "correlation_coefficient, p_value"
      ],
      "metadata": {
        "colab": {
          "base_uri": "https://localhost:8080/"
        },
        "id": "igr-5qmeHNgg",
        "outputId": "75857d29-1681-47ad-e7a2-5f3270afc22c"
      },
      "execution_count": 86,
      "outputs": [
        {
          "output_type": "execute_result",
          "data": {
            "text/plain": [
              "(0.048928857243938986, 0.1848580268196319)"
            ]
          },
          "metadata": {},
          "execution_count": 86
        }
      ]
    },
    {
      "cell_type": "code",
      "source": [
        "correlation_coefficient = round(correlation_coefficient, 2)\n",
        "p_value = round(p_value, 2)"
      ],
      "metadata": {
        "id": "909zEpJPHqCz"
      },
      "execution_count": 87,
      "outputs": []
    },
    {
      "cell_type": "code",
      "source": [
        "correlation_coefficient"
      ],
      "metadata": {
        "colab": {
          "base_uri": "https://localhost:8080/"
        },
        "id": "GBylgeKgHrn7",
        "outputId": "813e8278-d947-479d-8e0b-8991a131e02a"
      },
      "execution_count": 88,
      "outputs": [
        {
          "output_type": "execute_result",
          "data": {
            "text/plain": [
              "0.05"
            ]
          },
          "metadata": {},
          "execution_count": 88
        }
      ]
    },
    {
      "cell_type": "code",
      "source": [
        "p_value"
      ],
      "metadata": {
        "colab": {
          "base_uri": "https://localhost:8080/"
        },
        "id": "IPDcnFD5H0Yq",
        "outputId": "82fb28d8-7c19-4317-9bfd-dff9e36f5ad4"
      },
      "execution_count": 89,
      "outputs": [
        {
          "output_type": "execute_result",
          "data": {
            "text/plain": [
              "0.18"
            ]
          },
          "metadata": {},
          "execution_count": 89
        }
      ]
    },
    {
      "cell_type": "code",
      "source": [
        "sns.relplot(x=\"Hours_per_day\", y=\"Anxiety\",data=df);\n"
      ],
      "metadata": {
        "id": "EDSN7bZO5eSj",
        "outputId": "1d6eca2b-3b53-4859-de2c-1a13a2a535d1",
        "colab": {
          "base_uri": "https://localhost:8080/",
          "height": 507
        }
      },
      "execution_count": 276,
      "outputs": [
        {
          "output_type": "display_data",
          "data": {
            "text/plain": [
              "<Figure size 500x500 with 1 Axes>"
            ],
            "image/png": "[encoded data removed]"
          },
          "metadata": {}
        }
      ]
    },
    {
      "cell_type": "code",
      "source": [
        "import matplotlib.pyplot as plt\n",
        "\n",
        "# Significance level (alpha)\n",
        "alpha = 0.05\n",
        "\n",
        "# P-value from your analysis\n",
        "p_value = 0.18\n",
        "\n",
        "# Set up the graph\n",
        "plt.figure(figsize=(8, 6))\n",
        "\n",
        "# Heights of the bars\n",
        "bar_heights = [alpha, p_value]\n",
        "\n",
        "# X-axis positions for the bars\n",
        "x_positions = [0, 1]\n",
        "\n",
        "# X-axis labels\n",
        "x_labels = ['Significance Level', 'Observed P-value']\n",
        "\n",
        "# Colors for the bars\n",
        "colors = ['blue', 'red']\n",
        "\n",
        "# Plot the bar plot\n",
        "plt.bar(x_positions, bar_heights, color=colors, tick_label=x_labels)\n",
        "\n",
        "# Add labels and annotations\n",
        "plt.ylabel('Value')\n",
        "plt.title('Hypothesis Test Results')\n",
        "plt.text(0, alpha + 0.01, f'Significance Level (alpha) = {alpha}', ha='center')\n",
        "plt.text(1, p_value + 0.01, f'P-value = {p_value}', ha='center')\n",
        "\n",
        "# Show the graph\n",
        "plt.show()"
      ],
      "metadata": {
        "colab": {
          "base_uri": "https://localhost:8080/",
          "height": 545
        },
        "id": "AazmPFtgKSp1",
        "outputId": "da0be07f-eb8d-44f6-d15a-378ff60b67d1"
      },
      "execution_count": 248,
      "outputs": [
        {
          "output_type": "display_data",
          "data": {
            "text/plain": [
              "<Figure size 800x600 with 1 Axes>"
            ],
            "image/png": "[encoded data removed]"
          },
          "metadata": {}
        }
      ]
    },
    {
      "cell_type": "markdown",
      "source": [
        "Given the p value is greater than alpha, we fail to reject the null hypothesis. This means we don't have suffiecient evidence to conclude that listening to the music for longer hours has any impact on anxeity."
      ],
      "metadata": {
        "id": "fHq1mO3n3ubk"
      }
    },
    {
      "cell_type": "code",
      "source": [
        "correlation_coefficient, p_value = (stats.pearsonr(df['Hours_per_day'], df['OCD']))"
      ],
      "metadata": {
        "id": "C5LRryT-MBvT"
      },
      "execution_count": 91,
      "outputs": []
    },
    {
      "cell_type": "code",
      "source": [
        "correlation_coefficient = round(correlation_coefficient, 2)\n",
        "p_value = round(p_value, 2)\n",
        "p_value, correlation_coefficient"
      ],
      "metadata": {
        "colab": {
          "base_uri": "https://localhost:8080/"
        },
        "id": "cY-OTR1wMnHF",
        "outputId": "eb4e0d28-36a3-46ab-8642-f7564aa4735f"
      },
      "execution_count": 92,
      "outputs": [
        {
          "output_type": "execute_result",
          "data": {
            "text/plain": [
              "(0.0, 0.12)"
            ]
          },
          "metadata": {},
          "execution_count": 92
        }
      ]
    },
    {
      "cell_type": "code",
      "source": [
        "import matplotlib.pyplot as plt\n",
        "\n",
        "# Significance level (alpha)\n",
        "alpha = 0.05\n",
        "\n",
        "# P-value from your analysis\n",
        "p_value = 0.001\n",
        "\n",
        "# Set up the graph\n",
        "plt.figure(figsize=(8, 6))\n",
        "\n",
        "# Plot the null hypothesis (alpha) as x-values and the observed p-value as y-values\n",
        "plt.scatter([alpha], [p_value], color='red', label='Observed P-value')\n",
        "\n",
        "# Plot the significance level (alpha) as a horizontal line\n",
        "plt.axhline(y=alpha, color='blue', linestyle='--', label='Significance Level (alpha)')\n",
        "\n",
        "# Add labels and annotations\n",
        "plt.xlabel('Significance Level (alpha)')\n",
        "plt.ylabel('Observed P-value')\n",
        "plt.title('Comparison of Null Hypothesis and Observed P-value')\n",
        "plt.legend()\n",
        "\n",
        "# Show the graph\n",
        "plt.grid(True)\n",
        "plt.show()"
      ],
      "metadata": {
        "colab": {
          "base_uri": "https://localhost:8080/",
          "height": 564
        },
        "id": "8AtBrToOM0af",
        "outputId": "6453f795-9eba-4e16-c095-b596c08502f7"
      },
      "execution_count": 251,
      "outputs": [
        {
          "output_type": "display_data",
          "data": {
            "text/plain": [
              "<Figure size 800x600 with 1 Axes>"
            ],
            "image/png": "[encoded data removed]"
          },
          "metadata": {}
        }
      ]
    },
    {
      "cell_type": "markdown",
      "source": [
        "A p-value of 0.001 indicates that if the null hypothesis tested were indeed true, then there would be a one-in-1,000 chance of observing results at least as extreme. This leads the observer to reject the null hypothesis because either a highly rare data result has been observed or the null hypothesis is incorrect. Thus we conclude there is no significant evidence indicating whether there is any relationship between listening to music for long hours and OCD."
      ],
      "metadata": {
        "id": "Kohk4Tpg47Ic"
      }
    },
    {
      "cell_type": "code",
      "source": [
        "correlation_coefficient, p_value = (stats.pearsonr(df['Hours_per_day'], df['Insomnia']))\n",
        "correlation_coefficient = round(correlation_coefficient, 2)\n",
        "p_value\n",
        "p_value, correlation_coefficient"
      ],
      "metadata": {
        "colab": {
          "base_uri": "https://localhost:8080/"
        },
        "id": "UoQpuJvzNA56",
        "outputId": "c5e4e66d-d5ed-4184-c71e-9d7e96e5b72f"
      },
      "execution_count": 253,
      "outputs": [
        {
          "output_type": "execute_result",
          "data": {
            "text/plain": [
              "(9.847834304161026e-05, 0.14)"
            ]
          },
          "metadata": {},
          "execution_count": 253
        }
      ]
    },
    {
      "cell_type": "code",
      "source": [
        "import matplotlib.pyplot as plt\n",
        "\n",
        "# Significance level (alpha)\n",
        "alpha = 0.05\n",
        "\n",
        "# P-value from your analysis\n",
        "p_value = 0.0\n",
        "\n",
        "# Set up the graph\n",
        "plt.figure(figsize=(8, 6))\n",
        "\n",
        "# Plot the null hypothesis (alpha) as x-values and the observed p-value as y-values\n",
        "plt.scatter([alpha], [p_value], color='red', label='Observed P-value')\n",
        "\n",
        "# Plot the significance level (alpha) as a horizontal line\n",
        "plt.axhline(y=alpha, color='blue', linestyle='--', label='Significance Level (alpha)')\n",
        "\n",
        "# Add labels and annotations\n",
        "plt.xlabel('Significance Level (alpha)')\n",
        "plt.ylabel('Observed P-value')\n",
        "plt.title('Comparison of Null Hypothesis and Observed P-value')\n",
        "plt.legend()\n",
        "\n",
        "# Show the graph\n",
        "plt.grid(True)\n",
        "plt.show()"
      ],
      "metadata": {
        "colab": {
          "base_uri": "https://localhost:8080/",
          "height": 564
        },
        "id": "ILaZensaNyH2",
        "outputId": "5c477291-92f0-43f2-c324-2aec438f74de"
      },
      "execution_count": 254,
      "outputs": [
        {
          "output_type": "display_data",
          "data": {
            "text/plain": [
              "<Figure size 800x600 with 1 Axes>"
            ],
            "image/png": "[encoded data removed]"
          },
          "metadata": {}
        }
      ]
    },
    {
      "cell_type": "markdown",
      "source": [
        "A p-value of 0.001 indicates that if the null hypothesis tested were indeed true, then there would be a one-in-1,000 chance of observing results at least as extreme. This leads the observer to reject the null hypothesis because either a highly rare data result has been observed or the null hypothesis is incorrect. Thus we conclude there is no significant evidence indicating whether there is any relationship between listening to music for long hours and insomnia.\n",
        "\n"
      ],
      "metadata": {
        "id": "t94b4djS5Y-k"
      }
    },
    {
      "cell_type": "code",
      "source": [
        "correlation_coefficient, p_value = (stats.pearsonr(df['Hours_per_day'], df['Depression']))\n",
        "correlation_coefficient = round(correlation_coefficient, 2)\n",
        "p_value\n",
        "p_value, correlation_coefficient"
      ],
      "metadata": {
        "colab": {
          "base_uri": "https://localhost:8080/"
        },
        "id": "0zwoRDQGN1g7",
        "outputId": "fc1c1640-b0ac-4eb8-d0fb-c17bc752d887"
      },
      "execution_count": 96,
      "outputs": [
        {
          "output_type": "execute_result",
          "data": {
            "text/plain": [
              "(0.0024848554373826195, 0.11)"
            ]
          },
          "metadata": {},
          "execution_count": 96
        }
      ]
    },
    {
      "cell_type": "code",
      "source": [
        "sns.relplot(x=\"Hours_per_day\", y=\"Depression\", data=df);\n"
      ],
      "metadata": {
        "colab": {
          "base_uri": "https://localhost:8080/",
          "height": 507
        },
        "id": "Su71elYRN-ot",
        "outputId": "8f705648-d40a-482d-cb9d-622e5f416bc1"
      },
      "execution_count": 269,
      "outputs": [
        {
          "output_type": "display_data",
          "data": {
            "text/plain": [
              "<Figure size 500x500 with 1 Axes>"
            ],
            "image/png": "[encoded data removed]"
          },
          "metadata": {}
        }
      ]
    },
    {
      "cell_type": "markdown",
      "source": [
        "A p-value of 0.001 indicates that if the null hypothesis tested were indeed true, then there would be a one-in-1,000 chance of observing results at least as extreme. This leads the observer to reject the null hypothesis because either a highly rare data result has been observed or the null hypothesis is incorrect. Thus we conclude there is no significant evidence indicating whether there is any relationship between listening to music for long hours and depression."
      ],
      "metadata": {
        "id": "Y_UstAEmCXVr"
      }
    },
    {
      "cell_type": "code",
      "source": [
        "df['While_working'] = df['While_working'].astype(int)"
      ],
      "metadata": {
        "id": "IldkLVcURywk"
      },
      "execution_count": 141,
      "outputs": []
    },
    {
      "cell_type": "code",
      "source": [
        "df['Instrumentalist'] = df['Instrumentalist'].astype(int)"
      ],
      "metadata": {
        "id": "npdmdparwMkc"
      },
      "execution_count": 142,
      "outputs": []
    },
    {
      "cell_type": "code",
      "source": [
        "df['Composer'] = df['Composer'].astype(int)"
      ],
      "metadata": {
        "id": "5wTHncAkwNEG"
      },
      "execution_count": 143,
      "outputs": []
    },
    {
      "cell_type": "code",
      "source": [
        "df['Foreign_languages'] = df['Foreign_languages'].astype(int)"
      ],
      "metadata": {
        "id": "E5tjp9XHwNkg"
      },
      "execution_count": 144,
      "outputs": []
    },
    {
      "cell_type": "code",
      "source": [
        "df"
      ],
      "metadata": {
        "colab": {
          "base_uri": "https://localhost:8080/",
          "height": 635
        },
        "id": "Vyy1YCTsqurJ",
        "outputId": "dc0d37b5-58c2-4a5b-c00c-bd84b00b6e54"
      },
      "execution_count": 145,
      "outputs": [
        {
          "output_type": "execute_result",
          "data": {
            "text/plain": [
              "     Unnamed: 0  Age          Primary_streaming_service  Hours_per_day  \\\n",
              "0             0   25                        Apple Music              2   \n",
              "1             1   16            Other streaming service              4   \n",
              "2             2   22                            Spotify             10   \n",
              "3             3   26                            Spotify              6   \n",
              "4             4   18  I do not use a streaming service.              4   \n",
              "..          ...  ...                                ...            ...   \n",
              "731         731   29                      YouTube Music              2   \n",
              "732         732   17                            Spotify              4   \n",
              "733         733   17                            Spotify              3   \n",
              "734         734   13                            Spotify              1   \n",
              "735         735   24  I do not use a streaming service.              8   \n",
              "\n",
              "     While_working  Instrumentalist  Composer         Fav_genre  Exploratory  \\\n",
              "0                0                0         0               EDM        False   \n",
              "1                1                0         0               EDM         True   \n",
              "2                0                1         1               EDM        False   \n",
              "3                1                0         0               EDM        False   \n",
              "4                1                1         0               EDM        False   \n",
              "..             ...              ...       ...               ...          ...   \n",
              "731              1                0         0           Hip hop         True   \n",
              "732              0                1         0         Classical         True   \n",
              "733              1                0         0         Classical         True   \n",
              "734              1                0         0  Video game music         True   \n",
              "735              1                0         1  Video game music         True   \n",
              "\n",
              "     Foreign_languages  ... Anxiety Depression Insomnia OCD Music_effects  \\\n",
              "0                    1  ...      10          3        1   4       Improve   \n",
              "1                    1  ...       4          7        1   3       Improve   \n",
              "2                    1  ...       4          7        7   3       Improve   \n",
              "3                    1  ...      10         10        8   2     No effect   \n",
              "4                    1  ...       8          7       10   6       Improve   \n",
              "..                 ...  ...     ...        ...      ...  ..           ...   \n",
              "731                  1  ...       2          2        2   5       Improve   \n",
              "732                  1  ...       7          9        2   8        Worsen   \n",
              "733                  1  ...       6          6        8   2       Improve   \n",
              "734                  0  ...      10         10        8   4        Worsen   \n",
              "735                  0  ...       6          4        8   8       Improve   \n",
              "\n",
              "           Date      Time  Year Month Day  \n",
              "0    2022-08-28  23:26:58  2022     8  28  \n",
              "1    2022-09-13  01:55:43  2022     9  13  \n",
              "2    2022-08-28  17:15:18  2022     8  28  \n",
              "3    2022-08-30  05:16:13  2022     8  30  \n",
              "4    2022-09-02  09:25:05  2022     9   2  \n",
              "..          ...       ...   ...   ...  ..  \n",
              "731  2022-11-09  01:55:20  2022    11   9  \n",
              "732  2022-08-28  23:23:50  2022     8  28  \n",
              "733  2022-08-28  11:58:48  2022     8  28  \n",
              "734  2022-10-22  15:20:29  2022    10  22  \n",
              "735  2022-08-29  01:22:44  2022     8  29  \n",
              "\n",
              "[736 rows x 37 columns]"
            ],
            "text/html": [
              "\n",
              "  <div id=\"df-42b329fa-db71-4165-9411-0ce604aa9511\" class=\"colab-df-container\">\n",
              "    <div>\n",
              "<style scoped>\n",
              "    .dataframe tbody tr th:only-of-type {\n",
              "        vertical-align: middle;\n",
              "    }\n",
              "\n",
              "    .dataframe tbody tr th {\n",
              "        vertical-align: top;\n",
              "    }\n",
              "\n",
              "    .dataframe thead th {\n",
              "        text-align: right;\n",
              "    }\n",
              "</style>\n",
              "<table border=\"1\" class=\"dataframe\">\n",
              "  <thead>\n",
              "    <tr style=\"text-align: right;\">\n",
              "      <th></th>\n",
              "      <th>Unnamed: 0</th>\n",
              "      <th>Age</th>\n",
              "      <th>Primary_streaming_service</th>\n",
              "      <th>Hours_per_day</th>\n",
              "      <th>While_working</th>\n",
              "      <th>Instrumentalist</th>\n",
              "      <th>Composer</th>\n",
              "      <th>Fav_genre</th>\n",
              "      <th>Exploratory</th>\n",
              "      <th>Foreign_languages</th>\n",
              "      <th>...</th>\n",
              "      <th>Anxiety</th>\n",
              "      <th>Depression</th>\n",
              "      <th>Insomnia</th>\n",
              "      <th>OCD</th>\n",
              "      <th>Music_effects</th>\n",
              "      <th>Date</th>\n",
              "      <th>Time</th>\n",
              "      <th>Year</th>\n",
              "      <th>Month</th>\n",
              "      <th>Day</th>\n",
              "    </tr>\n",
              "  </thead>\n",
              "  <tbody>\n",
              "    <tr>\n",
              "      <th>0</th>\n",
              "      <td>0</td>\n",
              "      <td>25</td>\n",
              "      <td>Apple Music</td>\n",
              "      <td>2</td>\n",
              "      <td>0</td>\n",
              "      <td>0</td>\n",
              "      <td>0</td>\n",
              "      <td>EDM</td>\n",
              "      <td>False</td>\n",
              "      <td>1</td>\n",
              "      <td>...</td>\n",
              "      <td>10</td>\n",
              "      <td>3</td>\n",
              "      <td>1</td>\n",
              "      <td>4</td>\n",
              "      <td>Improve</td>\n",
              "      <td>2022-08-28</td>\n",
              "      <td>23:26:58</td>\n",
              "      <td>2022</td>\n",
              "      <td>8</td>\n",
              "      <td>28</td>\n",
              "    </tr>\n",
              "    <tr>\n",
              "      <th>1</th>\n",
              "      <td>1</td>\n",
              "      <td>16</td>\n",
              "      <td>Other streaming service</td>\n",
              "      <td>4</td>\n",
              "      <td>1</td>\n",
              "      <td>0</td>\n",
              "      <td>0</td>\n",
              "      <td>EDM</td>\n",
              "      <td>True</td>\n",
              "      <td>1</td>\n",
              "      <td>...</td>\n",
              "      <td>4</td>\n",
              "      <td>7</td>\n",
              "      <td>1</td>\n",
              "      <td>3</td>\n",
              "      <td>Improve</td>\n",
              "      <td>2022-09-13</td>\n",
              "      <td>01:55:43</td>\n",
              "      <td>2022</td>\n",
              "      <td>9</td>\n",
              "      <td>13</td>\n",
              "    </tr>\n",
              "    <tr>\n",
              "      <th>2</th>\n",
              "      <td>2</td>\n",
              "      <td>22</td>\n",
              "      <td>Spotify</td>\n",
              "      <td>10</td>\n",
              "      <td>0</td>\n",
              "      <td>1</td>\n",
              "      <td>1</td>\n",
              "      <td>EDM</td>\n",
              "      <td>False</td>\n",
              "      <td>1</td>\n",
              "      <td>...</td>\n",
              "      <td>4</td>\n",
              "      <td>7</td>\n",
              "      <td>7</td>\n",
              "      <td>3</td>\n",
              "      <td>Improve</td>\n",
              "      <td>2022-08-28</td>\n",
              "      <td>17:15:18</td>\n",
              "      <td>2022</td>\n",
              "      <td>8</td>\n",
              "      <td>28</td>\n",
              "    </tr>\n",
              "    <tr>\n",
              "      <th>3</th>\n",
              "      <td>3</td>\n",
              "      <td>26</td>\n",
              "      <td>Spotify</td>\n",
              "      <td>6</td>\n",
              "      <td>1</td>\n",
              "      <td>0</td>\n",
              "      <td>0</td>\n",
              "      <td>EDM</td>\n",
              "      <td>False</td>\n",
              "      <td>1</td>\n",
              "      <td>...</td>\n",
              "      <td>10</td>\n",
              "      <td>10</td>\n",
              "      <td>8</td>\n",
              "      <td>2</td>\n",
              "      <td>No effect</td>\n",
              "      <td>2022-08-30</td>\n",
              "      <td>05:16:13</td>\n",
              "      <td>2022</td>\n",
              "      <td>8</td>\n",
              "      <td>30</td>\n",
              "    </tr>\n",
              "    <tr>\n",
              "      <th>4</th>\n",
              "      <td>4</td>\n",
              "      <td>18</td>\n",
              "      <td>I do not use a streaming service.</td>\n",
              "      <td>4</td>\n",
              "      <td>1</td>\n",
              "      <td>1</td>\n",
              "      <td>0</td>\n",
              "      <td>EDM</td>\n",
              "      <td>False</td>\n",
              "      <td>1</td>\n",
              "      <td>...</td>\n",
              "      <td>8</td>\n",
              "      <td>7</td>\n",
              "      <td>10</td>\n",
              "      <td>6</td>\n",
              "      <td>Improve</td>\n",
              "      <td>2022-09-02</td>\n",
              "      <td>09:25:05</td>\n",
              "      <td>2022</td>\n",
              "      <td>9</td>\n",
              "      <td>2</td>\n",
              "    </tr>\n",
              "    <tr>\n",
              "      <th>...</th>\n",
              "      <td>...</td>\n",
              "      <td>...</td>\n",
              "      <td>...</td>\n",
              "      <td>...</td>\n",
              "      <td>...</td>\n",
              "      <td>...</td>\n",
              "      <td>...</td>\n",
              "      <td>...</td>\n",
              "      <td>...</td>\n",
              "      <td>...</td>\n",
              "      <td>...</td>\n",
              "      <td>...</td>\n",
              "      <td>...</td>\n",
              "      <td>...</td>\n",
              "      <td>...</td>\n",
              "      <td>...</td>\n",
              "      <td>...</td>\n",
              "      <td>...</td>\n",
              "      <td>...</td>\n",
              "      <td>...</td>\n",
              "      <td>...</td>\n",
              "    </tr>\n",
              "    <tr>\n",
              "      <th>731</th>\n",
              "      <td>731</td>\n",
              "      <td>29</td>\n",
              "      <td>YouTube Music</td>\n",
              "      <td>2</td>\n",
              "      <td>1</td>\n",
              "      <td>0</td>\n",
              "      <td>0</td>\n",
              "      <td>Hip hop</td>\n",
              "      <td>True</td>\n",
              "      <td>1</td>\n",
              "      <td>...</td>\n",
              "      <td>2</td>\n",
              "      <td>2</td>\n",
              "      <td>2</td>\n",
              "      <td>5</td>\n",
              "      <td>Improve</td>\n",
              "      <td>2022-11-09</td>\n",
              "      <td>01:55:20</td>\n",
              "      <td>2022</td>\n",
              "      <td>11</td>\n",
              "      <td>9</td>\n",
              "    </tr>\n",
              "    <tr>\n",
              "      <th>732</th>\n",
              "      <td>732</td>\n",
              "      <td>17</td>\n",
              "      <td>Spotify</td>\n",
              "      <td>4</td>\n",
              "      <td>0</td>\n",
              "      <td>1</td>\n",
              "      <td>0</td>\n",
              "      <td>Classical</td>\n",
              "      <td>True</td>\n",
              "      <td>1</td>\n",
              "      <td>...</td>\n",
              "      <td>7</td>\n",
              "      <td>9</td>\n",
              "      <td>2</td>\n",
              "      <td>8</td>\n",
              "      <td>Worsen</td>\n",
              "      <td>2022-08-28</td>\n",
              "      <td>23:23:50</td>\n",
              "      <td>2022</td>\n",
              "      <td>8</td>\n",
              "      <td>28</td>\n",
              "    </tr>\n",
              "    <tr>\n",
              "      <th>733</th>\n",
              "      <td>733</td>\n",
              "      <td>17</td>\n",
              "      <td>Spotify</td>\n",
              "      <td>3</td>\n",
              "      <td>1</td>\n",
              "      <td>0</td>\n",
              "      <td>0</td>\n",
              "      <td>Classical</td>\n",
              "      <td>True</td>\n",
              "      <td>1</td>\n",
              "      <td>...</td>\n",
              "      <td>6</td>\n",
              "      <td>6</td>\n",
              "      <td>8</td>\n",
              "      <td>2</td>\n",
              "      <td>Improve</td>\n",
              "      <td>2022-08-28</td>\n",
              "      <td>11:58:48</td>\n",
              "      <td>2022</td>\n",
              "      <td>8</td>\n",
              "      <td>28</td>\n",
              "    </tr>\n",
              "    <tr>\n",
              "      <th>734</th>\n",
              "      <td>734</td>\n",
              "      <td>13</td>\n",
              "      <td>Spotify</td>\n",
              "      <td>1</td>\n",
              "      <td>1</td>\n",
              "      <td>0</td>\n",
              "      <td>0</td>\n",
              "      <td>Video game music</td>\n",
              "      <td>True</td>\n",
              "      <td>0</td>\n",
              "      <td>...</td>\n",
              "      <td>10</td>\n",
              "      <td>10</td>\n",
              "      <td>8</td>\n",
              "      <td>4</td>\n",
              "      <td>Worsen</td>\n",
              "      <td>2022-10-22</td>\n",
              "      <td>15:20:29</td>\n",
              "      <td>2022</td>\n",
              "      <td>10</td>\n",
              "      <td>22</td>\n",
              "    </tr>\n",
              "    <tr>\n",
              "      <th>735</th>\n",
              "      <td>735</td>\n",
              "      <td>24</td>\n",
              "      <td>I do not use a streaming service.</td>\n",
              "      <td>8</td>\n",
              "      <td>1</td>\n",
              "      <td>0</td>\n",
              "      <td>1</td>\n",
              "      <td>Video game music</td>\n",
              "      <td>True</td>\n",
              "      <td>0</td>\n",
              "      <td>...</td>\n",
              "      <td>6</td>\n",
              "      <td>4</td>\n",
              "      <td>8</td>\n",
              "      <td>8</td>\n",
              "      <td>Improve</td>\n",
              "      <td>2022-08-29</td>\n",
              "      <td>01:22:44</td>\n",
              "      <td>2022</td>\n",
              "      <td>8</td>\n",
              "      <td>29</td>\n",
              "    </tr>\n",
              "  </tbody>\n",
              "</table>\n",
              "<p>736 rows × 37 columns</p>\n",
              "</div>\n",
              "    <div class=\"colab-df-buttons\">\n",
              "\n",
              "  <div class=\"colab-df-container\">\n",
              "    <button class=\"colab-df-convert\" onclick=\"convertToInteractive('df-42b329fa-db71-4165-9411-0ce604aa9511')\"\n",
              "            title=\"Convert this dataframe to an interactive table.\"\n",
              "            style=\"display:none;\">\n",
              "\n",
              "  <svg xmlns=\"http://www.w3.org/2000/svg\" height=\"24px\" viewBox=\"0 -960 960 960\">\n",
              "    <path d=\"M120-120v-720h720v720H120Zm60-500h600v-160H180v160Zm220 220h160v-160H400v160Zm0 220h160v-160H400v160ZM180-400h160v-160H180v160Zm440 0h160v-160H620v160ZM180-180h160v-160H180v160Zm440 0h160v-160H620v160Z\"/>\n",
              "  </svg>\n",
              "    </button>\n",
              "\n",
              "  <style>\n",
              "    .colab-df-container {\n",
              "      display:flex;\n",
              "      gap: 12px;\n",
              "    }\n",
              "\n",
              "    .colab-df-convert {\n",
              "      background-color: #E8F0FE;\n",
              "      border: none;\n",
              "      border-radius: 50%;\n",
              "      cursor: pointer;\n",
              "      display: none;\n",
              "      fill: #1967D2;\n",
              "      height: 32px;\n",
              "      padding: 0 0 0 0;\n",
              "      width: 32px;\n",
              "    }\n",
              "\n",
              "    .colab-df-convert:hover {\n",
              "      background-color: #E2EBFA;\n",
              "      box-shadow: 0px 1px 2px rgba(60, 64, 67, 0.3), 0px 1px 3px 1px rgba(60, 64, 67, 0.15);\n",
              "      fill: #174EA6;\n",
              "    }\n",
              "\n",
              "    .colab-df-buttons div {\n",
              "      margin-bottom: 4px;\n",
              "    }\n",
              "\n",
              "    [theme=dark] .colab-df-convert {\n",
              "      background-color: #3B4455;\n",
              "      fill: #D2E3FC;\n",
              "    }\n",
              "\n",
              "    [theme=dark] .colab-df-convert:hover {\n",
              "      background-color: #434B5C;\n",
              "      box-shadow: 0px 1px 3px 1px rgba(0, 0, 0, 0.15);\n",
              "      filter: drop-shadow(0px 1px 2px rgba(0, 0, 0, 0.3));\n",
              "      fill: #FFFFFF;\n",
              "    }\n",
              "  </style>\n",
              "\n",
              "    <script>\n",
              "      const buttonEl =\n",
              "        document.querySelector('#df-42b329fa-db71-4165-9411-0ce604aa9511 button.colab-df-convert');\n",
              "      buttonEl.style.display =\n",
              "        google.colab.kernel.accessAllowed ? 'block' : 'none';\n",
              "\n",
              "      async function convertToInteractive(key) {\n",
              "        const element = document.querySelector('#df-42b329fa-db71-4165-9411-0ce604aa9511');\n",
              "        const dataTable =\n",
              "          await google.colab.kernel.invokeFunction('convertToInteractive',\n",
              "                                                    [key], {});\n",
              "        if (!dataTable) return;\n",
              "\n",
              "        const docLinkHtml = 'Like what you see? Visit the ' +\n",
              "          '<a target=\"_blank\" href=https://colab.research.google.com/notebooks/data_table.ipynb>data table notebook</a>'\n",
              "          + ' to learn more about interactive tables.';\n",
              "        element.innerHTML = '';\n",
              "        dataTable['output_type'] = 'display_data';\n",
              "        await google.colab.output.renderOutput(dataTable, element);\n",
              "        const docLink = document.createElement('div');\n",
              "        docLink.innerHTML = docLinkHtml;\n",
              "        element.appendChild(docLink);\n",
              "      }\n",
              "    </script>\n",
              "  </div>\n",
              "\n",
              "\n",
              "<div id=\"df-7e1742e4-7684-4cba-9fd8-4a259f5b11d9\">\n",
              "  <button class=\"colab-df-quickchart\" onclick=\"quickchart('df-7e1742e4-7684-4cba-9fd8-4a259f5b11d9')\"\n",
              "            title=\"Suggest charts\"\n",
              "            style=\"display:none;\">\n",
              "\n",
              "<svg xmlns=\"http://www.w3.org/2000/svg\" height=\"24px\"viewBox=\"0 0 24 24\"\n",
              "     width=\"24px\">\n",
              "    <g>\n",
              "        <path d=\"M19 3H5c-1.1 0-2 .9-2 2v14c0 1.1.9 2 2 2h14c1.1 0 2-.9 2-2V5c0-1.1-.9-2-2-2zM9 17H7v-7h2v7zm4 0h-2V7h2v10zm4 0h-2v-4h2v4z\"/>\n",
              "    </g>\n",
              "</svg>\n",
              "  </button>\n",
              "\n",
              "<style>\n",
              "  .colab-df-quickchart {\n",
              "      --bg-color: #E8F0FE;\n",
              "      --fill-color: #1967D2;\n",
              "      --hover-bg-color: #E2EBFA;\n",
              "      --hover-fill-color: #174EA6;\n",
              "      --disabled-fill-color: #AAA;\n",
              "      --disabled-bg-color: #DDD;\n",
              "  }\n",
              "\n",
              "  [theme=dark] .colab-df-quickchart {\n",
              "      --bg-color: #3B4455;\n",
              "      --fill-color: #D2E3FC;\n",
              "      --hover-bg-color: #434B5C;\n",
              "      --hover-fill-color: #FFFFFF;\n",
              "      --disabled-bg-color: #3B4455;\n",
              "      --disabled-fill-color: #666;\n",
              "  }\n",
              "\n",
              "  .colab-df-quickchart {\n",
              "    background-color: var(--bg-color);\n",
              "    border: none;\n",
              "    border-radius: 50%;\n",
              "    cursor: pointer;\n",
              "    display: none;\n",
              "    fill: var(--fill-color);\n",
              "    height: 32px;\n",
              "    padding: 0;\n",
              "    width: 32px;\n",
              "  }\n",
              "\n",
              "  .colab-df-quickchart:hover {\n",
              "    background-color: var(--hover-bg-color);\n",
              "    box-shadow: 0 1px 2px rgba(60, 64, 67, 0.3), 0 1px 3px 1px rgba(60, 64, 67, 0.15);\n",
              "    fill: var(--button-hover-fill-color);\n",
              "  }\n",
              "\n",
              "  .colab-df-quickchart-complete:disabled,\n",
              "  .colab-df-quickchart-complete:disabled:hover {\n",
              "    background-color: var(--disabled-bg-color);\n",
              "    fill: var(--disabled-fill-color);\n",
              "    box-shadow: none;\n",
              "  }\n",
              "\n",
              "  .colab-df-spinner {\n",
              "    border: 2px solid var(--fill-color);\n",
              "    border-color: transparent;\n",
              "    border-bottom-color: var(--fill-color);\n",
              "    animation:\n",
              "      spin 1s steps(1) infinite;\n",
              "  }\n",
              "\n",
              "  @keyframes spin {\n",
              "    0% {\n",
              "      border-color: transparent;\n",
              "      border-bottom-color: var(--fill-color);\n",
              "      border-left-color: var(--fill-color);\n",
              "    }\n",
              "    20% {\n",
              "      border-color: transparent;\n",
              "      border-left-color: var(--fill-color);\n",
              "      border-top-color: var(--fill-color);\n",
              "    }\n",
              "    30% {\n",
              "      border-color: transparent;\n",
              "      border-left-color: var(--fill-color);\n",
              "      border-top-color: var(--fill-color);\n",
              "      border-right-color: var(--fill-color);\n",
              "    }\n",
              "    40% {\n",
              "      border-color: transparent;\n",
              "      border-right-color: var(--fill-color);\n",
              "      border-top-color: var(--fill-color);\n",
              "    }\n",
              "    60% {\n",
              "      border-color: transparent;\n",
              "      border-right-color: var(--fill-color);\n",
              "    }\n",
              "    80% {\n",
              "      border-color: transparent;\n",
              "      border-right-color: var(--fill-color);\n",
              "      border-bottom-color: var(--fill-color);\n",
              "    }\n",
              "    90% {\n",
              "      border-color: transparent;\n",
              "      border-bottom-color: var(--fill-color);\n",
              "    }\n",
              "  }\n",
              "</style>\n",
              "\n",
              "  <script>\n",
              "    async function quickchart(key) {\n",
              "      const quickchartButtonEl =\n",
              "        document.querySelector('#' + key + ' button');\n",
              "      quickchartButtonEl.disabled = true;  // To prevent multiple clicks.\n",
              "      quickchartButtonEl.classList.add('colab-df-spinner');\n",
              "      try {\n",
              "        const charts = await google.colab.kernel.invokeFunction(\n",
              "            'suggestCharts', [key], {});\n",
              "      } catch (error) {\n",
              "        console.error('Error during call to suggestCharts:', error);\n",
              "      }\n",
              "      quickchartButtonEl.classList.remove('colab-df-spinner');\n",
              "      quickchartButtonEl.classList.add('colab-df-quickchart-complete');\n",
              "    }\n",
              "    (() => {\n",
              "      let quickchartButtonEl =\n",
              "        document.querySelector('#df-7e1742e4-7684-4cba-9fd8-4a259f5b11d9 button');\n",
              "      quickchartButtonEl.style.display =\n",
              "        google.colab.kernel.accessAllowed ? 'block' : 'none';\n",
              "    })();\n",
              "  </script>\n",
              "</div>\n",
              "\n",
              "  <div id=\"id_48e0a72a-eb1d-42c4-97e2-50ecdd783218\">\n",
              "    <style>\n",
              "      .colab-df-generate {\n",
              "        background-color: #E8F0FE;\n",
              "        border: none;\n",
              "        border-radius: 50%;\n",
              "        cursor: pointer;\n",
              "        display: none;\n",
              "        fill: #1967D2;\n",
              "        height: 32px;\n",
              "        padding: 0 0 0 0;\n",
              "        width: 32px;\n",
              "      }\n",
              "\n",
              "      .colab-df-generate:hover {\n",
              "        background-color: #E2EBFA;\n",
              "        box-shadow: 0px 1px 2px rgba(60, 64, 67, 0.3), 0px 1px 3px 1px rgba(60, 64, 67, 0.15);\n",
              "        fill: #174EA6;\n",
              "      }\n",
              "\n",
              "      [theme=dark] .colab-df-generate {\n",
              "        background-color: #3B4455;\n",
              "        fill: #D2E3FC;\n",
              "      }\n",
              "\n",
              "      [theme=dark] .colab-df-generate:hover {\n",
              "        background-color: #434B5C;\n",
              "        box-shadow: 0px 1px 3px 1px rgba(0, 0, 0, 0.15);\n",
              "        filter: drop-shadow(0px 1px 2px rgba(0, 0, 0, 0.3));\n",
              "        fill: #FFFFFF;\n",
              "      }\n",
              "    </style>\n",
              "    <button class=\"colab-df-generate\" onclick=\"generateWithVariable('df')\"\n",
              "            title=\"Generate code using this dataframe.\"\n",
              "            style=\"display:none;\">\n",
              "\n",
              "  <svg xmlns=\"http://www.w3.org/2000/svg\" height=\"24px\"viewBox=\"0 0 24 24\"\n",
              "       width=\"24px\">\n",
              "    <path d=\"M7,19H8.4L18.45,9,17,7.55,7,17.6ZM5,21V16.75L18.45,3.32a2,2,0,0,1,2.83,0l1.4,1.43a1.91,1.91,0,0,1,.58,1.4,1.91,1.91,0,0,1-.58,1.4L9.25,21ZM18.45,9,17,7.55Zm-12,3A5.31,5.31,0,0,0,4.9,8.1,5.31,5.31,0,0,0,1,6.5,5.31,5.31,0,0,0,4.9,4.9,5.31,5.31,0,0,0,6.5,1,5.31,5.31,0,0,0,8.1,4.9,5.31,5.31,0,0,0,12,6.5,5.46,5.46,0,0,0,6.5,12Z\"/>\n",
              "  </svg>\n",
              "    </button>\n",
              "    <script>\n",
              "      (() => {\n",
              "      const buttonEl =\n",
              "        document.querySelector('#id_48e0a72a-eb1d-42c4-97e2-50ecdd783218 button.colab-df-generate');\n",
              "      buttonEl.style.display =\n",
              "        google.colab.kernel.accessAllowed ? 'block' : 'none';\n",
              "\n",
              "      buttonEl.onclick = () => {\n",
              "        google.colab.notebook.generateWithVariable('df');\n",
              "      }\n",
              "      })();\n",
              "    </script>\n",
              "  </div>\n",
              "\n",
              "    </div>\n",
              "  </div>\n"
            ],
            "application/vnd.google.colaboratory.intrinsic+json": {
              "type": "dataframe",
              "variable_name": "df"
            }
          },
          "metadata": {},
          "execution_count": 145
        }
      ]
    },
    {
      "cell_type": "code",
      "source": [],
      "metadata": {
        "id": "eBdc6lSFvXfe"
      },
      "execution_count": 102,
      "outputs": []
    },
    {
      "cell_type": "code",
      "source": [
        "correlation_coefficient, p_value = (stats.pearsonr(df['While_working'], df['Depression']))\n",
        "correlation_coefficient = round(correlation_coefficient, 2)\n",
        "p_value = round(p_value, 2)\n",
        "p_value, correlation_coefficient"
      ],
      "metadata": {
        "colab": {
          "base_uri": "https://localhost:8080/"
        },
        "id": "iNKlvwmfqTKk",
        "outputId": "78d1866a-b88d-4937-87d2-6ad58428da54"
      },
      "execution_count": 258,
      "outputs": [
        {
          "output_type": "execute_result",
          "data": {
            "text/plain": [
              "(0.12, 0.06)"
            ]
          },
          "metadata": {},
          "execution_count": 258
        }
      ]
    },
    {
      "cell_type": "code",
      "source": [
        "p_value"
      ],
      "metadata": {
        "colab": {
          "base_uri": "https://localhost:8080/"
        },
        "id": "pXnjRB9mFyMI",
        "outputId": "a14a8f79-4569-4935-9bf8-9f35af63ece1"
      },
      "execution_count": 259,
      "outputs": [
        {
          "output_type": "execute_result",
          "data": {
            "text/plain": [
              "0.12"
            ]
          },
          "metadata": {},
          "execution_count": 259
        }
      ]
    },
    {
      "cell_type": "code",
      "source": [
        "import seaborn as sns"
      ],
      "metadata": {
        "id": "F1qCB1ymA05u"
      },
      "execution_count": 279,
      "outputs": []
    },
    {
      "cell_type": "code",
      "source": [
        "sns.boxplot(x=df[\"While_working\"], y=df[\"Depression\"])\n",
        "plt.xlabel(\"While Working\")\n",
        "plt.ylabel(\"Depression\")\n",
        "plt.title(\"Box Plot of Depression by While Working\")\n",
        "plt.show()"
      ],
      "metadata": {
        "id": "ZrheoJZV3Fnu",
        "outputId": "486d51da-9fa4-432b-876c-8bd4f2c346ad",
        "colab": {
          "base_uri": "https://localhost:8080/",
          "height": 472
        }
      },
      "execution_count": 286,
      "outputs": [
        {
          "output_type": "display_data",
          "data": {
            "text/plain": [
              "<Figure size 640x480 with 1 Axes>"
            ],
            "image/png": "[encoded data removed]"
          },
          "metadata": {}
        }
      ]
    },
    {
      "cell_type": "code",
      "source": [
        "from scipy.stats import pearsonr"
      ],
      "metadata": {
        "id": "eBrnqq_MC5ka"
      },
      "execution_count": 288,
      "outputs": []
    },
    {
      "cell_type": "code",
      "source": [
        "correlation_coefficient, p_value = pearsonr(df['While_working'], df['Depression'])\n",
        "correlation_coefficient = round(correlation_coefficient, 2)\n",
        "p_value = round(p_value, 2)\n",
        "print(\"Correlation Coefficient:\", correlation_coefficient)\n",
        "print(\"P-value:\", p_value)"
      ],
      "metadata": {
        "id": "N6_Z0V5aC2ic",
        "outputId": "6ba1032b-f008-4c49-ef13-a79214c5e109",
        "colab": {
          "base_uri": "https://localhost:8080/"
        }
      },
      "execution_count": 289,
      "outputs": [
        {
          "output_type": "stream",
          "name": "stdout",
          "text": [
            "Correlation Coefficient: 0.06\n",
            "P-value: 0.12\n"
          ]
        }
      ]
    },
    {
      "cell_type": "markdown",
      "source": [
        "Given the p-value of 0.12, we do not have sufficient evidence to conclude that there is a statistically significant relationship between music listening at work and epression at the 0.05 significance level. The results suggest that the observed data could plausibly occur under the null hypothesis, and thus, we fail to reject it."
      ],
      "metadata": {
        "id": "JO6Xqvn5GVPK"
      }
    },
    {
      "cell_type": "code",
      "source": [
        "correlation_coefficient, p_value = (stats.pearsonr(df['While_working'], df['Anxiety']))\n",
        "correlation_coefficient = round(correlation_coefficient, 2)\n",
        "p_value = round(p_value, 2)\n",
        "p_value, correlation_coefficient"
      ],
      "metadata": {
        "colab": {
          "base_uri": "https://localhost:8080/"
        },
        "id": "lh2JrCo5yO0q",
        "outputId": "330f34aa-68d9-43ba-f1a3-8db717d2e0ab"
      },
      "execution_count": 148,
      "outputs": [
        {
          "output_type": "execute_result",
          "data": {
            "text/plain": [
              "(0.29, 0.04)"
            ]
          },
          "metadata": {},
          "execution_count": 148
        }
      ]
    },
    {
      "cell_type": "markdown",
      "source": [
        "Given the p-value of 0.29, we do not have sufficient evidence to conclude that there is a statistically significant relationship between music listening at work and anxiety at the 0.05 significance level. The results suggest that the observed data could plausibly occur under the null hypothesis, and thus, we fail to reject it."
      ],
      "metadata": {
        "id": "OCbw7tnjGrrg"
      }
    },
    {
      "cell_type": "code",
      "source": [
        "correlation_coefficient, p_value = (stats.pearsonr(df['While_working'], df['OCD']))\n",
        "correlation_coefficient = round(correlation_coefficient, 2)\n",
        "p_value = round(p_value, 2)\n",
        "p_value, correlation_coefficient"
      ],
      "metadata": {
        "colab": {
          "base_uri": "https://localhost:8080/"
        },
        "id": "1Fki5WlEydoR",
        "outputId": "4ad60030-55d8-48ec-beb0-148f3aff82ab"
      },
      "execution_count": 149,
      "outputs": [
        {
          "output_type": "execute_result",
          "data": {
            "text/plain": [
              "(0.02, 0.08)"
            ]
          },
          "metadata": {},
          "execution_count": 149
        }
      ]
    },
    {
      "cell_type": "markdown",
      "source": [
        "Given the p-value of 0.02, we have sufficient evidence to conclude that there is a statistically significant relationship between listening to music while working and OCD levels at the 0.05 significance level. The results suggest that the observed data are unlikely to have occurred under the null hypothesis, leading to its rejection. This means that listening to music while working is likely to have an effect on OCD levels based on our analysis."
      ],
      "metadata": {
        "id": "tkjMlraMIDm6"
      }
    },
    {
      "cell_type": "code",
      "source": [
        "sns.lmplot(x=\"While_working\", y=\"OCD\", data=df);"
      ],
      "metadata": {
        "id": "7M-ca8fL4VM5",
        "outputId": "cd1d7359-dfd7-4481-ea00-90f87163898c",
        "colab": {
          "base_uri": "https://localhost:8080/",
          "height": 507
        }
      },
      "execution_count": 264,
      "outputs": [
        {
          "output_type": "display_data",
          "data": {
            "text/plain": [
              "<Figure size 500x500 with 1 Axes>"
            ],
            "image/png": "[encoded data removed]"
          },
          "metadata": {}
        }
      ]
    },
    {
      "cell_type": "code",
      "source": [
        "correlation_coefficient, p_value = (stats.pearsonr(df['While_working'], df['Insomnia']))\n",
        "correlation_coefficient = round(correlation_coefficient, 2)\n",
        "p_value = round(p_value, 2)\n",
        "p_value, correlation_coefficient"
      ],
      "metadata": {
        "colab": {
          "base_uri": "https://localhost:8080/"
        },
        "id": "L5PyAtapyhT1",
        "outputId": "5272e878-8c3c-496a-8079-f906bcd6a254"
      },
      "execution_count": 150,
      "outputs": [
        {
          "output_type": "execute_result",
          "data": {
            "text/plain": [
              "(0.31, 0.04)"
            ]
          },
          "metadata": {},
          "execution_count": 150
        }
      ]
    },
    {
      "cell_type": "code",
      "source": [
        "sns.lmplot(x=\"While_working\", y=\"Insomnia\", data=df);"
      ],
      "metadata": {
        "id": "cP0eAGn94eP6",
        "outputId": "d9bb74e8-2527-4356-d6ba-a4fcbaff40eb",
        "colab": {
          "base_uri": "https://localhost:8080/",
          "height": 507
        }
      },
      "execution_count": 265,
      "outputs": [
        {
          "output_type": "display_data",
          "data": {
            "text/plain": [
              "<Figure size 500x500 with 1 Axes>"
            ],
            "image/png": "[encoded data removed]"
          },
          "metadata": {}
        }
      ]
    },
    {
      "cell_type": "markdown",
      "source": [
        "Given the p-value of 0.31, we do not have sufficient evidence to conclude that there is a statistically significant relationship between listening to music while working and insomnia levels at the 0.05 significance level. Thus we fail to reject the null hypothesis."
      ],
      "metadata": {
        "id": "I-JzbMTNJDDF"
      }
    },
    {
      "cell_type": "code",
      "source": [
        "correlation_coefficient, p_value = (stats.pearsonr(df['Instrumentalist'], df['Anxiety']))\n",
        "correlation_coefficient = round(correlation_coefficient, 2)\n",
        "p_value = round(p_value, 2)\n",
        "p_value, correlation_coefficient"
      ],
      "metadata": {
        "colab": {
          "base_uri": "https://localhost:8080/"
        },
        "id": "jF7ea2PaxTkq",
        "outputId": "cc69937e-ae4e-4810-c52c-55ccbe360c1f"
      },
      "execution_count": 151,
      "outputs": [
        {
          "output_type": "execute_result",
          "data": {
            "text/plain": [
              "(0.48, 0.03)"
            ]
          },
          "metadata": {},
          "execution_count": 151
        }
      ]
    },
    {
      "cell_type": "markdown",
      "source": [
        "Given the p-value of 0.48, we do not have sufficient evidence to conclude that there is a statistically significant relationship between being an instrumentalist and experiencing anxiety at the 0.05 significance level. The results suggest that the observed data could easily have occurred under the null hypothesis, leading to its failure to be rejected. This means that being an instrumentalist is likely not related to changes in anxiety levels based on our analysis."
      ],
      "metadata": {
        "id": "H8_Nrjw3JnC0"
      }
    },
    {
      "cell_type": "code",
      "source": [
        "correlation_coefficient, p_value = (stats.pearsonr(df['Instrumentalist'], df['Depression']))\n",
        "correlation_coefficient = round(correlation_coefficient, 2)\n",
        "p_value = round(p_value, 2)\n",
        "p_value, correlation_coefficient"
      ],
      "metadata": {
        "colab": {
          "base_uri": "https://localhost:8080/"
        },
        "id": "9LjGH-YHyqJH",
        "outputId": "c6e8115d-db53-4048-8a1a-d6dbf44d20b9"
      },
      "execution_count": 152,
      "outputs": [
        {
          "output_type": "execute_result",
          "data": {
            "text/plain": [
              "(0.88, 0.01)"
            ]
          },
          "metadata": {},
          "execution_count": 152
        }
      ]
    },
    {
      "cell_type": "markdown",
      "source": [
        "Given the p-value of 0.88, we do not have sufficient evidence to conclude that there is a statistically significant relationship between being an instrumentalist and experiencing depression at the 0.05 significance level. The results suggest that the observed data could easily have occurred under the null hypothesis, leading to its failure to be rejected. This means that being an instrumentalist is likely not related to changes in depression levels based on our analysis."
      ],
      "metadata": {
        "id": "ZiZCHUsRJ6vp"
      }
    },
    {
      "cell_type": "code",
      "source": [
        "correlation_coefficient, p_value = (stats.pearsonr(df['Instrumentalist'], df['OCD']))\n",
        "correlation_coefficient = round(correlation_coefficient, 2)\n",
        "p_value = round(p_value, 2)\n",
        "p_value, correlation_coefficient"
      ],
      "metadata": {
        "colab": {
          "base_uri": "https://localhost:8080/"
        },
        "id": "GVGKAi40y5Oo",
        "outputId": "0e4d7632-2491-4110-f91f-aa1e3bc8c97e"
      },
      "execution_count": 153,
      "outputs": [
        {
          "output_type": "execute_result",
          "data": {
            "text/plain": [
              "(0.72, 0.01)"
            ]
          },
          "metadata": {},
          "execution_count": 153
        }
      ]
    },
    {
      "cell_type": "markdown",
      "source": [
        "Given the p-value of 0.72, we do not have sufficient evidence to conclude that there is a statistically significant relationship between being an instrumentalist and experiencing OCD at the 0.05 significance level. The results suggest that the observed data could easily have occurred under the null hypothesis, leading to its failure to be rejected. This means that being an instrumentalist is likely not related to changes in OCD levels based on our analysis."
      ],
      "metadata": {
        "id": "X4KrUrNoKsuA"
      }
    },
    {
      "cell_type": "code",
      "source": [
        "correlation_coefficient, p_value = (stats.pearsonr(df['Instrumentalist'], df['Insomnia']))\n",
        "correlation_coefficient = round(correlation_coefficient, 2)\n",
        "p_value = round(p_value, 2)\n",
        "p_value, correlation_coefficient"
      ],
      "metadata": {
        "colab": {
          "base_uri": "https://localhost:8080/"
        },
        "id": "jzMkOHsGy899",
        "outputId": "2e165f43-2165-4e6d-fcc8-b63d5011681d"
      },
      "execution_count": 154,
      "outputs": [
        {
          "output_type": "execute_result",
          "data": {
            "text/plain": [
              "(0.43, 0.03)"
            ]
          },
          "metadata": {},
          "execution_count": 154
        }
      ]
    },
    {
      "cell_type": "markdown",
      "source": [
        "Given the p-value of 0.43, we do not have sufficient evidence to conclude that there is a statistically significant relationship between being an instrumentalist and experiencing insomnia at the 0.05 significance level. The results suggest that the observed data could easily have occurred under the null hypothesis, leading to its failure to be rejected. This means that being an instrumentalist is likely not related to changes in insomnia levels based on our analysis."
      ],
      "metadata": {
        "id": "XEn8any6Kzsy"
      }
    },
    {
      "cell_type": "code",
      "source": [
        "correlation_coefficient, p_value = (stats.pearsonr(df['Composer'], df['Anxiety']))\n",
        "correlation_coefficient = round(correlation_coefficient, 2)\n",
        "p_value = round(p_value, 2)\n",
        "p_value, correlation_coefficient"
      ],
      "metadata": {
        "colab": {
          "base_uri": "https://localhost:8080/"
        },
        "id": "vXf3yeJZxoGK",
        "outputId": "c5c5ad06-77c3-4dcb-f2ad-02b72bce8064"
      },
      "execution_count": 155,
      "outputs": [
        {
          "output_type": "execute_result",
          "data": {
            "text/plain": [
              "(0.98, 0.0)"
            ]
          },
          "metadata": {},
          "execution_count": 155
        }
      ]
    },
    {
      "cell_type": "markdown",
      "source": [
        "Given the p-value of 0.98, we do not have sufficient evidence to conclude that there is a statistically significant relationship between being a composer and anxiety levels at the 0.05 significance level. The results suggest that the observed data could easily have occurred under the null hypothesis, leading to its failure to be rejected. This means that being a composer is likely not related to changes in anxiety levels based on our analysis."
      ],
      "metadata": {
        "id": "XeX2dcozMJXZ"
      }
    },
    {
      "cell_type": "code",
      "source": [
        "correlation_coefficient, p_value = (stats.pearsonr(df['Composer'], df['Depression']))\n",
        "correlation_coefficient = round(correlation_coefficient, 2)\n",
        "p_value = round(p_value, 2)\n",
        "p_value, correlation_coefficient"
      ],
      "metadata": {
        "colab": {
          "base_uri": "https://localhost:8080/"
        },
        "id": "iTtKacWLzAfh",
        "outputId": "6d4f7619-26c3-4cbd-be94-30bd372cc5c2"
      },
      "execution_count": 156,
      "outputs": [
        {
          "output_type": "execute_result",
          "data": {
            "text/plain": [
              "(0.17, 0.05)"
            ]
          },
          "metadata": {},
          "execution_count": 156
        }
      ]
    },
    {
      "cell_type": "markdown",
      "source": [
        "Given the p-value of 0.17, we do not have sufficient evidence to conclude that there is a statistically significant relationship between being a composer and depression levels at the 0.05 significance level. The results suggest that the observed data could easily have occurred under the null hypothesis, leading to its failure to be rejected. This means that being a composer is likely not related to changes in depression levels based on our analysis."
      ],
      "metadata": {
        "id": "FDHyPXg0Mk_i"
      }
    },
    {
      "cell_type": "code",
      "source": [
        "correlation_coefficient, p_value = (stats.pearsonr(df['Composer'], df['OCD']))\n",
        "correlation_coefficient = round(correlation_coefficient, 2)\n",
        "p_value = round(p_value, 2)\n",
        "p_value, correlation_coefficient"
      ],
      "metadata": {
        "colab": {
          "base_uri": "https://localhost:8080/"
        },
        "id": "FfqmPGfIzhVR",
        "outputId": "06bc11f0-715d-4442-e9b3-e0575151f9cf"
      },
      "execution_count": 157,
      "outputs": [
        {
          "output_type": "execute_result",
          "data": {
            "text/plain": [
              "(0.67, 0.02)"
            ]
          },
          "metadata": {},
          "execution_count": 157
        }
      ]
    },
    {
      "cell_type": "markdown",
      "source": [
        "Given the p-value of 0.67, we do not have sufficient evidence to conclude that there is a statistically significant relationship between being a composer and OCD levels at the 0.05 significance level. The results suggest that the observed data could easily have occurred under the null hypothesis, leading to its failure to be rejected. This means that being a composer is likely not related to changes in OCD levels based on our analysis."
      ],
      "metadata": {
        "id": "fGcB_NZLMufb"
      }
    },
    {
      "cell_type": "code",
      "source": [
        "correlation_coefficient, p_value = (stats.pearsonr(df['Composer'], df['Insomnia']))\n",
        "correlation_coefficient = round(correlation_coefficient, 2)\n",
        "p_value = round(p_value, 2)\n",
        "p_value, correlation_coefficient"
      ],
      "metadata": {
        "colab": {
          "base_uri": "https://localhost:8080/"
        },
        "id": "PxWeJmumzk63",
        "outputId": "35854ccd-557f-4bde-f239-bd5ea7948429"
      },
      "execution_count": 158,
      "outputs": [
        {
          "output_type": "execute_result",
          "data": {
            "text/plain": [
              "(0.01, 0.09)"
            ]
          },
          "metadata": {},
          "execution_count": 158
        }
      ]
    },
    {
      "cell_type": "markdown",
      "source": [
        "Given the p-value of 0.01, we have sufficient evidence to conclude that there is a statistically significant relationship between being a composer and experiencing insomnia at the 0.05 significance level. The results suggest that the observed data are unlikely to have occurred under the null hypothesis, leading to its rejection. This means that being a composer is likely related to experiencing insomnia based on our analysis."
      ],
      "metadata": {
        "id": "_ErQu4vsMy_l"
      }
    },
    {
      "cell_type": "code",
      "source": [
        "correlation_coefficient, p_value = (stats.pearsonr(df['Foreign_languages'], df['Anxiety']))\n",
        "correlation_coefficient = round(correlation_coefficient, 2)\n",
        "p_value = round(p_value, 2)\n",
        "p_value, correlation_coefficient\n",
        "\n",
        "\n"
      ],
      "metadata": {
        "colab": {
          "base_uri": "https://localhost:8080/"
        },
        "id": "bfIi3ovVxy_k",
        "outputId": "4016f34b-80c8-41f8-8574-bd4e59c5a231"
      },
      "execution_count": 159,
      "outputs": [
        {
          "output_type": "execute_result",
          "data": {
            "text/plain": [
              "(0.03, 0.08)"
            ]
          },
          "metadata": {},
          "execution_count": 159
        }
      ]
    },
    {
      "cell_type": "markdown",
      "source": [
        "Given the p-value of 0.03, we do have sufficient evidence to conclude that there is a statistically significant relationship between listening in a foreign language and anxiety levels at the 0.05 significance level. The results indicate that the observed data are unlikely to have occurred under the null hypothesis, leading to the rejection of the null hypothesis. This suggests that there is a meaningful association between listening in a foreign language and anxiety levels in our dataset."
      ],
      "metadata": {
        "id": "YAD3SohoTOA7"
      }
    },
    {
      "cell_type": "code",
      "source": [
        "correlation_coefficient, p_value = (stats.pearsonr(df['Foreign_languages'], df['Depression']))\n",
        "correlation_coefficient = round(correlation_coefficient, 2)\n",
        "p_value = round(p_value, 2)\n",
        "p_value, correlation_coefficient"
      ],
      "metadata": {
        "colab": {
          "base_uri": "https://localhost:8080/"
        },
        "id": "yA-BL8AyzrqG",
        "outputId": "2747ce7c-c043-4a8a-d321-5168e94200ff"
      },
      "execution_count": 117,
      "outputs": [
        {
          "output_type": "execute_result",
          "data": {
            "text/plain": [
              "(0.02, 0.09)"
            ]
          },
          "metadata": {},
          "execution_count": 117
        }
      ]
    },
    {
      "cell_type": "markdown",
      "source": [
        "Given the p-value of 0.02, we do have sufficient evidence to conclude that there is a statistically significant relationship between listening in a foreign language and depression levels at the 0.05 significance level. The results indicate that the observed data are unlikely to have occurred under the null hypothesis, leading to the rejection of the null hypothesis. This suggests that there is a meaningful association between listening in a foreign language and depression levels in our dataset."
      ],
      "metadata": {
        "id": "QN3gAgM3TRjJ"
      }
    },
    {
      "cell_type": "code",
      "source": [
        "correlation_coefficient, p_value = (stats.pearsonr(df['Foreign_languages'], df['OCD']))\n",
        "correlation_coefficient = round(correlation_coefficient, 2)\n",
        "p_value = round(p_value, 2)\n",
        "p_value, correlation_coefficient"
      ],
      "metadata": {
        "colab": {
          "base_uri": "https://localhost:8080/"
        },
        "id": "-oL4IW5Yzvv0",
        "outputId": "3f860b4c-36f6-42e2-f57d-db6b122c4aeb"
      },
      "execution_count": 118,
      "outputs": [
        {
          "output_type": "execute_result",
          "data": {
            "text/plain": [
              "(0.56, -0.02)"
            ]
          },
          "metadata": {},
          "execution_count": 118
        }
      ]
    },
    {
      "cell_type": "markdown",
      "source": [
        "Given the p-value of 0.56, we do not have sufficient evidence to conclude that there is a statistically significant relationship between listening in a foreign language and OCD levels at the 0.05 significance level. The results suggest that the observed data could easily have occurred under the null hypothesis, leading to its failure to be rejected. This means that listening to music in a foreign language is likely not related to changes in OCD levels based on our analysis."
      ],
      "metadata": {
        "id": "M6-NOGcSTajT"
      }
    },
    {
      "cell_type": "code",
      "source": [
        "correlation_coefficient, p_value = (stats.pearsonr(df['Foreign_languages'], df['Insomnia']))\n",
        "correlation_coefficient = round(correlation_coefficient, 2)\n",
        "p_value = round(p_value, 2)\n",
        "p_value, correlation_coefficient"
      ],
      "metadata": {
        "colab": {
          "base_uri": "https://localhost:8080/"
        },
        "id": "MX3-uceyzxwi",
        "outputId": "ed3844be-1f4a-400f-c9b8-1d864ab554ca"
      },
      "execution_count": 119,
      "outputs": [
        {
          "output_type": "execute_result",
          "data": {
            "text/plain": [
              "(0.34, 0.04)"
            ]
          },
          "metadata": {},
          "execution_count": 119
        }
      ]
    },
    {
      "cell_type": "markdown",
      "source": [
        "Given the p-value of 0.34, we do not have sufficient evidence to conclude that there is a statistically significant relationship between listening in a foreign language and insomnia levels at the 0.05 significance level. The results suggest that the observed data could easily have occurred under the null hypothesis, leading to its failure to be rejected. This means that listening to music in a foreign language is likely not related to changes in insomnia levels based on our analysis."
      ],
      "metadata": {
        "id": "rGkGjT8qUCGk"
      }
    },
    {
      "cell_type": "code",
      "source": [
        "df.shape"
      ],
      "metadata": {
        "colab": {
          "base_uri": "https://localhost:8080/"
        },
        "id": "f9l_OKK3DzES",
        "outputId": "333fedd1-ea16-4f8e-9342-ca9e124b3155"
      },
      "execution_count": 129,
      "outputs": [
        {
          "output_type": "execute_result",
          "data": {
            "text/plain": [
              "(736, 37)"
            ]
          },
          "metadata": {},
          "execution_count": 129
        }
      ]
    },
    {
      "cell_type": "code",
      "source": [
        "df.head()"
      ],
      "metadata": {
        "id": "fpEpEgRHGdJ3",
        "outputId": "e3f9f4d9-7f79-4cc7-ef17-1a72ee499564",
        "colab": {
          "base_uri": "https://localhost:8080/",
          "height": 360
        }
      },
      "execution_count": 160,
      "outputs": [
        {
          "output_type": "execute_result",
          "data": {
            "text/plain": [
              "   Unnamed: 0  Age          Primary_streaming_service  Hours_per_day  \\\n",
              "0           0   25                        Apple Music              2   \n",
              "1           1   16            Other streaming service              4   \n",
              "2           2   22                            Spotify             10   \n",
              "3           3   26                            Spotify              6   \n",
              "4           4   18  I do not use a streaming service.              4   \n",
              "\n",
              "   While_working  Instrumentalist  Composer Fav_genre  Exploratory  \\\n",
              "0              0                0         0       EDM        False   \n",
              "1              1                0         0       EDM         True   \n",
              "2              0                1         1       EDM        False   \n",
              "3              1                0         0       EDM        False   \n",
              "4              1                1         0       EDM        False   \n",
              "\n",
              "   Foreign_languages  ... Anxiety Depression Insomnia OCD Music_effects  \\\n",
              "0                  1  ...      10          3        1   4       Improve   \n",
              "1                  1  ...       4          7        1   3       Improve   \n",
              "2                  1  ...       4          7        7   3       Improve   \n",
              "3                  1  ...      10         10        8   2     No effect   \n",
              "4                  1  ...       8          7       10   6       Improve   \n",
              "\n",
              "         Date      Time  Year Month Day  \n",
              "0  2022-08-28  23:26:58  2022     8  28  \n",
              "1  2022-09-13  01:55:43  2022     9  13  \n",
              "2  2022-08-28  17:15:18  2022     8  28  \n",
              "3  2022-08-30  05:16:13  2022     8  30  \n",
              "4  2022-09-02  09:25:05  2022     9   2  \n",
              "\n",
              "[5 rows x 37 columns]"
            ],
            "text/html": [
              "\n",
              "  <div id=\"df-09b0878b-e014-4b7b-8859-e711182b64f9\" class=\"colab-df-container\">\n",
              "    <div>\n",
              "<style scoped>\n",
              "    .dataframe tbody tr th:only-of-type {\n",
              "        vertical-align: middle;\n",
              "    }\n",
              "\n",
              "    .dataframe tbody tr th {\n",
              "        vertical-align: top;\n",
              "    }\n",
              "\n",
              "    .dataframe thead th {\n",
              "        text-align: right;\n",
              "    }\n",
              "</style>\n",
              "<table border=\"1\" class=\"dataframe\">\n",
              "  <thead>\n",
              "    <tr style=\"text-align: right;\">\n",
              "      <th></th>\n",
              "      <th>Unnamed: 0</th>\n",
              "      <th>Age</th>\n",
              "      <th>Primary_streaming_service</th>\n",
              "      <th>Hours_per_day</th>\n",
              "      <th>While_working</th>\n",
              "      <th>Instrumentalist</th>\n",
              "      <th>Composer</th>\n",
              "      <th>Fav_genre</th>\n",
              "      <th>Exploratory</th>\n",
              "      <th>Foreign_languages</th>\n",
              "      <th>...</th>\n",
              "      <th>Anxiety</th>\n",
              "      <th>Depression</th>\n",
              "      <th>Insomnia</th>\n",
              "      <th>OCD</th>\n",
              "      <th>Music_effects</th>\n",
              "      <th>Date</th>\n",
              "      <th>Time</th>\n",
              "      <th>Year</th>\n",
              "      <th>Month</th>\n",
              "      <th>Day</th>\n",
              "    </tr>\n",
              "  </thead>\n",
              "  <tbody>\n",
              "    <tr>\n",
              "      <th>0</th>\n",
              "      <td>0</td>\n",
              "      <td>25</td>\n",
              "      <td>Apple Music</td>\n",
              "      <td>2</td>\n",
              "      <td>0</td>\n",
              "      <td>0</td>\n",
              "      <td>0</td>\n",
              "      <td>EDM</td>\n",
              "      <td>False</td>\n",
              "      <td>1</td>\n",
              "      <td>...</td>\n",
              "      <td>10</td>\n",
              "      <td>3</td>\n",
              "      <td>1</td>\n",
              "      <td>4</td>\n",
              "      <td>Improve</td>\n",
              "      <td>2022-08-28</td>\n",
              "      <td>23:26:58</td>\n",
              "      <td>2022</td>\n",
              "      <td>8</td>\n",
              "      <td>28</td>\n",
              "    </tr>\n",
              "    <tr>\n",
              "      <th>1</th>\n",
              "      <td>1</td>\n",
              "      <td>16</td>\n",
              "      <td>Other streaming service</td>\n",
              "      <td>4</td>\n",
              "      <td>1</td>\n",
              "      <td>0</td>\n",
              "      <td>0</td>\n",
              "      <td>EDM</td>\n",
              "      <td>True</td>\n",
              "      <td>1</td>\n",
              "      <td>...</td>\n",
              "      <td>4</td>\n",
              "      <td>7</td>\n",
              "      <td>1</td>\n",
              "      <td>3</td>\n",
              "      <td>Improve</td>\n",
              "      <td>2022-09-13</td>\n",
              "      <td>01:55:43</td>\n",
              "      <td>2022</td>\n",
              "      <td>9</td>\n",
              "      <td>13</td>\n",
              "    </tr>\n",
              "    <tr>\n",
              "      <th>2</th>\n",
              "      <td>2</td>\n",
              "      <td>22</td>\n",
              "      <td>Spotify</td>\n",
              "      <td>10</td>\n",
              "      <td>0</td>\n",
              "      <td>1</td>\n",
              "      <td>1</td>\n",
              "      <td>EDM</td>\n",
              "      <td>False</td>\n",
              "      <td>1</td>\n",
              "      <td>...</td>\n",
              "      <td>4</td>\n",
              "      <td>7</td>\n",
              "      <td>7</td>\n",
              "      <td>3</td>\n",
              "      <td>Improve</td>\n",
              "      <td>2022-08-28</td>\n",
              "      <td>17:15:18</td>\n",
              "      <td>2022</td>\n",
              "      <td>8</td>\n",
              "      <td>28</td>\n",
              "    </tr>\n",
              "    <tr>\n",
              "      <th>3</th>\n",
              "      <td>3</td>\n",
              "      <td>26</td>\n",
              "      <td>Spotify</td>\n",
              "      <td>6</td>\n",
              "      <td>1</td>\n",
              "      <td>0</td>\n",
              "      <td>0</td>\n",
              "      <td>EDM</td>\n",
              "      <td>False</td>\n",
              "      <td>1</td>\n",
              "      <td>...</td>\n",
              "      <td>10</td>\n",
              "      <td>10</td>\n",
              "      <td>8</td>\n",
              "      <td>2</td>\n",
              "      <td>No effect</td>\n",
              "      <td>2022-08-30</td>\n",
              "      <td>05:16:13</td>\n",
              "      <td>2022</td>\n",
              "      <td>8</td>\n",
              "      <td>30</td>\n",
              "    </tr>\n",
              "    <tr>\n",
              "      <th>4</th>\n",
              "      <td>4</td>\n",
              "      <td>18</td>\n",
              "      <td>I do not use a streaming service.</td>\n",
              "      <td>4</td>\n",
              "      <td>1</td>\n",
              "      <td>1</td>\n",
              "      <td>0</td>\n",
              "      <td>EDM</td>\n",
              "      <td>False</td>\n",
              "      <td>1</td>\n",
              "      <td>...</td>\n",
              "      <td>8</td>\n",
              "      <td>7</td>\n",
              "      <td>10</td>\n",
              "      <td>6</td>\n",
              "      <td>Improve</td>\n",
              "      <td>2022-09-02</td>\n",
              "      <td>09:25:05</td>\n",
              "      <td>2022</td>\n",
              "      <td>9</td>\n",
              "      <td>2</td>\n",
              "    </tr>\n",
              "  </tbody>\n",
              "</table>\n",
              "<p>5 rows × 37 columns</p>\n",
              "</div>\n",
              "    <div class=\"colab-df-buttons\">\n",
              "\n",
              "  <div class=\"colab-df-container\">\n",
              "    <button class=\"colab-df-convert\" onclick=\"convertToInteractive('df-09b0878b-e014-4b7b-8859-e711182b64f9')\"\n",
              "            title=\"Convert this dataframe to an interactive table.\"\n",
              "            style=\"display:none;\">\n",
              "\n",
              "  <svg xmlns=\"http://www.w3.org/2000/svg\" height=\"24px\" viewBox=\"0 -960 960 960\">\n",
              "    <path d=\"M120-120v-720h720v720H120Zm60-500h600v-160H180v160Zm220 220h160v-160H400v160Zm0 220h160v-160H400v160ZM180-400h160v-160H180v160Zm440 0h160v-160H620v160ZM180-180h160v-160H180v160Zm440 0h160v-160H620v160Z\"/>\n",
              "  </svg>\n",
              "    </button>\n",
              "\n",
              "  <style>\n",
              "    .colab-df-container {\n",
              "      display:flex;\n",
              "      gap: 12px;\n",
              "    }\n",
              "\n",
              "    .colab-df-convert {\n",
              "      background-color: #E8F0FE;\n",
              "      border: none;\n",
              "      border-radius: 50%;\n",
              "      cursor: pointer;\n",
              "      display: none;\n",
              "      fill: #1967D2;\n",
              "      height: 32px;\n",
              "      padding: 0 0 0 0;\n",
              "      width: 32px;\n",
              "    }\n",
              "\n",
              "    .colab-df-convert:hover {\n",
              "      background-color: #E2EBFA;\n",
              "      box-shadow: 0px 1px 2px rgba(60, 64, 67, 0.3), 0px 1px 3px 1px rgba(60, 64, 67, 0.15);\n",
              "      fill: #174EA6;\n",
              "    }\n",
              "\n",
              "    .colab-df-buttons div {\n",
              "      margin-bottom: 4px;\n",
              "    }\n",
              "\n",
              "    [theme=dark] .colab-df-convert {\n",
              "      background-color: #3B4455;\n",
              "      fill: #D2E3FC;\n",
              "    }\n",
              "\n",
              "    [theme=dark] .colab-df-convert:hover {\n",
              "      background-color: #434B5C;\n",
              "      box-shadow: 0px 1px 3px 1px rgba(0, 0, 0, 0.15);\n",
              "      filter: drop-shadow(0px 1px 2px rgba(0, 0, 0, 0.3));\n",
              "      fill: #FFFFFF;\n",
              "    }\n",
              "  </style>\n",
              "\n",
              "    <script>\n",
              "      const buttonEl =\n",
              "        document.querySelector('#df-09b0878b-e014-4b7b-8859-e711182b64f9 button.colab-df-convert');\n",
              "      buttonEl.style.display =\n",
              "        google.colab.kernel.accessAllowed ? 'block' : 'none';\n",
              "\n",
              "      async function convertToInteractive(key) {\n",
              "        const element = document.querySelector('#df-09b0878b-e014-4b7b-8859-e711182b64f9');\n",
              "        const dataTable =\n",
              "          await google.colab.kernel.invokeFunction('convertToInteractive',\n",
              "                                                    [key], {});\n",
              "        if (!dataTable) return;\n",
              "\n",
              "        const docLinkHtml = 'Like what you see? Visit the ' +\n",
              "          '<a target=\"_blank\" href=https://colab.research.google.com/notebooks/data_table.ipynb>data table notebook</a>'\n",
              "          + ' to learn more about interactive tables.';\n",
              "        element.innerHTML = '';\n",
              "        dataTable['output_type'] = 'display_data';\n",
              "        await google.colab.output.renderOutput(dataTable, element);\n",
              "        const docLink = document.createElement('div');\n",
              "        docLink.innerHTML = docLinkHtml;\n",
              "        element.appendChild(docLink);\n",
              "      }\n",
              "    </script>\n",
              "  </div>\n",
              "\n",
              "\n",
              "<div id=\"df-0d68fa78-61d3-4b4a-a5bc-3264b51be70c\">\n",
              "  <button class=\"colab-df-quickchart\" onclick=\"quickchart('df-0d68fa78-61d3-4b4a-a5bc-3264b51be70c')\"\n",
              "            title=\"Suggest charts\"\n",
              "            style=\"display:none;\">\n",
              "\n",
              "<svg xmlns=\"http://www.w3.org/2000/svg\" height=\"24px\"viewBox=\"0 0 24 24\"\n",
              "     width=\"24px\">\n",
              "    <g>\n",
              "        <path d=\"M19 3H5c-1.1 0-2 .9-2 2v14c0 1.1.9 2 2 2h14c1.1 0 2-.9 2-2V5c0-1.1-.9-2-2-2zM9 17H7v-7h2v7zm4 0h-2V7h2v10zm4 0h-2v-4h2v4z\"/>\n",
              "    </g>\n",
              "</svg>\n",
              "  </button>\n",
              "\n",
              "<style>\n",
              "  .colab-df-quickchart {\n",
              "      --bg-color: #E8F0FE;\n",
              "      --fill-color: #1967D2;\n",
              "      --hover-bg-color: #E2EBFA;\n",
              "      --hover-fill-color: #174EA6;\n",
              "      --disabled-fill-color: #AAA;\n",
              "      --disabled-bg-color: #DDD;\n",
              "  }\n",
              "\n",
              "  [theme=dark] .colab-df-quickchart {\n",
              "      --bg-color: #3B4455;\n",
              "      --fill-color: #D2E3FC;\n",
              "      --hover-bg-color: #434B5C;\n",
              "      --hover-fill-color: #FFFFFF;\n",
              "      --disabled-bg-color: #3B4455;\n",
              "      --disabled-fill-color: #666;\n",
              "  }\n",
              "\n",
              "  .colab-df-quickchart {\n",
              "    background-color: var(--bg-color);\n",
              "    border: none;\n",
              "    border-radius: 50%;\n",
              "    cursor: pointer;\n",
              "    display: none;\n",
              "    fill: var(--fill-color);\n",
              "    height: 32px;\n",
              "    padding: 0;\n",
              "    width: 32px;\n",
              "  }\n",
              "\n",
              "  .colab-df-quickchart:hover {\n",
              "    background-color: var(--hover-bg-color);\n",
              "    box-shadow: 0 1px 2px rgba(60, 64, 67, 0.3), 0 1px 3px 1px rgba(60, 64, 67, 0.15);\n",
              "    fill: var(--button-hover-fill-color);\n",
              "  }\n",
              "\n",
              "  .colab-df-quickchart-complete:disabled,\n",
              "  .colab-df-quickchart-complete:disabled:hover {\n",
              "    background-color: var(--disabled-bg-color);\n",
              "    fill: var(--disabled-fill-color);\n",
              "    box-shadow: none;\n",
              "  }\n",
              "\n",
              "  .colab-df-spinner {\n",
              "    border: 2px solid var(--fill-color);\n",
              "    border-color: transparent;\n",
              "    border-bottom-color: var(--fill-color);\n",
              "    animation:\n",
              "      spin 1s steps(1) infinite;\n",
              "  }\n",
              "\n",
              "  @keyframes spin {\n",
              "    0% {\n",
              "      border-color: transparent;\n",
              "      border-bottom-color: var(--fill-color);\n",
              "      border-left-color: var(--fill-color);\n",
              "    }\n",
              "    20% {\n",
              "      border-color: transparent;\n",
              "      border-left-color: var(--fill-color);\n",
              "      border-top-color: var(--fill-color);\n",
              "    }\n",
              "    30% {\n",
              "      border-color: transparent;\n",
              "      border-left-color: var(--fill-color);\n",
              "      border-top-color: var(--fill-color);\n",
              "      border-right-color: var(--fill-color);\n",
              "    }\n",
              "    40% {\n",
              "      border-color: transparent;\n",
              "      border-right-color: var(--fill-color);\n",
              "      border-top-color: var(--fill-color);\n",
              "    }\n",
              "    60% {\n",
              "      border-color: transparent;\n",
              "      border-right-color: var(--fill-color);\n",
              "    }\n",
              "    80% {\n",
              "      border-color: transparent;\n",
              "      border-right-color: var(--fill-color);\n",
              "      border-bottom-color: var(--fill-color);\n",
              "    }\n",
              "    90% {\n",
              "      border-color: transparent;\n",
              "      border-bottom-color: var(--fill-color);\n",
              "    }\n",
              "  }\n",
              "</style>\n",
              "\n",
              "  <script>\n",
              "    async function quickchart(key) {\n",
              "      const quickchartButtonEl =\n",
              "        document.querySelector('#' + key + ' button');\n",
              "      quickchartButtonEl.disabled = true;  // To prevent multiple clicks.\n",
              "      quickchartButtonEl.classList.add('colab-df-spinner');\n",
              "      try {\n",
              "        const charts = await google.colab.kernel.invokeFunction(\n",
              "            'suggestCharts', [key], {});\n",
              "      } catch (error) {\n",
              "        console.error('Error during call to suggestCharts:', error);\n",
              "      }\n",
              "      quickchartButtonEl.classList.remove('colab-df-spinner');\n",
              "      quickchartButtonEl.classList.add('colab-df-quickchart-complete');\n",
              "    }\n",
              "    (() => {\n",
              "      let quickchartButtonEl =\n",
              "        document.querySelector('#df-0d68fa78-61d3-4b4a-a5bc-3264b51be70c button');\n",
              "      quickchartButtonEl.style.display =\n",
              "        google.colab.kernel.accessAllowed ? 'block' : 'none';\n",
              "    })();\n",
              "  </script>\n",
              "</div>\n",
              "\n",
              "    </div>\n",
              "  </div>\n"
            ],
            "application/vnd.google.colaboratory.intrinsic+json": {
              "type": "dataframe",
              "variable_name": "df"
            }
          },
          "metadata": {},
          "execution_count": 160
        }
      ]
    },
    {
      "cell_type": "code",
      "source": [
        "num = ['int64','float64']"
      ],
      "metadata": {
        "id": "I8NCOzgCJTwD"
      },
      "execution_count": 178,
      "outputs": []
    },
    {
      "cell_type": "code",
      "source": [
        "num_vars = list(df.select_dtypes(include=num))"
      ],
      "metadata": {
        "id": "m2Zsw-vQG_8X"
      },
      "execution_count": 183,
      "outputs": []
    },
    {
      "cell_type": "code",
      "source": [
        "df_numeric2 = df[num_vars]"
      ],
      "metadata": {
        "id": "dcto2ENkJ_yH"
      },
      "execution_count": 201,
      "outputs": []
    },
    {
      "cell_type": "code",
      "source": [
        "df_numeric2=df_numeric2.drop(columns=['Year','Month','Day'])"
      ],
      "metadata": {
        "id": "OVwngmQdKFVl"
      },
      "execution_count": 202,
      "outputs": []
    },
    {
      "cell_type": "code",
      "source": [
        "from sklearn.model_selection import train_test_split"
      ],
      "metadata": {
        "id": "9J-AwORJOJhD"
      },
      "execution_count": null,
      "outputs": []
    },
    {
      "cell_type": "code",
      "source": [
        "X_train, X_test, y_train, y_test = train_test_split(X, y, test_size=0.2, random_state=42)"
      ],
      "metadata": {
        "id": "Qyd41EOPOZUO"
      },
      "execution_count": 219,
      "outputs": []
    },
    {
      "cell_type": "code",
      "source": [
        "Corrmatrix = X_train.corr()"
      ],
      "metadata": {
        "id": "egPyRYTfOaw3"
      },
      "execution_count": 220,
      "outputs": []
    },
    {
      "cell_type": "code",
      "source": [
        "Corrmatrix"
      ],
      "metadata": {
        "id": "dCJclASuKNQQ",
        "outputId": "223042e5-a638-4726-896b-f9886076a767",
        "colab": {
          "base_uri": "https://localhost:8080/",
          "height": 363
        }
      },
      "execution_count": 221,
      "outputs": [
        {
          "output_type": "execute_result",
          "data": {
            "text/plain": [
              "                        Age  Hours_per_day  While_working  Instrumentalist  \\\n",
              "Age                1.000000      -0.014661      -0.076757        -0.134283   \n",
              "Hours_per_day     -0.014661       1.000000       0.283514        -0.041042   \n",
              "While_working     -0.076757       0.283514       1.000000         0.084310   \n",
              "Instrumentalist   -0.134283      -0.041042       0.084310         1.000000   \n",
              "Composer          -0.025298       0.081796       0.024829         0.415836   \n",
              "Foreign_languages -0.138902       0.093521       0.121057        -0.005501   \n",
              "Anxiety           -0.182252       0.044990       0.031356         0.055419   \n",
              "Depression        -0.134777       0.099937       0.090881         0.001030   \n",
              "Insomnia          -0.011827       0.156280       0.047086         0.000463   \n",
              "OCD               -0.138926       0.100201       0.086942         0.048101   \n",
              "\n",
              "                   Composer  Foreign_languages   Anxiety  Depression  \\\n",
              "Age               -0.025298          -0.138902 -0.182252   -0.134777   \n",
              "Hours_per_day      0.081796           0.093521  0.044990    0.099937   \n",
              "While_working      0.024829           0.121057  0.031356    0.090881   \n",
              "Instrumentalist    0.415836          -0.005501  0.055419    0.001030   \n",
              "Composer           1.000000          -0.037623  0.006348    0.052795   \n",
              "Foreign_languages -0.037623           1.000000  0.127274    0.139139   \n",
              "Anxiety            0.006348           0.127274  1.000000    0.529631   \n",
              "Depression         0.052795           0.139139  0.529631    1.000000   \n",
              "Insomnia           0.102264           0.061257  0.280888    0.394208   \n",
              "OCD                0.003216           0.013777  0.384823    0.217698   \n",
              "\n",
              "                   Insomnia       OCD  \n",
              "Age               -0.011827 -0.138926  \n",
              "Hours_per_day      0.156280  0.100201  \n",
              "While_working      0.047086  0.086942  \n",
              "Instrumentalist    0.000463  0.048101  \n",
              "Composer           0.102264  0.003216  \n",
              "Foreign_languages  0.061257  0.013777  \n",
              "Anxiety            0.280888  0.384823  \n",
              "Depression         0.394208  0.217698  \n",
              "Insomnia           1.000000  0.263639  \n",
              "OCD                0.263639  1.000000  "
            ],
            "text/html": [
              "\n",
              "  <div id=\"df-2d954b79-745c-4972-adff-b3a63772e1af\" class=\"colab-df-container\">\n",
              "    <div>\n",
              "<style scoped>\n",
              "    .dataframe tbody tr th:only-of-type {\n",
              "        vertical-align: middle;\n",
              "    }\n",
              "\n",
              "    .dataframe tbody tr th {\n",
              "        vertical-align: top;\n",
              "    }\n",
              "\n",
              "    .dataframe thead th {\n",
              "        text-align: right;\n",
              "    }\n",
              "</style>\n",
              "<table border=\"1\" class=\"dataframe\">\n",
              "  <thead>\n",
              "    <tr style=\"text-align: right;\">\n",
              "      <th></th>\n",
              "      <th>Age</th>\n",
              "      <th>Hours_per_day</th>\n",
              "      <th>While_working</th>\n",
              "      <th>Instrumentalist</th>\n",
              "      <th>Composer</th>\n",
              "      <th>Foreign_languages</th>\n",
              "      <th>Anxiety</th>\n",
              "      <th>Depression</th>\n",
              "      <th>Insomnia</th>\n",
              "      <th>OCD</th>\n",
              "    </tr>\n",
              "  </thead>\n",
              "  <tbody>\n",
              "    <tr>\n",
              "      <th>Age</th>\n",
              "      <td>1.000000</td>\n",
              "      <td>-0.014661</td>\n",
              "      <td>-0.076757</td>\n",
              "      <td>-0.134283</td>\n",
              "      <td>-0.025298</td>\n",
              "      <td>-0.138902</td>\n",
              "      <td>-0.182252</td>\n",
              "      <td>-0.134777</td>\n",
              "      <td>-0.011827</td>\n",
              "      <td>-0.138926</td>\n",
              "    </tr>\n",
              "    <tr>\n",
              "      <th>Hours_per_day</th>\n",
              "      <td>-0.014661</td>\n",
              "      <td>1.000000</td>\n",
              "      <td>0.283514</td>\n",
              "      <td>-0.041042</td>\n",
              "      <td>0.081796</td>\n",
              "      <td>0.093521</td>\n",
              "      <td>0.044990</td>\n",
              "      <td>0.099937</td>\n",
              "      <td>0.156280</td>\n",
              "      <td>0.100201</td>\n",
              "    </tr>\n",
              "    <tr>\n",
              "      <th>While_working</th>\n",
              "      <td>-0.076757</td>\n",
              "      <td>0.283514</td>\n",
              "      <td>1.000000</td>\n",
              "      <td>0.084310</td>\n",
              "      <td>0.024829</td>\n",
              "      <td>0.121057</td>\n",
              "      <td>0.031356</td>\n",
              "      <td>0.090881</td>\n",
              "      <td>0.047086</td>\n",
              "      <td>0.086942</td>\n",
              "    </tr>\n",
              "    <tr>\n",
              "      <th>Instrumentalist</th>\n",
              "      <td>-0.134283</td>\n",
              "      <td>-0.041042</td>\n",
              "      <td>0.084310</td>\n",
              "      <td>1.000000</td>\n",
              "      <td>0.415836</td>\n",
              "      <td>-0.005501</td>\n",
              "      <td>0.055419</td>\n",
              "      <td>0.001030</td>\n",
              "      <td>0.000463</td>\n",
              "      <td>0.048101</td>\n",
              "    </tr>\n",
              "    <tr>\n",
              "      <th>Composer</th>\n",
              "      <td>-0.025298</td>\n",
              "      <td>0.081796</td>\n",
              "      <td>0.024829</td>\n",
              "      <td>0.415836</td>\n",
              "      <td>1.000000</td>\n",
              "      <td>-0.037623</td>\n",
              "      <td>0.006348</td>\n",
              "      <td>0.052795</td>\n",
              "      <td>0.102264</td>\n",
              "      <td>0.003216</td>\n",
              "    </tr>\n",
              "    <tr>\n",
              "      <th>Foreign_languages</th>\n",
              "      <td>-0.138902</td>\n",
              "      <td>0.093521</td>\n",
              "      <td>0.121057</td>\n",
              "      <td>-0.005501</td>\n",
              "      <td>-0.037623</td>\n",
              "      <td>1.000000</td>\n",
              "      <td>0.127274</td>\n",
              "      <td>0.139139</td>\n",
              "      <td>0.061257</td>\n",
              "      <td>0.013777</td>\n",
              "    </tr>\n",
              "    <tr>\n",
              "      <th>Anxiety</th>\n",
              "      <td>-0.182252</td>\n",
              "      <td>0.044990</td>\n",
              "      <td>0.031356</td>\n",
              "      <td>0.055419</td>\n",
              "      <td>0.006348</td>\n",
              "      <td>0.127274</td>\n",
              "      <td>1.000000</td>\n",
              "      <td>0.529631</td>\n",
              "      <td>0.280888</td>\n",
              "      <td>0.384823</td>\n",
              "    </tr>\n",
              "    <tr>\n",
              "      <th>Depression</th>\n",
              "      <td>-0.134777</td>\n",
              "      <td>0.099937</td>\n",
              "      <td>0.090881</td>\n",
              "      <td>0.001030</td>\n",
              "      <td>0.052795</td>\n",
              "      <td>0.139139</td>\n",
              "      <td>0.529631</td>\n",
              "      <td>1.000000</td>\n",
              "      <td>0.394208</td>\n",
              "      <td>0.217698</td>\n",
              "    </tr>\n",
              "    <tr>\n",
              "      <th>Insomnia</th>\n",
              "      <td>-0.011827</td>\n",
              "      <td>0.156280</td>\n",
              "      <td>0.047086</td>\n",
              "      <td>0.000463</td>\n",
              "      <td>0.102264</td>\n",
              "      <td>0.061257</td>\n",
              "      <td>0.280888</td>\n",
              "      <td>0.394208</td>\n",
              "      <td>1.000000</td>\n",
              "      <td>0.263639</td>\n",
              "    </tr>\n",
              "    <tr>\n",
              "      <th>OCD</th>\n",
              "      <td>-0.138926</td>\n",
              "      <td>0.100201</td>\n",
              "      <td>0.086942</td>\n",
              "      <td>0.048101</td>\n",
              "      <td>0.003216</td>\n",
              "      <td>0.013777</td>\n",
              "      <td>0.384823</td>\n",
              "      <td>0.217698</td>\n",
              "      <td>0.263639</td>\n",
              "      <td>1.000000</td>\n",
              "    </tr>\n",
              "  </tbody>\n",
              "</table>\n",
              "</div>\n",
              "    <div class=\"colab-df-buttons\">\n",
              "\n",
              "  <div class=\"colab-df-container\">\n",
              "    <button class=\"colab-df-convert\" onclick=\"convertToInteractive('df-2d954b79-745c-4972-adff-b3a63772e1af')\"\n",
              "            title=\"Convert this dataframe to an interactive table.\"\n",
              "            style=\"display:none;\">\n",
              "\n",
              "  <svg xmlns=\"http://www.w3.org/2000/svg\" height=\"24px\" viewBox=\"0 -960 960 960\">\n",
              "    <path d=\"M120-120v-720h720v720H120Zm60-500h600v-160H180v160Zm220 220h160v-160H400v160Zm0 220h160v-160H400v160ZM180-400h160v-160H180v160Zm440 0h160v-160H620v160ZM180-180h160v-160H180v160Zm440 0h160v-160H620v160Z\"/>\n",
              "  </svg>\n",
              "    </button>\n",
              "\n",
              "  <style>\n",
              "    .colab-df-container {\n",
              "      display:flex;\n",
              "      gap: 12px;\n",
              "    }\n",
              "\n",
              "    .colab-df-convert {\n",
              "      background-color: #E8F0FE;\n",
              "      border: none;\n",
              "      border-radius: 50%;\n",
              "      cursor: pointer;\n",
              "      display: none;\n",
              "      fill: #1967D2;\n",
              "      height: 32px;\n",
              "      padding: 0 0 0 0;\n",
              "      width: 32px;\n",
              "    }\n",
              "\n",
              "    .colab-df-convert:hover {\n",
              "      background-color: #E2EBFA;\n",
              "      box-shadow: 0px 1px 2px rgba(60, 64, 67, 0.3), 0px 1px 3px 1px rgba(60, 64, 67, 0.15);\n",
              "      fill: #174EA6;\n",
              "    }\n",
              "\n",
              "    .colab-df-buttons div {\n",
              "      margin-bottom: 4px;\n",
              "    }\n",
              "\n",
              "    [theme=dark] .colab-df-convert {\n",
              "      background-color: #3B4455;\n",
              "      fill: #D2E3FC;\n",
              "    }\n",
              "\n",
              "    [theme=dark] .colab-df-convert:hover {\n",
              "      background-color: #434B5C;\n",
              "      box-shadow: 0px 1px 3px 1px rgba(0, 0, 0, 0.15);\n",
              "      filter: drop-shadow(0px 1px 2px rgba(0, 0, 0, 0.3));\n",
              "      fill: #FFFFFF;\n",
              "    }\n",
              "  </style>\n",
              "\n",
              "    <script>\n",
              "      const buttonEl =\n",
              "        document.querySelector('#df-2d954b79-745c-4972-adff-b3a63772e1af button.colab-df-convert');\n",
              "      buttonEl.style.display =\n",
              "        google.colab.kernel.accessAllowed ? 'block' : 'none';\n",
              "\n",
              "      async function convertToInteractive(key) {\n",
              "        const element = document.querySelector('#df-2d954b79-745c-4972-adff-b3a63772e1af');\n",
              "        const dataTable =\n",
              "          await google.colab.kernel.invokeFunction('convertToInteractive',\n",
              "                                                    [key], {});\n",
              "        if (!dataTable) return;\n",
              "\n",
              "        const docLinkHtml = 'Like what you see? Visit the ' +\n",
              "          '<a target=\"_blank\" href=https://colab.research.google.com/notebooks/data_table.ipynb>data table notebook</a>'\n",
              "          + ' to learn more about interactive tables.';\n",
              "        element.innerHTML = '';\n",
              "        dataTable['output_type'] = 'display_data';\n",
              "        await google.colab.output.renderOutput(dataTable, element);\n",
              "        const docLink = document.createElement('div');\n",
              "        docLink.innerHTML = docLinkHtml;\n",
              "        element.appendChild(docLink);\n",
              "      }\n",
              "    </script>\n",
              "  </div>\n",
              "\n",
              "\n",
              "<div id=\"df-52bbb47a-47b3-4910-9b8f-167d7fcbc3cd\">\n",
              "  <button class=\"colab-df-quickchart\" onclick=\"quickchart('df-52bbb47a-47b3-4910-9b8f-167d7fcbc3cd')\"\n",
              "            title=\"Suggest charts\"\n",
              "            style=\"display:none;\">\n",
              "\n",
              "<svg xmlns=\"http://www.w3.org/2000/svg\" height=\"24px\"viewBox=\"0 0 24 24\"\n",
              "     width=\"24px\">\n",
              "    <g>\n",
              "        <path d=\"M19 3H5c-1.1 0-2 .9-2 2v14c0 1.1.9 2 2 2h14c1.1 0 2-.9 2-2V5c0-1.1-.9-2-2-2zM9 17H7v-7h2v7zm4 0h-2V7h2v10zm4 0h-2v-4h2v4z\"/>\n",
              "    </g>\n",
              "</svg>\n",
              "  </button>\n",
              "\n",
              "<style>\n",
              "  .colab-df-quickchart {\n",
              "      --bg-color: #E8F0FE;\n",
              "      --fill-color: #1967D2;\n",
              "      --hover-bg-color: #E2EBFA;\n",
              "      --hover-fill-color: #174EA6;\n",
              "      --disabled-fill-color: #AAA;\n",
              "      --disabled-bg-color: #DDD;\n",
              "  }\n",
              "\n",
              "  [theme=dark] .colab-df-quickchart {\n",
              "      --bg-color: #3B4455;\n",
              "      --fill-color: #D2E3FC;\n",
              "      --hover-bg-color: #434B5C;\n",
              "      --hover-fill-color: #FFFFFF;\n",
              "      --disabled-bg-color: #3B4455;\n",
              "      --disabled-fill-color: #666;\n",
              "  }\n",
              "\n",
              "  .colab-df-quickchart {\n",
              "    background-color: var(--bg-color);\n",
              "    border: none;\n",
              "    border-radius: 50%;\n",
              "    cursor: pointer;\n",
              "    display: none;\n",
              "    fill: var(--fill-color);\n",
              "    height: 32px;\n",
              "    padding: 0;\n",
              "    width: 32px;\n",
              "  }\n",
              "\n",
              "  .colab-df-quickchart:hover {\n",
              "    background-color: var(--hover-bg-color);\n",
              "    box-shadow: 0 1px 2px rgba(60, 64, 67, 0.3), 0 1px 3px 1px rgba(60, 64, 67, 0.15);\n",
              "    fill: var(--button-hover-fill-color);\n",
              "  }\n",
              "\n",
              "  .colab-df-quickchart-complete:disabled,\n",
              "  .colab-df-quickchart-complete:disabled:hover {\n",
              "    background-color: var(--disabled-bg-color);\n",
              "    fill: var(--disabled-fill-color);\n",
              "    box-shadow: none;\n",
              "  }\n",
              "\n",
              "  .colab-df-spinner {\n",
              "    border: 2px solid var(--fill-color);\n",
              "    border-color: transparent;\n",
              "    border-bottom-color: var(--fill-color);\n",
              "    animation:\n",
              "      spin 1s steps(1) infinite;\n",
              "  }\n",
              "\n",
              "  @keyframes spin {\n",
              "    0% {\n",
              "      border-color: transparent;\n",
              "      border-bottom-color: var(--fill-color);\n",
              "      border-left-color: var(--fill-color);\n",
              "    }\n",
              "    20% {\n",
              "      border-color: transparent;\n",
              "      border-left-color: var(--fill-color);\n",
              "      border-top-color: var(--fill-color);\n",
              "    }\n",
              "    30% {\n",
              "      border-color: transparent;\n",
              "      border-left-color: var(--fill-color);\n",
              "      border-top-color: var(--fill-color);\n",
              "      border-right-color: var(--fill-color);\n",
              "    }\n",
              "    40% {\n",
              "      border-color: transparent;\n",
              "      border-right-color: var(--fill-color);\n",
              "      border-top-color: var(--fill-color);\n",
              "    }\n",
              "    60% {\n",
              "      border-color: transparent;\n",
              "      border-right-color: var(--fill-color);\n",
              "    }\n",
              "    80% {\n",
              "      border-color: transparent;\n",
              "      border-right-color: var(--fill-color);\n",
              "      border-bottom-color: var(--fill-color);\n",
              "    }\n",
              "    90% {\n",
              "      border-color: transparent;\n",
              "      border-bottom-color: var(--fill-color);\n",
              "    }\n",
              "  }\n",
              "</style>\n",
              "\n",
              "  <script>\n",
              "    async function quickchart(key) {\n",
              "      const quickchartButtonEl =\n",
              "        document.querySelector('#' + key + ' button');\n",
              "      quickchartButtonEl.disabled = true;  // To prevent multiple clicks.\n",
              "      quickchartButtonEl.classList.add('colab-df-spinner');\n",
              "      try {\n",
              "        const charts = await google.colab.kernel.invokeFunction(\n",
              "            'suggestCharts', [key], {});\n",
              "      } catch (error) {\n",
              "        console.error('Error during call to suggestCharts:', error);\n",
              "      }\n",
              "      quickchartButtonEl.classList.remove('colab-df-spinner');\n",
              "      quickchartButtonEl.classList.add('colab-df-quickchart-complete');\n",
              "    }\n",
              "    (() => {\n",
              "      let quickchartButtonEl =\n",
              "        document.querySelector('#df-52bbb47a-47b3-4910-9b8f-167d7fcbc3cd button');\n",
              "      quickchartButtonEl.style.display =\n",
              "        google.colab.kernel.accessAllowed ? 'block' : 'none';\n",
              "    })();\n",
              "  </script>\n",
              "</div>\n",
              "\n",
              "  <div id=\"id_a5fa5df5-548a-4e10-9bd8-fb51db724f60\">\n",
              "    <style>\n",
              "      .colab-df-generate {\n",
              "        background-color: #E8F0FE;\n",
              "        border: none;\n",
              "        border-radius: 50%;\n",
              "        cursor: pointer;\n",
              "        display: none;\n",
              "        fill: #1967D2;\n",
              "        height: 32px;\n",
              "        padding: 0 0 0 0;\n",
              "        width: 32px;\n",
              "      }\n",
              "\n",
              "      .colab-df-generate:hover {\n",
              "        background-color: #E2EBFA;\n",
              "        box-shadow: 0px 1px 2px rgba(60, 64, 67, 0.3), 0px 1px 3px 1px rgba(60, 64, 67, 0.15);\n",
              "        fill: #174EA6;\n",
              "      }\n",
              "\n",
              "      [theme=dark] .colab-df-generate {\n",
              "        background-color: #3B4455;\n",
              "        fill: #D2E3FC;\n",
              "      }\n",
              "\n",
              "      [theme=dark] .colab-df-generate:hover {\n",
              "        background-color: #434B5C;\n",
              "        box-shadow: 0px 1px 3px 1px rgba(0, 0, 0, 0.15);\n",
              "        filter: drop-shadow(0px 1px 2px rgba(0, 0, 0, 0.3));\n",
              "        fill: #FFFFFF;\n",
              "      }\n",
              "    </style>\n",
              "    <button class=\"colab-df-generate\" onclick=\"generateWithVariable('Corrmatrix')\"\n",
              "            title=\"Generate code using this dataframe.\"\n",
              "            style=\"display:none;\">\n",
              "\n",
              "  <svg xmlns=\"http://www.w3.org/2000/svg\" height=\"24px\"viewBox=\"0 0 24 24\"\n",
              "       width=\"24px\">\n",
              "    <path d=\"M7,19H8.4L18.45,9,17,7.55,7,17.6ZM5,21V16.75L18.45,3.32a2,2,0,0,1,2.83,0l1.4,1.43a1.91,1.91,0,0,1,.58,1.4,1.91,1.91,0,0,1-.58,1.4L9.25,21ZM18.45,9,17,7.55Zm-12,3A5.31,5.31,0,0,0,4.9,8.1,5.31,5.31,0,0,0,1,6.5,5.31,5.31,0,0,0,4.9,4.9,5.31,5.31,0,0,0,6.5,1,5.31,5.31,0,0,0,8.1,4.9,5.31,5.31,0,0,0,12,6.5,5.46,5.46,0,0,0,6.5,12Z\"/>\n",
              "  </svg>\n",
              "    </button>\n",
              "    <script>\n",
              "      (() => {\n",
              "      const buttonEl =\n",
              "        document.querySelector('#id_a5fa5df5-548a-4e10-9bd8-fb51db724f60 button.colab-df-generate');\n",
              "      buttonEl.style.display =\n",
              "        google.colab.kernel.accessAllowed ? 'block' : 'none';\n",
              "\n",
              "      buttonEl.onclick = () => {\n",
              "        google.colab.notebook.generateWithVariable('Corrmatrix');\n",
              "      }\n",
              "      })();\n",
              "    </script>\n",
              "  </div>\n",
              "\n",
              "    </div>\n",
              "  </div>\n"
            ],
            "application/vnd.google.colaboratory.intrinsic+json": {
              "type": "dataframe",
              "variable_name": "Corrmatrix",
              "summary": "{\n  \"name\": \"Corrmatrix\",\n  \"rows\": 10,\n  \"fields\": [\n    {\n      \"column\": \"Age\",\n      \"properties\": {\n        \"dtype\": \"number\",\n        \"std\": 0.3516418261081326,\n        \"min\": -0.1822519509463591,\n        \"max\": 1.0,\n        \"num_unique_values\": 10,\n        \"samples\": [\n          -0.011826634523011888,\n          -0.014660961360139495,\n          -0.13890206145406614\n        ],\n        \"semantic_type\": \"\",\n        \"description\": \"\"\n      }\n    },\n    {\n      \"column\": \"Hours_per_day\",\n      \"properties\": {\n        \"dtype\": \"number\",\n        \"std\": 0.3015803723513069,\n        \"min\": -0.04104245621840555,\n        \"max\": 1.0,\n        \"num_unique_values\": 10,\n        \"samples\": [\n          0.1562801943205687,\n          1.0,\n          0.09352091344854292\n        ],\n        \"semantic_type\": \"\",\n        \"description\": \"\"\n      }\n    },\n    {\n      \"column\": \"While_working\",\n      \"properties\": {\n        \"dtype\": \"number\",\n        \"std\": 0.3056816004136854,\n        \"min\": -0.07675730718310124,\n        \"max\": 1.0,\n        \"num_unique_values\": 10,\n        \"samples\": [\n          0.04708623642721238,\n          0.2835137747961495,\n          0.12105737067734672\n        ],\n        \"semantic_type\": \"\",\n        \"description\": \"\"\n      }\n    },\n    {\n      \"column\": \"Instrumentalist\",\n      \"properties\": {\n        \"dtype\": \"number\",\n        \"std\": 0.33371453820055924,\n        \"min\": -0.1342830566254001,\n        \"max\": 1.0,\n        \"num_unique_values\": 10,\n        \"samples\": [\n          0.00046340859733523884,\n          -0.04104245621840555,\n          -0.005501402348658137\n        ],\n        \"semantic_type\": \"\",\n        \"description\": \"\"\n      }\n    },\n    {\n      \"column\": \"Composer\",\n      \"properties\": {\n        \"dtype\": \"number\",\n        \"std\": 0.3217638268206714,\n        \"min\": -0.03762300861431608,\n        \"max\": 1.0,\n        \"num_unique_values\": 10,\n        \"samples\": [\n          0.10226434876859498,\n          0.08179615426851938,\n          -0.03762300861431608\n        ],\n        \"semantic_type\": \"\",\n        \"description\": \"\"\n      }\n    },\n    {\n      \"column\": \"Foreign_languages\",\n      \"properties\": {\n        \"dtype\": \"number\",\n        \"std\": 0.3153223898648733,\n        \"min\": -0.13890206145406614,\n        \"max\": 1.0,\n        \"num_unique_values\": 10,\n        \"samples\": [\n          0.06125714638190615,\n          0.09352091344854292,\n          1.0\n        ],\n        \"semantic_type\": \"\",\n        \"description\": \"\"\n      }\n    },\n    {\n      \"column\": \"Anxiety\",\n      \"properties\": {\n        \"dtype\": \"number\",\n        \"std\": 0.34056868051401784,\n        \"min\": -0.1822519509463591,\n        \"max\": 1.0,\n        \"num_unique_values\": 10,\n        \"samples\": [\n          0.2808877498191162,\n          0.04499004441937479,\n          0.1272737752415066\n        ],\n        \"semantic_type\": \"\",\n        \"description\": \"\"\n      }\n    },\n    {\n      \"column\": \"Depression\",\n      \"properties\": {\n        \"dtype\": \"number\",\n        \"std\": 0.3283616105394542,\n        \"min\": -0.1347771322775817,\n        \"max\": 1.0,\n        \"num_unique_values\": 10,\n        \"samples\": [\n          0.39420824458507175,\n          0.09993730427225031,\n          0.13913923372630257\n        ],\n        \"semantic_type\": \"\",\n        \"description\": \"\"\n      }\n    },\n    {\n      \"column\": \"Insomnia\",\n      \"properties\": {\n        \"dtype\": \"number\",\n        \"std\": 0.3015574313263989,\n        \"min\": -0.011826634523011888,\n        \"max\": 1.0,\n        \"num_unique_values\": 10,\n        \"samples\": [\n          1.0,\n          0.1562801943205687,\n          0.06125714638190615\n        ],\n        \"semantic_type\": \"\",\n        \"description\": \"\"\n      }\n    },\n    {\n      \"column\": \"OCD\",\n      \"properties\": {\n        \"dtype\": \"number\",\n        \"std\": 0.318428253785632,\n        \"min\": -0.13892553888540976,\n        \"max\": 1.0,\n        \"num_unique_values\": 10,\n        \"samples\": [\n          0.26363887955066795,\n          0.10020145590879909,\n          0.013776874489780521\n        ],\n        \"semantic_type\": \"\",\n        \"description\": \"\"\n      }\n    }\n  ]\n}"
            }
          },
          "metadata": {},
          "execution_count": 221
        }
      ]
    },
    {
      "cell_type": "code",
      "source": [
        "sns.heatmap(Corrmatrix.round(2),annot=True)"
      ],
      "metadata": {
        "id": "DcvdfuB4Ok_y",
        "outputId": "749ac659-47f9-44c4-fec3-e9f717639174",
        "colab": {
          "base_uri": "https://localhost:8080/",
          "height": 569
        }
      },
      "execution_count": 231,
      "outputs": [
        {
          "output_type": "execute_result",
          "data": {
            "text/plain": [
              "<Axes: >"
            ]
          },
          "metadata": {},
          "execution_count": 231
        },
        {
          "output_type": "display_data",
          "data": {
            "text/plain": [
              "<Figure size 640x480 with 2 Axes>"
            ],
            "image/png": "[encoded data removed]"
          },
          "metadata": {}
        }
      ]
    },
    {
      "cell_type": "code",
      "source": [
        "import pandas as pd\n",
        "from scipy.stats import chi2_contingency\n",
        "\n",
        "\n",
        "# Sample data\n",
        "data = {\n",
        "    'Primary streaming service': ['Spotify', 'Pandora', 'Spotify', 'YouTube Music', 'Spotify', 'Spotify'],\n",
        "    'Fav genre': ['Latin', 'Rock', 'Video game music', 'Jazz', 'R&B', 'Jazz']\n",
        "}\n",
        "df = pd.DataFrame(data)\n",
        "\n",
        "# Create a contingency table\n",
        "contingency_table = pd.crosstab(df['Primary streaming service'], df['Fav genre'])\n",
        "\n",
        "# Perform Chi-Square test\n",
        "chi2, p, dof, expected = chi2_contingency(contingency_table)\n",
        "\n",
        "print(\"Chi-Square Statistic:\", chi2)\n",
        "print(\"P-value:\", p)\n",
        "print(\"Degrees of Freedom:\", dof)\n",
        "print(\"Expected Frequencies Table:\")\n",
        "print(expected)"
      ],
      "metadata": {
        "colab": {
          "base_uri": "https://localhost:8080/"
        },
        "id": "ixBH0bDY0UfU",
        "outputId": "ef09cf6d-2509-4f0f-871b-ba2b2539db81"
      },
      "execution_count": 120,
      "outputs": [
        {
          "output_type": "stream",
          "name": "stdout",
          "text": [
            "Chi-Square Statistic: 8.250000000000002\n",
            "P-value: 0.4094383653539398\n",
            "Degrees of Freedom: 8\n",
            "Expected Frequencies Table:\n",
            "[[0.33333333 0.16666667 0.16666667 0.16666667 0.16666667]\n",
            " [1.33333333 0.66666667 0.66666667 0.66666667 0.66666667]\n",
            " [0.33333333 0.16666667 0.16666667 0.16666667 0.16666667]]\n"
          ]
        }
      ]
    },
    {
      "cell_type": "code",
      "source": [
        "plt.figure(figsize=(10, 6))\n",
        "sns.heatmap(contingency_table, annot=True, cmap='coolwarm', fmt='d')\n",
        "plt.title('Contingency Table: Primary Streaming Service vs. Favorite Genre')\n",
        "plt.xlabel('Favorite Genre')\n",
        "plt.ylabel('Primary Streaming Service')\n",
        "plt.show()"
      ],
      "metadata": {
        "id": "nTvRAxnmZSGn",
        "outputId": "4e117638-8c4d-4f2c-f905-27c4c0789133",
        "colab": {
          "base_uri": "https://localhost:8080/",
          "height": 564
        }
      },
      "execution_count": 121,
      "outputs": [
        {
          "output_type": "display_data",
          "data": {
            "text/plain": [
              "<Figure size 1000x600 with 2 Axes>"
            ],
            "image/png": "[encoded data removed]"
          },
          "metadata": {}
        }
      ]
    },
    {
      "cell_type": "code",
      "source": [
        "df.shape"
      ],
      "metadata": {
        "colab": {
          "base_uri": "https://localhost:8080/"
        },
        "id": "Pq-UEnSD87cw",
        "outputId": "09b34dd3-7d34-4753-8aeb-a78de66d254e"
      },
      "execution_count": 122,
      "outputs": [
        {
          "output_type": "execute_result",
          "data": {
            "text/plain": [
              "(6, 2)"
            ]
          },
          "metadata": {},
          "execution_count": 122
        }
      ]
    },
    {
      "cell_type": "code",
      "source": [
        "import plotly.express as px\n",
        "fig = px.histogram(df, x='Age')"
      ],
      "metadata": {
        "id": "KQM8v8m91g5H",
        "colab": {
          "base_uri": "https://localhost:8080/",
          "height": 304
        },
        "outputId": "6e5bd87c-e0fc-43e9-de4e-c3de9034329d"
      },
      "execution_count": 123,
      "outputs": [
        {
          "output_type": "error",
          "ename": "ValueError",
          "evalue": "Value of 'x' is not the name of a column in 'data_frame'. Expected one of ['Primary streaming service', 'Fav genre'] but received: Age",
          "traceback": [
            "\u001b[0;31m---------------------------------------------------------------------------\u001b[0m",
            "\u001b[0;31mValueError\u001b[0m                                Traceback (most recent call last)",
            "\u001b[0;32m<ipython-input-123-132dccba908c>\u001b[0m in \u001b[0;36m<cell line: 2>\u001b[0;34m()\u001b[0m\n\u001b[1;32m      1\u001b[0m \u001b[0;32mimport\u001b[0m \u001b[0mplotly\u001b[0m\u001b[0;34m.\u001b[0m\u001b[0mexpress\u001b[0m \u001b[0;32mas\u001b[0m \u001b[0mpx\u001b[0m\u001b[0;34m\u001b[0m\u001b[0;34m\u001b[0m\u001b[0m\n\u001b[0;32m----> 2\u001b[0;31m \u001b[0mfig\u001b[0m \u001b[0;34m=\u001b[0m \u001b[0mpx\u001b[0m\u001b[0;34m.\u001b[0m\u001b[0mhistogram\u001b[0m\u001b[0;34m(\u001b[0m\u001b[0mdf\u001b[0m\u001b[0;34m,\u001b[0m \u001b[0mx\u001b[0m\u001b[0;34m=\u001b[0m\u001b[0;34m'Age'\u001b[0m\u001b[0;34m)\u001b[0m\u001b[0;34m\u001b[0m\u001b[0;34m\u001b[0m\u001b[0m\n\u001b[0m",
            "\u001b[0;32m/usr/local/lib/python3.10/dist-packages/plotly/express/_chart_types.py\u001b[0m in \u001b[0;36mhistogram\u001b[0;34m(data_frame, x, y, color, pattern_shape, facet_row, facet_col, facet_col_wrap, facet_row_spacing, facet_col_spacing, hover_name, hover_data, animation_frame, animation_group, category_orders, labels, color_discrete_sequence, color_discrete_map, pattern_shape_sequence, pattern_shape_map, marginal, opacity, orientation, barmode, barnorm, histnorm, log_x, log_y, range_x, range_y, histfunc, cumulative, nbins, text_auto, title, template, width, height)\u001b[0m\n\u001b[1;32m    478\u001b[0m     `orientation` is `'h'`).\n\u001b[1;32m    479\u001b[0m     \"\"\"\n\u001b[0;32m--> 480\u001b[0;31m     return make_figure(\n\u001b[0m\u001b[1;32m    481\u001b[0m         \u001b[0margs\u001b[0m\u001b[0;34m=\u001b[0m\u001b[0mlocals\u001b[0m\u001b[0;34m(\u001b[0m\u001b[0;34m)\u001b[0m\u001b[0;34m,\u001b[0m\u001b[0;34m\u001b[0m\u001b[0;34m\u001b[0m\u001b[0m\n\u001b[1;32m    482\u001b[0m         \u001b[0mconstructor\u001b[0m\u001b[0;34m=\u001b[0m\u001b[0mgo\u001b[0m\u001b[0;34m.\u001b[0m\u001b[0mHistogram\u001b[0m\u001b[0;34m,\u001b[0m\u001b[0;34m\u001b[0m\u001b[0;34m\u001b[0m\u001b[0m\n",
            "\u001b[0;32m/usr/local/lib/python3.10/dist-packages/plotly/express/_core.py\u001b[0m in \u001b[0;36mmake_figure\u001b[0;34m(args, constructor, trace_patch, layout_patch)\u001b[0m\n\u001b[1;32m   2001\u001b[0m     \u001b[0mapply_default_cascade\u001b[0m\u001b[0;34m(\u001b[0m\u001b[0margs\u001b[0m\u001b[0;34m)\u001b[0m\u001b[0;34m\u001b[0m\u001b[0;34m\u001b[0m\u001b[0m\n\u001b[1;32m   2002\u001b[0m \u001b[0;34m\u001b[0m\u001b[0m\n\u001b[0;32m-> 2003\u001b[0;31m     \u001b[0margs\u001b[0m \u001b[0;34m=\u001b[0m \u001b[0mbuild_dataframe\u001b[0m\u001b[0;34m(\u001b[0m\u001b[0margs\u001b[0m\u001b[0;34m,\u001b[0m \u001b[0mconstructor\u001b[0m\u001b[0;34m)\u001b[0m\u001b[0;34m\u001b[0m\u001b[0;34m\u001b[0m\u001b[0m\n\u001b[0m\u001b[1;32m   2004\u001b[0m     \u001b[0;32mif\u001b[0m \u001b[0mconstructor\u001b[0m \u001b[0;32min\u001b[0m \u001b[0;34m[\u001b[0m\u001b[0mgo\u001b[0m\u001b[0;34m.\u001b[0m\u001b[0mTreemap\u001b[0m\u001b[0;34m,\u001b[0m \u001b[0mgo\u001b[0m\u001b[0;34m.\u001b[0m\u001b[0mSunburst\u001b[0m\u001b[0;34m,\u001b[0m \u001b[0mgo\u001b[0m\u001b[0;34m.\u001b[0m\u001b[0mIcicle\u001b[0m\u001b[0;34m]\u001b[0m \u001b[0;32mand\u001b[0m \u001b[0margs\u001b[0m\u001b[0;34m[\u001b[0m\u001b[0;34m\"path\"\u001b[0m\u001b[0;34m]\u001b[0m \u001b[0;32mis\u001b[0m \u001b[0;32mnot\u001b[0m \u001b[0;32mNone\u001b[0m\u001b[0;34m:\u001b[0m\u001b[0;34m\u001b[0m\u001b[0;34m\u001b[0m\u001b[0m\n\u001b[1;32m   2005\u001b[0m         \u001b[0margs\u001b[0m \u001b[0;34m=\u001b[0m \u001b[0mprocess_dataframe_hierarchy\u001b[0m\u001b[0;34m(\u001b[0m\u001b[0margs\u001b[0m\u001b[0;34m)\u001b[0m\u001b[0;34m\u001b[0m\u001b[0;34m\u001b[0m\u001b[0m\n",
            "\u001b[0;32m/usr/local/lib/python3.10/dist-packages/plotly/express/_core.py\u001b[0m in \u001b[0;36mbuild_dataframe\u001b[0;34m(args, constructor)\u001b[0m\n\u001b[1;32m   1410\u001b[0m     \u001b[0;31m# now that things have been prepped, we do the systematic rewriting of `args`\u001b[0m\u001b[0;34m\u001b[0m\u001b[0;34m\u001b[0m\u001b[0m\n\u001b[1;32m   1411\u001b[0m \u001b[0;34m\u001b[0m\u001b[0m\n\u001b[0;32m-> 1412\u001b[0;31m     df_output, wide_id_vars = process_args_into_dataframe(\n\u001b[0m\u001b[1;32m   1413\u001b[0m         \u001b[0margs\u001b[0m\u001b[0;34m,\u001b[0m \u001b[0mwide_mode\u001b[0m\u001b[0;34m,\u001b[0m \u001b[0mvar_name\u001b[0m\u001b[0;34m,\u001b[0m \u001b[0mvalue_name\u001b[0m\u001b[0;34m\u001b[0m\u001b[0;34m\u001b[0m\u001b[0m\n\u001b[1;32m   1414\u001b[0m     )\n",
            "\u001b[0;32m/usr/local/lib/python3.10/dist-packages/plotly/express/_core.py\u001b[0m in \u001b[0;36mprocess_args_into_dataframe\u001b[0;34m(args, wide_mode, var_name, value_name)\u001b[0m\n\u001b[1;32m   1206\u001b[0m                         \u001b[0;32mif\u001b[0m \u001b[0margument\u001b[0m \u001b[0;34m==\u001b[0m \u001b[0;34m\"index\"\u001b[0m\u001b[0;34m:\u001b[0m\u001b[0;34m\u001b[0m\u001b[0;34m\u001b[0m\u001b[0m\n\u001b[1;32m   1207\u001b[0m                             \u001b[0merr_msg\u001b[0m \u001b[0;34m+=\u001b[0m \u001b[0;34m\"\\n To use the index, pass it in directly as `df.index`.\"\u001b[0m\u001b[0;34m\u001b[0m\u001b[0;34m\u001b[0m\u001b[0m\n\u001b[0;32m-> 1208\u001b[0;31m                         \u001b[0;32mraise\u001b[0m \u001b[0mValueError\u001b[0m\u001b[0;34m(\u001b[0m\u001b[0merr_msg\u001b[0m\u001b[0;34m)\u001b[0m\u001b[0;34m\u001b[0m\u001b[0;34m\u001b[0m\u001b[0m\n\u001b[0m\u001b[1;32m   1209\u001b[0m                 \u001b[0;32melif\u001b[0m \u001b[0mlength\u001b[0m \u001b[0;32mand\u001b[0m \u001b[0mlen\u001b[0m\u001b[0;34m(\u001b[0m\u001b[0mdf_input\u001b[0m\u001b[0;34m[\u001b[0m\u001b[0margument\u001b[0m\u001b[0;34m]\u001b[0m\u001b[0;34m)\u001b[0m \u001b[0;34m!=\u001b[0m \u001b[0mlength\u001b[0m\u001b[0;34m:\u001b[0m\u001b[0;34m\u001b[0m\u001b[0;34m\u001b[0m\u001b[0m\n\u001b[1;32m   1210\u001b[0m                     raise ValueError(\n",
            "\u001b[0;31mValueError\u001b[0m: Value of 'x' is not the name of a column in 'data_frame'. Expected one of ['Primary streaming service', 'Fav genre'] but received: Age"
          ]
        }
      ]
    },
    {
      "cell_type": "code",
      "source": [
        "fig.show()"
      ],
      "metadata": {
        "id": "7AINVQEe6fYl"
      },
      "execution_count": null,
      "outputs": []
    },
    {
      "cell_type": "markdown",
      "source": [
        "*Observation to be added and conclusion"
      ],
      "metadata": {
        "id": "4oNR5d8gdPJ4"
      }
    },
    {
      "cell_type": "code",
      "source": [
        "fig = px.pie(df, names='While working', title='Category Distribution')\n",
        "fig.show()"
      ],
      "metadata": {
        "id": "IaS_-qPV6_RE"
      },
      "execution_count": null,
      "outputs": []
    },
    {
      "cell_type": "markdown",
      "source": [
        "*Observation to be added and conclusion"
      ],
      "metadata": {
        "id": "XVoMR0AfdN7Z"
      }
    },
    {
      "cell_type": "code",
      "source": [
        "fig = px.pie(df, names='Foreign languages', title='Category Distribution')\n",
        "fig.show()"
      ],
      "metadata": {
        "id": "gTa0a1D38TY_"
      },
      "execution_count": null,
      "outputs": []
    },
    {
      "cell_type": "code",
      "source": [],
      "metadata": {
        "id": "GI2SryNn9E2n"
      },
      "execution_count": null,
      "outputs": []
    },
    {
      "cell_type": "markdown",
      "source": [
        "*Observation to be added and conclusion"
      ],
      "metadata": {
        "id": "t9e-D10AdMCf"
      }
    },
    {
      "cell_type": "code",
      "source": [],
      "metadata": {
        "id": "z9V_ZTcidLxJ"
      },
      "execution_count": null,
      "outputs": []
    },
    {
      "cell_type": "code",
      "source": [
        "fig = px.pie(df, names='Primary streaming service', title='Category Distribution')\n",
        "fig.show()"
      ],
      "metadata": {
        "id": "RwgaKYBz8oGc"
      },
      "execution_count": null,
      "outputs": []
    },
    {
      "cell_type": "markdown",
      "source": [
        "*Observation to be added and conclusion"
      ],
      "metadata": {
        "id": "cG94ogKUdASM"
      }
    },
    {
      "cell_type": "code",
      "source": [
        "frequency_counts = df['Frequency [Country]'].value_counts()\n",
        "mean_counts = df['Frequency [Country]'].value_counts().mean()\n",
        "std_counts = df['Frequency [Country]'].value_counts().std()\n",
        "plt.figure(figsize=(10, 6))\n",
        "plt.bar(frequency_counts.index, frequency_counts.values, yerr=std_counts, capsize=5)\n",
        "plt.title('Frequency [Country] with Error Bars')\n",
        "plt.xlabel('Frequency [Country]')\n",
        "plt.ylabel('Count')\n",
        "plt.show()"
      ],
      "metadata": {
        "id": "ugj869qdr-tL"
      },
      "execution_count": null,
      "outputs": []
    },
    {
      "cell_type": "code",
      "source": [
        "frequency_columns = [col for col in df.columns if col.startswith('Frequency')]\n",
        "sns.pairplot(df[frequency_columns])\n",
        "plt.show()"
      ],
      "metadata": {
        "id": "-K06LXyjt3UU"
      },
      "execution_count": null,
      "outputs": []
    },
    {
      "cell_type": "code",
      "source": [
        "fig = px.bar(df, x=\"Frequency [Country]\", title=\"music listening frequency for Country\")\n",
        "fig.show()"
      ],
      "metadata": {
        "id": "jfVj68Nw88en"
      },
      "execution_count": null,
      "outputs": []
    },
    {
      "cell_type": "code",
      "source": [
        "fig = px.bar(df, x=\"Frequency [Classical]\", title=\"music listening frequency for Country\")\n",
        "fig.show()"
      ],
      "metadata": {
        "id": "DR4DwBRa9jZf"
      },
      "execution_count": null,
      "outputs": []
    },
    {
      "cell_type": "code",
      "source": [
        "fig = px.bar(df, x=\"Frequency [EDM]\", title=\"music listening frequency for Country\")\n",
        "fig.show()"
      ],
      "metadata": {
        "id": "J8XJttdWAIBx"
      },
      "execution_count": null,
      "outputs": []
    },
    {
      "cell_type": "code",
      "source": [
        "fig = px.bar(df, x=\"Frequency [Folk]\", title=\"music listening frequency for Country\")\n",
        "fig.show()"
      ],
      "metadata": {
        "id": "-2OQPBydAloF"
      },
      "execution_count": null,
      "outputs": []
    },
    {
      "cell_type": "code",
      "source": [
        "fig = px.bar(df, x=\"Frequency [Gospel]\", title=\"music listening frequency for Country\")\n",
        "fig.show()"
      ],
      "metadata": {
        "id": "B47EkKu3AoDl"
      },
      "execution_count": null,
      "outputs": []
    },
    {
      "cell_type": "code",
      "source": [
        "fig = px.bar(df, x=\"Frequency [Hip hop]\", title=\"music listening frequency for Country\")\n",
        "fig.show()"
      ],
      "metadata": {
        "id": "YjfvmHGCAuLD"
      },
      "execution_count": null,
      "outputs": []
    },
    {
      "cell_type": "code",
      "source": [
        "fig = px.bar(df, x=\"Frequency [Jazz]\", title=\"music listening frequency for Country\")\n",
        "fig.show()"
      ],
      "metadata": {
        "id": "bWwUv4QgAxl9"
      },
      "execution_count": null,
      "outputs": []
    },
    {
      "cell_type": "code",
      "source": [
        "fig = px.bar(df, x=\"Frequency [K pop]\", title=\"music listening frequency for Country\")\n",
        "fig.show()"
      ],
      "metadata": {
        "id": "5m2o_5FJA5tN"
      },
      "execution_count": null,
      "outputs": []
    },
    {
      "cell_type": "code",
      "source": [
        "fig = px.bar(df, x=\"Frequency [Latin]\", title=\"music listening frequency for Country\")\n",
        "fig.show()"
      ],
      "metadata": {
        "id": "Dd0BZffWA8N9"
      },
      "execution_count": null,
      "outputs": []
    },
    {
      "cell_type": "code",
      "source": [
        "fig = px.bar(df, x=\"Frequency [Lofi]\", title=\"music listening frequency for Country\")\n",
        "fig.show()"
      ],
      "metadata": {
        "id": "DMuJ1rZnA-wt"
      },
      "execution_count": null,
      "outputs": []
    },
    {
      "cell_type": "code",
      "source": [
        "fig = px.bar(df, x=\"Frequency [Metal]\", title=\"music listening frequency for Country\")\n",
        "fig.show()"
      ],
      "metadata": {
        "id": "eeZ32hGxBBwu"
      },
      "execution_count": null,
      "outputs": []
    },
    {
      "cell_type": "code",
      "source": [
        "fig = px.bar(df, x=\"Frequency [Pop]\", title=\"music listening frequency for Country\")\n",
        "fig.show()"
      ],
      "metadata": {
        "id": "LDfZx9JgBDyZ"
      },
      "execution_count": null,
      "outputs": []
    },
    {
      "cell_type": "code",
      "source": [
        "fig = px.bar(df, x=\"Frequency [R&B]\", title=\"music listening frequency for Country\")\n",
        "fig.show()"
      ],
      "metadata": {
        "id": "cnU5ouzzBFkr"
      },
      "execution_count": null,
      "outputs": []
    },
    {
      "cell_type": "code",
      "source": [
        "fig = px.bar(df, x=\"Frequency [Rap]\", title=\"music listening frequency for Country\")\n",
        "fig.show()"
      ],
      "metadata": {
        "id": "Vy3EeydrBH1d"
      },
      "execution_count": null,
      "outputs": []
    },
    {
      "cell_type": "code",
      "source": [
        "fig = px.bar(df, x=\"Frequency [Rock]\", title=\"music listening frequency for Country\")\n",
        "fig.show()"
      ],
      "metadata": {
        "id": "Dk3zNO3tBMVr"
      },
      "execution_count": null,
      "outputs": []
    },
    {
      "cell_type": "code",
      "source": [
        "fig = px.bar(df, x=\"Frequency [Video game music]\", title=\"music listening frequency for Country\")\n",
        "fig.show()"
      ],
      "metadata": {
        "id": "fyXFswFMBOOl"
      },
      "execution_count": null,
      "outputs": []
    },
    {
      "cell_type": "code",
      "source": [],
      "metadata": {
        "id": "eDkgNTQmBVTv"
      },
      "execution_count": null,
      "outputs": []
    }
  ]
}