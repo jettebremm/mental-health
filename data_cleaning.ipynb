{
  "nbformat": 4,
  "nbformat_minor": 0,
  "metadata": {
    "colab": {
      "provenance": []
    },
    "kernelspec": {
      "name": "python3",
      "display_name": "Python 3"
    },
    "language_info": {
      "name": "python"
    }
  },
  "cells": [
    {
      "cell_type": "code",
      "execution_count": 1,
      "metadata": {
        "id": "ZOUwkEY4zInH"
      },
      "outputs": [],
      "source": [
        "import pandas as pd\n",
        "import numpy as np\n",
        "import matplotlib.pyplot as plt\n",
        "\n",
        "import seaborn as sns\n",
        "import matplotlib.pyplot as plt\n",
        "%matplotlib inline\n",
        "\n",
        "import datetime as dt"
      ]
    },
    {
      "cell_type": "code",
      "source": [
        "data = pd.read_csv('bq-results.csv')"
      ],
      "metadata": {
        "id": "6wfG3fRCzpkZ"
      },
      "execution_count": 5,
      "outputs": []
    },
    {
      "cell_type": "code",
      "source": [
        "df = data.copy()"
      ],
      "metadata": {
        "id": "nczbmVSXzw3W"
      },
      "execution_count": 6,
      "outputs": []
    },
    {
      "cell_type": "code",
      "source": [
        "df.info()"
      ],
      "metadata": {
        "colab": {
          "base_uri": "https://localhost:8080/"
        },
        "id": "UIifqAq91hYh",
        "outputId": "074ad46b-65cc-48bf-c48f-fd1800144064"
      },
      "execution_count": 8,
      "outputs": [
        {
          "output_type": "stream",
          "name": "stdout",
          "text": [
            "<class 'pandas.core.frame.DataFrame'>\n",
            "RangeIndex: 736 entries, 0 to 735\n",
            "Data columns (total 32 columns):\n",
            " #   Column                      Non-Null Count  Dtype  \n",
            "---  ------                      --------------  -----  \n",
            " 0   Timestamp                   736 non-null    object \n",
            " 1   Age                         735 non-null    float64\n",
            " 2   Primary_streaming_service   735 non-null    object \n",
            " 3   Hours_per_day               736 non-null    float64\n",
            " 4   While_working               733 non-null    object \n",
            " 5   Instrumentalist             732 non-null    object \n",
            " 6   Composer                    735 non-null    object \n",
            " 7   Fav_genre                   736 non-null    object \n",
            " 8   Exploratory                 736 non-null    bool   \n",
            " 9   Foreign_languages           732 non-null    object \n",
            " 10  BPM_range                   736 non-null    object \n",
            " 11  Frequency_Classical         736 non-null    object \n",
            " 12  Frequency_Country           736 non-null    object \n",
            " 13  Frequency_EDM               736 non-null    object \n",
            " 14  Frequency_Folk              736 non-null    object \n",
            " 15  Frequency_Gospel            736 non-null    object \n",
            " 16  Frequency_Hip_hop           736 non-null    object \n",
            " 17  Frequency_Jazz              736 non-null    object \n",
            " 18  Frequency_K_pop             736 non-null    object \n",
            " 19  Frequency_Latin             736 non-null    object \n",
            " 20  Frequency_Lofi              736 non-null    object \n",
            " 21  Frequency_Metal             736 non-null    object \n",
            " 22  Frequency_Pop               736 non-null    object \n",
            " 23  Frequency_R_B               736 non-null    object \n",
            " 24  Frequency_Rap               736 non-null    object \n",
            " 25  Frequency_Rock              736 non-null    object \n",
            " 26  Frequency_Video_game_music  736 non-null    object \n",
            " 27  Anxiety                     736 non-null    float64\n",
            " 28  Depression                  736 non-null    float64\n",
            " 29  Insomnia                    736 non-null    int64  \n",
            " 30  OCD                         736 non-null    float64\n",
            " 31  Music_effects               728 non-null    object \n",
            "dtypes: bool(1), float64(5), int64(1), object(25)\n",
            "memory usage: 179.1+ KB\n"
          ]
        }
      ]
    }
  ]
}